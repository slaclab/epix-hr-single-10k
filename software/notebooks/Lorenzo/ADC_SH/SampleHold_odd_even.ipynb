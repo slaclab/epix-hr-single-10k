{
 "cells": [
  {
   "cell_type": "code",
   "execution_count": 2,
   "id": "afe95d27-a75e-4e4b-a273-5e7348c4f986",
   "metadata": {
    "tags": []
   },
   "outputs": [],
   "source": [
    "# Setup the library\n",
    "import pyrogue as pr\n",
    "import os, sys\n",
    "import matplotlib.pyplot as plt\n",
    "import time\n",
    "import numpy as np\n",
    "import math\n",
    "\n",
    "top_level=f'{os.getcwd()}/../../'\n",
    "pr.addLibraryPath( f'{top_level}/scripts' )\n",
    "import setupLibPaths\n",
    "import epix_hr_single_10k\n",
    "import ePixViewer.Cameras as cameras\n",
    "\n",
    "%run ../ASIC_V4/supportFunctions.ipynb"
   ]
  },
  {
   "cell_type": "code",
   "execution_count": 3,
   "id": "73a91cdc-f4b6-4051-accd-fcfa3f258f57",
   "metadata": {
    "tags": []
   },
   "outputs": [
    {
     "name": "stdout",
     "output_type": "stream",
     "text": [
      "Simulation mode : False\n",
      "Start: Started zmqServer on ports 9099-9101\n",
      "    To start a gui: python -m pyrogue gui --server='localhost:9099'\n",
      "    To use a virtual client: client = pyrogue.interfaces.VirtualClient(addr='localhost', port=9099)\n"
     ]
    }
   ],
   "source": [
    "# Create and start the root class\n",
    "root = epix_hr_single_10k.RootLCLSIITiming(\n",
    "    top_level   = top_level,\n",
    "    sim         = False,\n",
    "    dev         = '/dev/datadev_0',\n",
    "    asicVersion = 4\n",
    ")\n",
    "root.start()"
   ]
  },
  {
   "cell_type": "code",
   "execution_count": 4,
   "id": "4b684e4b-b333-4ce0-83c4-deec2eb1bf3b",
   "metadata": {
    "tags": []
   },
   "outputs": [
    {
     "name": "stdout",
     "output_type": "stream",
     "text": [
      "###################################################\n",
      "#             Firmware Version                    #\n",
      "###################################################\n",
      "Path         = ePixHr10kT.Core.AxiVersion\n",
      "FwVersion    = 0x3010000\n",
      "UpTime       = 1 day, 19:29:27\n",
      "GitHash      = 0x563a68027652195474e6a610098a11775111615a\n",
      "XilinxDnaId  = 0x4002000101604ee71c618205\n",
      "FwTarget     = EpixHr10kTLclsIITiming\n",
      "BuildEnv     = Vivado v2022.2\n",
      "BuildServer  = rdsrv408 (Ubuntu 20.04.6 LTS)\n",
      "BuildDate    = Thu 02 Nov 2023 02:16:58 PM PDT\n",
      "Builder      = ddoering\n",
      "###################################################\n"
     ]
    }
   ],
   "source": [
    "# Create useful pointers\n",
    "AxiVersion = root.Core.AxiVersion\n",
    "print ( '###################################################')\n",
    "print ( '#             Firmware Version                    #')\n",
    "print ( '###################################################')\n",
    "AxiVersion.printStatus()\n",
    "print ( '###################################################')"
   ]
  },
  {
   "cell_type": "markdown",
   "id": "8c85385d-36f3-44ca-9da9-55b95c984712",
   "metadata": {
    "tags": []
   },
   "source": [
    "# Baseline TEST all - 320MHz refGenB,RefGenC modified"
   ]
  },
  {
   "cell_type": "code",
   "execution_count": 5,
   "id": "c8943f6c-9e4b-4c1a-bbf5-51cc5bd5ee19",
   "metadata": {
    "tags": []
   },
   "outputs": [
    {
     "name": "stdout",
     "output_type": "stream",
     "text": [
      "Camera  ePixHr10kTBatcher  selected.\n"
     ]
    }
   ],
   "source": [
    "MAX_NUMBER_OF_FRAMES_PER_BATCH  = 1000\n",
    "cameraType            = 'ePixHr10kTBatcher'\n",
    "bitMask               = 0xffff\n",
    "currentCam = cameras.Camera(cameraType = cameraType)\n",
    "currentCam.bitMask = bitMask"
   ]
  },
  {
   "cell_type": "code",
   "execution_count": 6,
   "id": "e8da0035-14d6-419f-8113-33827612b967",
   "metadata": {
    "tags": []
   },
   "outputs": [
    {
     "name": "stdout",
     "output_type": "stream",
     "text": [
      "Rysync ASIC started\n",
      "Init ASIC script started\n",
      "Loading MMCM configuration\n",
      "/u3/ePix10k/epix-hr-single-10k/software/notebooks/Lorenzo/../..//yml/ePixHr10kT_MMCM_320MHz.yml\n",
      "Completed\n",
      "Loading supply configuration\n",
      "/u3/ePix10k/epix-hr-single-10k/software/notebooks/Lorenzo/../..//yml/ePixHr10kT_PowerSupply_Enable.yml\n",
      "Loading register control (waveforms) configuration\n",
      "/u3/ePix10k/epix-hr-single-10k/software/notebooks/Lorenzo/../..//yml/ePixHr10kT_RegisterControl_R0Width12us_AcqWidth24us_320MHz.yml\n",
      "Loading packet registers\n",
      "Disabling packet lanes for ASIC 0\n",
      "Disabling packet lanes for ASIC 1\n",
      "Disabling packet lanes for ASIC 3\n",
      "/u3/ePix10k/epix-hr-single-10k/software/notebooks/Lorenzo/../..//yml/ePixHr10kT_PacketRegisters.yml\n",
      "Taking asic off of reset\n",
      "Loading ASIC and timing configuration\n",
      "Loading  /u3/ePix10k/epix-hr-single-10k/software/notebooks/Lorenzo/../..//yml/ePixHr10kT_PLLBypass_248MHz_ASIC_2.yml\n",
      "Command executed :  <class 'pyrogue._Command.BaseCommand'> - ePixHr10kT.EpixHR.Hr10kTAsic2.ClearMatrix\n",
      "Loading Trigger settings\n",
      "/u3/ePix10k/epix-hr-single-10k/software/notebooks/Lorenzo/../..//yml/ePixHr10kT_TriggerRegisters_100Hz.yml\n",
      "Initialization routine completed.\n"
     ]
    }
   ],
   "source": [
    "#Initialze the camera\n",
    "#[routine, asic0, asic1, asic2, asic3]'\n",
    "initSequence = 5\n",
    "root.EpixHR.InitASIC([initSequence,0,0,1,0])\n",
    "#points to the ASIC device under test\n",
    "ASIC = root.EpixHR.Hr10kTAsic2\n",
    "root.EpixHR.BatcherEventBuilder0.Blowoff.set(True)\n",
    "root.EpixHR.BatcherEventBuilder0.Bypass.set(1)\n",
    "root.EpixHR.BatcherEventBuilder1.Blowoff.set(False)\n",
    "root.EpixHR.BatcherEventBuilder1.Bypass.set(1)\n",
    "root.EpixHR.BatcherEventBuilder2.Blowoff.set(True)"
   ]
  },
  {
   "cell_type": "code",
   "execution_count": 7,
   "id": "f7c66ea8-48b8-433a-a0af-58c18b550c7a",
   "metadata": {
    "tags": []
   },
   "outputs": [],
   "source": [
    "#Makes sure triggers are off\n",
    "root.EpixHR.TriggerRegisters.RunTriggerEnable.set(False)\n",
    "time.sleep(0.1)\n",
    "root.EpixHR.TriggerRegisters.RunTriggerEnable.set(True)\n",
    "time.sleep(10)\n",
    "root.EpixHR.TriggerRegisters.RunTriggerEnable.set(False)\n",
    "time.sleep(0.1)\n"
   ]
  },
  {
   "cell_type": "code",
   "execution_count": 8,
   "id": "baaa5742-4e2e-4a92-8dbe-f39c86d09067",
   "metadata": {
    "tags": []
   },
   "outputs": [
    {
     "name": "stdout",
     "output_type": "stream",
     "text": [
      "Locked lanes: 3f000\n"
     ]
    }
   ],
   "source": [
    "#use system with batcher and missing ASICs\n",
    "root.EpixHR.SspLowSpeedDecoderReg.enable.set(True)\n",
    "print (\"Locked lanes: %x\" % root.EpixHR.SspLowSpeedDecoderReg.Locked.get())\n",
    "#Only ASIC 1 is available so disable the 6 lower lanes\n",
    "root.EpixHR.PacketRegisters0.DisableLane.set(0x3FF)\n",
    "root.EpixHR.PacketRegisters1.DisableLane.set(0xFC0)\n",
    "\n"
   ]
  },
  {
   "cell_type": "code",
   "execution_count": 9,
   "id": "3b25c2d3-8346-4203-bf99-b27ae9bc27e0",
   "metadata": {
    "tags": []
   },
   "outputs": [
    {
     "name": "stdout",
     "output_type": "stream",
     "text": [
      "4\n",
      "1\n",
      "4\n",
      "38\n",
      "53\n"
     ]
    }
   ],
   "source": [
    "print(ASIC.Preamp.get())\n",
    "print(ASIC.Vld1_b.get())\n",
    "print(ASIC.Pixel_CB.get())\n",
    "print(ASIC.Filter_DAC.get())\n",
    "print(ASIC.VRef_DAC.get())"
   ]
  },
  {
   "cell_type": "code",
   "execution_count": 10,
   "id": "ab7ea971-4957-4d0c-884e-00269c7f577e",
   "metadata": {
    "tags": []
   },
   "outputs": [
    {
     "name": "stdout",
     "output_type": "stream",
     "text": [
      "DHG True\n",
      "RefGenB 3\n",
      "RefGenC 2\n",
      "S2D_1_b 0\n",
      "shvc_DAC 23\n",
      "S2dDacBias 3\n",
      "\n",
      "DHG True\n",
      "RefGenB 2\n",
      "RefGenC 3\n",
      "S2D_1_b 0\n",
      "shvc_DAC 23\n",
      "S2dDacBias 3\n"
     ]
    }
   ],
   "source": [
    "print('DHG', ASIC.DHg.get())\n",
    "print('RefGenB', ASIC.RefGenB.get())\n",
    "print('RefGenC', ASIC.RefGenC.get())\n",
    "print('S2D_1_b', ASIC.S2D_1_b.get())\n",
    "print('shvc_DAC', ASIC.shvc_DAC.get())\n",
    "print('S2dDacBias', ASIC.S2dDacBias.get())\n",
    "DHg = True\n",
    "RefGenB = 2\n",
    "RefGenC = 3\n",
    "S2D_1_b = 0\n",
    "shvc_DAC = 23\n",
    "S2dDacBias = 3\n",
    "print(\"\")\n",
    "ASIC.DHg.set(DHg)  \n",
    "ASIC.RefGenB.set(RefGenB)\n",
    "ASIC.RefGenC.set(RefGenC)\n",
    "ASIC.S2D_1_b.set(S2D_1_b)\n",
    "ASIC.shvc_DAC.set(shvc_DAC)\n",
    "ASIC.S2dDacBias.set(S2dDacBias)\n",
    "print('DHG', ASIC.DHg.get())\n",
    "print('RefGenB', ASIC.RefGenB.get())\n",
    "print('RefGenC', ASIC.RefGenC.get())\n",
    "print('S2D_1_b', ASIC.S2D_1_b.get())\n",
    "print('shvc_DAC', ASIC.shvc_DAC.get())\n",
    "print('S2dDacBias', ASIC.S2dDacBias.get())"
   ]
  },
  {
   "cell_type": "code",
   "execution_count": 31,
   "id": "ea634678-8465-4e26-ab9f-f8762b1edb05",
   "metadata": {},
   "outputs": [
    {
     "name": "stdout",
     "output_type": "stream",
     "text": [
      "Preamp 4\n",
      "Vld1_b 1\n",
      "Pixel_CB 4\n",
      "Filter_DAC 38\n",
      "VRef_DAC 53\n",
      "Command executed :  <class 'pyrogue._Command.BaseCommand'> - ePixHr10kT.EpixHR.Hr10kTAsic2.ClearMatrix\n",
      "Command executed :  <class 'pyrogue._Command.BaseCommand'> - ePixHr10kT.EpixHR.Hr10kTAsic2.ClearMatrix\n",
      "Cfg done\n",
      "/u1/lorenzor/10kthr_data/temp.dat\n",
      "Aquisition Counter 768776\n",
      "DAQ Counter 668684\n",
      "Number of frames received: 1\n",
      "Delta Aquisition Counter: 2004\n",
      "Number of frames received: 2004\n",
      "Starting to get data set 0\n",
      "Read 1000 frames\n",
      "numberOfFrames in the 3D array:  1000\n",
      "Starting descrambling images\n",
      "(1000, 56072)\n",
      "Done\n",
      "(2000, 145, 384)\n"
     ]
    }
   ],
   "source": [
    "#Makes sure triggers are off\n",
    "root.EpixHR.TriggerRegisters.RunTriggerEnable.set(False)\n",
    "time.sleep(0.2)\n",
    "root.EpixHR.TriggerRegisters.RunTriggerEnable.set(True)\n",
    "time.sleep(0.2)\n",
    "root.EpixHR.TriggerRegisters.RunTriggerEnable.set(False)\n",
    "time.sleep(0.2)\n",
    "\n",
    "# Set references \n",
    "Preamp = 4 #4\n",
    "Vld1_b = 1 #1\n",
    "Pixel_CB= 4 #4\n",
    "Filter_DAC= 38 #33\n",
    "VRef_DAC = 53 #22\n",
    "\n",
    "setPixel (Preamp, Vld1_b, Pixel_CB, Filter_DAC, VRef_DAC)\n",
    "\n",
    "pedsList = [12,12,8,0,0]\n",
    "trbitList = [True,0,0,True,0]\n",
    "\n",
    "#########\n",
    "index = 0\n",
    "trbit = trbitList[index]\n",
    "ASIC.trbit.set(trbit)\n",
    "peds = pedsList[index]\n",
    "ASIC.ClearMatrix(peds)\n",
    "######################################################################################################################\n",
    "# Remove previous dataset\n",
    "filename = (f'/u1/lorenzor/10kthr_data/temp.dat')\n",
    "\n",
    "#########\n",
    "index = 1\n",
    "trbit = trbitList[index]\n",
    "ASIC.trbit.set(trbit)\n",
    "peds = pedsList[index]\n",
    "ASIC.ClearMatrix(peds)\n",
    "\n",
    "print('Cfg done')\n",
    "\n",
    "\n",
    "# FH = complete_test(filename)\n",
    "imgDesc = run_asic_test(numFrames = 2000, initialDelay = 0)\n",
    "\n",
    "print('Done')\n",
    "print(np.shape(imgDesc))\n",
    "\n",
    "\n"
   ]
  },
  {
   "cell_type": "code",
   "execution_count": 38,
   "id": "cd71f264-4802-4901-bed5-5a5a32805cca",
   "metadata": {},
   "outputs": [
    {
     "data": {
      "text/plain": [
       "(array([  4.,   0.,   0.,   0.,   0.,   0.,   0.,   0.,   2.,   2.,   4.,\n",
       "          4.,   4.,  40.,  34.,  42.,  82., 160.,  96.,  74.,  72.,  86.,\n",
       "        204., 134., 120.,  98., 208.,  54.,  80., 132.,  96., 122.,  12.,\n",
       "         10.,   4.,   8.,   4.,   2.,   0.,   6.]),\n",
       " array([6284.   , 6285.225, 6286.45 , 6287.675, 6288.9  , 6290.125,\n",
       "        6291.35 , 6292.575, 6293.8  , 6295.025, 6296.25 , 6297.475,\n",
       "        6298.7  , 6299.925, 6301.15 , 6302.375, 6303.6  , 6304.825,\n",
       "        6306.05 , 6307.275, 6308.5  , 6309.725, 6310.95 , 6312.175,\n",
       "        6313.4  , 6314.625, 6315.85 , 6317.075, 6318.3  , 6319.525,\n",
       "        6320.75 , 6321.975, 6323.2  , 6324.425, 6325.65 , 6326.875,\n",
       "        6328.1  , 6329.325, 6330.55 , 6331.775, 6333.   ]),\n",
       " <BarContainer object of 40 artists>)"
      ]
     },
     "execution_count": 38,
     "metadata": {},
     "output_type": "execute_result"
    },
    {
     "data": {
      "image/png": "[encoded data removed]",
      "text/plain": [
       "<Figure size 640x480 with 1 Axes>"
      ]
     },
     "metadata": {},
     "output_type": "display_data"
    }
   ],
   "source": [
    "plt.hist(imgDesc[:,1,1], bins=40)"
   ]
  },
  {
   "cell_type": "code",
   "execution_count": 51,
   "id": "81cd4f1f-2f64-4783-b295-747bd2d22f61",
   "metadata": {},
   "outputs": [
    {
     "name": "stdout",
     "output_type": "stream",
     "text": [
      "/u1/lorenzor/10kthr_data/temp.dat\n",
      "Aquisition Counter 776785\n",
      "DAQ Counter 676693\n",
      "Number of frames received: 2\n",
      "Delta Aquisition Counter: 2004\n",
      "Number of frames received: 2004\n",
      "Starting to get data set 0\n",
      "Read 1000 frames\n",
      "numberOfFrames in the 3D array:  1000\n",
      "Starting descrambling images\n",
      "(1000, 56072)\n"
     ]
    }
   ],
   "source": [
    "ASIC.mTest.set(True)\n",
    "\n",
    "#sets HSDAC device\n",
    "root.EpixHR.HSDac.enable.set(True)\n",
    "#reset status\n",
    "root.EpixHR.HSDac.WFEnabled.set(False)\n",
    "root.EpixHR.HSDac.waveformSource.set(0)\n",
    "root.EpixHR.HSDac.externalUpdateEn.set(False)\n",
    "root.EpixHR.HSDac.run.set(False)\n",
    "\n",
    "#configure\n",
    "root.EpixHR.HSDac.rCStartValue.set(0)\n",
    "root.EpixHR.HSDac.rCStopValue.set(65535)\n",
    "root.EpixHR.HSDac.rCStep.set(50)\n",
    "root.EpixHR.HSDac.WFEnabled.set(True)\n",
    "root.EpixHR.HSDac.waveformSource.set(1)\n",
    "root.EpixHR.HSDac.externalUpdateEn.set(True)\n",
    "root.EpixHR.HSDac.run.set(True)\n",
    "\n",
    "imgDesc = run_asic_test(numFrames = 2000, initialDelay = 0)\n"
   ]
  },
  {
   "cell_type": "code",
   "execution_count": 50,
   "id": "33240bac-60f7-4714-a377-c076f2af080b",
   "metadata": {},
   "outputs": [
    {
     "data": {
      "text/plain": [
       "[<matplotlib.lines.Line2D at 0x7f2787e1c4c0>]"
      ]
     },
     "execution_count": 50,
     "metadata": {},
     "output_type": "execute_result"
    },
    {
     "data": {
      "image/png": "[encoded data removed]",
      "text/plain": [
       "<Figure size 640x480 with 1 Axes>"
      ]
     },
     "metadata": {},
     "output_type": "display_data"
    }
   ],
   "source": [
    "plt.plot(imgDesc[:,1,1])"
   ]
  },
  {
   "cell_type": "code",
   "execution_count": null,
   "id": "a91c9cc9-cdd1-47de-87ee-aa36f82e854a",
   "metadata": {},
   "outputs": [],
   "source": []
  }
 ],
 "metadata": {
  "kernelspec": {
   "display_name": "Python 3 (ipykernel)",
   "language": "python",
   "name": "python3"
  },
  "language_info": {
   "codemirror_mode": {
    "name": "ipython",
    "version": 3
   },
   "file_extension": ".py",
   "mimetype": "text/x-python",
   "name": "python",
   "nbconvert_exporter": "python",
   "pygments_lexer": "ipython3",
   "version": "3.9.15"
  }
 },
 "nbformat": 4,
 "nbformat_minor": 5
}
