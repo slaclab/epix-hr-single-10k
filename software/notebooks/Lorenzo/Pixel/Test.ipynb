{
 "cells": [
  {
   "cell_type": "code",
   "execution_count": 1,
   "id": "afe95d27-a75e-4e4b-a273-5e7348c4f986",
   "metadata": {
    "tags": []
   },
   "outputs": [
    {
     "name": "stdout",
     "output_type": "stream",
     "text": [
      "The history saving thread hit an unexpected error (OperationalError('attempt to write a readonly database')).History will not be written to the database.\n"
     ]
    }
   ],
   "source": [
    "# Setup the library\n",
    "import pyrogue as pr\n",
    "import os, sys\n",
    "import matplotlib.pyplot as plt\n",
    "import time\n",
    "import numpy as np\n",
    "import math\n",
    "\n",
    "from scipy import stats\n",
    "from scipy.optimize import curve_fit\n",
    "from scipy.stats import norm\n",
    "\n",
    "\n",
    "top_level=f'{os.getcwd()}/../../../'\n",
    "pr.addLibraryPath( f'{top_level}/scripts' )\n",
    "import setupLibPaths\n",
    "import epix_hr_single_10k\n",
    "import ePixViewer.Cameras as cameras\n",
    "\n",
    "%run ../../ASIC_V4/supportFunctions.ipynb"
   ]
  },
  {
   "cell_type": "code",
   "execution_count": 2,
   "id": "73a91cdc-f4b6-4051-accd-fcfa3f258f57",
   "metadata": {
    "tags": []
   },
   "outputs": [
    {
     "name": "stdout",
     "output_type": "stream",
     "text": [
      "Simulation mode : False\n",
      "Start: Started zmqServer on ports 9099-9101\n",
      "    To start a gui: python -m pyrogue gui --server='localhost:9099'\n",
      "    To use a virtual client: client = pyrogue.interfaces.VirtualClient(addr='localhost', port=9099)\n"
     ]
    }
   ],
   "source": [
    "# Create and start the root class\n",
    "root = epix_hr_single_10k.RootLCLSIITiming(\n",
    "    top_level   = top_level,\n",
    "    sim         = False,\n",
    "    dev         = '/dev/datadev_0',\n",
    "    asicVersion = 4\n",
    ")\n",
    "root.start()"
   ]
  },
  {
   "cell_type": "code",
   "execution_count": 3,
   "id": "4b684e4b-b333-4ce0-83c4-deec2eb1bf3b",
   "metadata": {
    "tags": []
   },
   "outputs": [
    {
     "name": "stdout",
     "output_type": "stream",
     "text": [
      "###################################################\n",
      "#             Firmware Version                    #\n",
      "###################################################\n",
      "Path         = ePixHr10kT.Core.AxiVersion\n",
      "FwVersion    = 0x3010000\n",
      "UpTime       = 2 days, 11:17:58\n",
      "GitHash      = 0x563a68027652195474e6a610098a11775111615a\n",
      "XilinxDnaId  = 0x4002000101604ee71c61a3c5\n",
      "FwTarget     = EpixHr10kTLclsIITiming\n",
      "BuildEnv     = Vivado v2022.2\n",
      "BuildServer  = rdsrv408 (Ubuntu 20.04.6 LTS)\n",
      "BuildDate    = Thu 02 Nov 2023 02:16:58 PM PDT\n",
      "Builder      = ddoering\n",
      "###################################################\n"
     ]
    }
   ],
   "source": [
    "# Create useful pointers\n",
    "AxiVersion = root.Core.AxiVersion\n",
    "print ( '###################################################')\n",
    "print ( '#             Firmware Version                    #')\n",
    "print ( '###################################################')\n",
    "AxiVersion.printStatus()\n",
    "print ( '###################################################')"
   ]
  },
  {
   "cell_type": "markdown",
   "id": "792af6a2-7526-41ab-90d7-26c2aba40700",
   "metadata": {},
   "source": [
    "# Helper functions"
   ]
  },
  {
   "cell_type": "code",
   "execution_count": 4,
   "id": "11883b87-8f90-4a66-b49d-2b955613bfd8",
   "metadata": {},
   "outputs": [],
   "source": [
    "# Define the linear function\n",
    "def linear_function(x, a, b):\n",
    "    return a * x + b\n",
    "\n",
    "def getResidualsLinFit(x,y):\n",
    "    \n",
    "    weights = np.exp(-(x - np.mean(x))**2 / (2 * np.std(x)**2))\n",
    "    params, covariance = curve_fit(linear_function, x, y, sigma=1/weights, absolute_sigma=True)\n",
    "    y_fit = linear_function(x, *params)\n",
    "   \n",
    "    return (y - y_fit)\n",
    "\n",
    "def getGainLinFit(x,y):\n",
    "    \n",
    "    weights = np.exp(-(x - np.mean(x))**2 / (2 * np.std(x)**2))\n",
    "    params, covariance = curve_fit(linear_function, x, y, sigma=1/weights, absolute_sigma=True)\n",
    "    y_fit = linear_function(x, *params)\n",
    "   \n",
    "    return params[0]"
   ]
  },
  {
   "cell_type": "markdown",
   "id": "8c85385d-36f3-44ca-9da9-55b95c984712",
   "metadata": {
    "tags": []
   },
   "source": [
    "# Initialization"
   ]
  },
  {
   "cell_type": "code",
   "execution_count": 5,
   "id": "c8943f6c-9e4b-4c1a-bbf5-51cc5bd5ee19",
   "metadata": {
    "tags": []
   },
   "outputs": [
    {
     "name": "stdout",
     "output_type": "stream",
     "text": [
      "Camera  ePixHr10kTBatcher  selected.\n"
     ]
    }
   ],
   "source": [
    "MAX_NUMBER_OF_FRAMES_PER_BATCH  = 1000\n",
    "cameraType            = 'ePixHr10kTBatcher'\n",
    "bitMask               = 0xffff\n",
    "currentCam = cameras.Camera(cameraType = cameraType)\n",
    "currentCam.bitMask = bitMask"
   ]
  },
  {
   "cell_type": "code",
   "execution_count": 6,
   "id": "e8da0035-14d6-419f-8113-33827612b967",
   "metadata": {
    "tags": []
   },
   "outputs": [
    {
     "name": "stdout",
     "output_type": "stream",
     "text": [
      "Rysync ASIC started\n",
      "Init ASIC script started\n",
      "Loading MMCM configuration\n",
      "/u3/ePix10k/epix-hr-single-10k/software/notebooks/Lorenzo/Pixel/../../..//yml/ePixHr10kT_MMCM_320MHz.yml\n",
      "Completed\n",
      "Loading supply configuration\n",
      "/u3/ePix10k/epix-hr-single-10k/software/notebooks/Lorenzo/Pixel/../../..//yml/ePixHr10kT_PowerSupply_Enable.yml\n",
      "Loading register control (waveforms) configuration\n",
      "/u3/ePix10k/epix-hr-single-10k/software/notebooks/Lorenzo/Pixel/../../..//yml/ePixHr10kT_RegisterControl_R0Width12us_AcqWidth24us_320MHz.yml\n",
      "Loading packet registers\n",
      "Disabling packet lanes for ASIC 0\n",
      "Disabling packet lanes for ASIC 1\n",
      "Disabling packet lanes for ASIC 3\n",
      "/u3/ePix10k/epix-hr-single-10k/software/notebooks/Lorenzo/Pixel/../../..//yml/ePixHr10kT_PacketRegisters.yml\n",
      "Taking asic off of reset\n",
      "Loading ASIC and timing configuration\n",
      "Loading  /u3/ePix10k/epix-hr-single-10k/software/notebooks/Lorenzo/Pixel/../../..//yml/ePixHr10kT_PLLBypass_248MHz_ASIC_2.yml\n",
      "Command executed :  <class 'pyrogue._Command.BaseCommand'> - ePixHr10kT.EpixHR.Hr10kTAsic2.ClearMatrix\n",
      "Loading Trigger settings\n",
      "/u3/ePix10k/epix-hr-single-10k/software/notebooks/Lorenzo/Pixel/../../..//yml/ePixHr10kT_TriggerRegisters_100Hz.yml\n",
      "Initialization routine completed.\n"
     ]
    }
   ],
   "source": [
    "#Initialze the camera\n",
    "#[routine, asic0, asic1, asic2, asic3]'\n",
    "initSequence = 5\n",
    "root.EpixHR.InitASIC([initSequence,0,0,1,0])\n",
    "#points to the ASIC device under test\n",
    "ASIC = root.EpixHR.Hr10kTAsic2\n",
    "root.EpixHR.BatcherEventBuilder0.Blowoff.set(True)\n",
    "root.EpixHR.BatcherEventBuilder0.Bypass.set(1)\n",
    "root.EpixHR.BatcherEventBuilder1.Blowoff.set(False)\n",
    "root.EpixHR.BatcherEventBuilder1.Bypass.set(1)\n",
    "root.EpixHR.BatcherEventBuilder2.Blowoff.set(True)"
   ]
  },
  {
   "cell_type": "code",
   "execution_count": 7,
   "id": "f7c66ea8-48b8-433a-a0af-58c18b550c7a",
   "metadata": {
    "tags": []
   },
   "outputs": [
    {
     "name": "stdout",
     "output_type": "stream",
     "text": [
      "Locked lanes: 3f000\n"
     ]
    }
   ],
   "source": [
    "#Makes sure triggers are off\n",
    "root.EpixHR.TriggerRegisters.RunTriggerEnable.set(False)\n",
    "time.sleep(0.1)\n",
    "root.EpixHR.TriggerRegisters.RunTriggerEnable.set(True)\n",
    "time.sleep(10)\n",
    "root.EpixHR.TriggerRegisters.RunTriggerEnable.set(False)\n",
    "time.sleep(0.1)\n",
    "\n",
    "#use system with batcher and missing ASICs\n",
    "root.EpixHR.SspLowSpeedDecoderReg.enable.set(True)\n",
    "print (\"Locked lanes: %x\" % root.EpixHR.SspLowSpeedDecoderReg.Locked.get())\n",
    "#Only ASIC 1 is available so disable the 6 lower lanes\n",
    "root.EpixHR.PacketRegisters0.DisableLane.set(0x3FF)\n",
    "root.EpixHR.PacketRegisters1.DisableLane.set(0xFC0)"
   ]
  },
  {
   "cell_type": "code",
   "execution_count": 8,
   "id": "44426e36-64b5-439f-ac32-03a48b873c6f",
   "metadata": {},
   "outputs": [
    {
     "name": "stdout",
     "output_type": "stream",
     "text": [
      "\n",
      "Pixel [10, 10]\n",
      "Pixel setting (0: AR, 4: forced switch, 8: fixed low, 12: fixed high): 0\n",
      "Writing individula pixel\n",
      "Pixel setting (0: AR, 4: forced switch, 8: fixed low, 12: fixed high): 1\n",
      "\n",
      "Pixel [10, 42]\n",
      "Pixel setting (0: AR, 4: forced switch, 8: fixed low, 12: fixed high): 0\n",
      "Writing individula pixel\n",
      "Pixel setting (0: AR, 4: forced switch, 8: fixed low, 12: fixed high): 5\n",
      "\n",
      "Pixel [42, 10]\n",
      "Pixel setting (0: AR, 4: forced switch, 8: fixed low, 12: fixed high): 0\n",
      "Writing individula pixel\n",
      "Pixel setting (0: AR, 4: forced switch, 8: fixed low, 12: fixed high): 9\n",
      "\n",
      "Pixel [42, 42]\n",
      "Pixel setting (0: AR, 4: forced switch, 8: fixed low, 12: fixed high): 0\n",
      "Writing individula pixel\n",
      "Pixel setting (0: AR, 4: forced switch, 8: fixed low, 12: fixed high): 13\n"
     ]
    }
   ],
   "source": [
    "# Set pixel configuration\n",
    "pixelList = [[10, 10, 1],[10, 42, 5],[42, 10, 9],[42, 42, 13]]\n",
    "pixelOffset = 0\n",
    "pixelListRB = [[20, 30+pixelOffset, 1],[20, 35+pixelOffset, 5],[20, 40+pixelOffset, 9],[20, 45+pixelOffset, 13]]\n",
    "for i in range(len(pixelList)):\n",
    "    print(f'\\nPixel [%d, %d]' %(pixelList[i][0], pixelList[i][1]))\n",
    "    print (f'Pixel setting (0: AR, 4: forced switch, 8: fixed low, 12: fixed high): %d' % readPixelConfig(ASIC, pixelList[i][0], pixelList[i][1]))\n",
    "    print (f'Writing individula pixel')\n",
    "    writedPixelConfig(ASIC, pixelList[i][0], pixelList[i][1], pixelList[i][2])\n",
    "    print (f'Pixel setting (0: AR, 4: forced switch, 8: fixed low, 12: fixed high): %d' % readPixelConfig(ASIC, pixelList[i][0], pixelList[i][1]))\n",
    "\n",
    "for i in range(192):    \n",
    "    writedPixelConfig(ASIC, 25, i, 1)\n"
   ]
  },
  {
   "cell_type": "code",
   "execution_count": 19,
   "id": "ea634678-8465-4e26-ab9f-f8762b1edb05",
   "metadata": {},
   "outputs": [
    {
     "name": "stdout",
     "output_type": "stream",
     "text": [
      "Preamp 3\n",
      "Vld1_b 1\n",
      "Pixel_CB 4\n",
      "Filter_DAC 24\n",
      "VRef_DAC 40\n",
      "Check trbit (0: medium gain, 1: high gain): 1\n"
     ]
    }
   ],
   "source": [
    "#Makes sure triggers are off\n",
    "root.EpixHR.TriggerRegisters.RunTriggerEnable.set(False)\n",
    "time.sleep(0.2)\n",
    "root.EpixHR.TriggerRegisters.RunTriggerEnable.set(True)\n",
    "time.sleep(0.2)\n",
    "root.EpixHR.TriggerRegisters.RunTriggerEnable.set(False)\n",
    "time.sleep(0.2)\n",
    "\n",
    "# ------------------------------------ ADC\n",
    "# Disable external DAC\n",
    "ASIC.mTest.set(False)\n",
    "\n",
    "# ADC settings\n",
    "ASIC.RefGenB.set(1) #2 bits\n",
    "ASIC.RefGenC.set(2) #2 bits\n",
    "ASIC.S2D_1_b.set(0) #3 bits\n",
    "ASIC.shvc_DAC.set(30) #6 bits\n",
    "ASIC.S2dDacBias.set(3)\n",
    "ASIC.DHg.set(False)\n",
    "\n",
    "# ------------------------------------ Pixel\n",
    "# Set references \n",
    "Preamp     = 3 #4\n",
    "Vld1_b     = 1 #1\n",
    "Pixel_CB   = 4 #4\n",
    "Filter_DAC = 24 #38\n",
    "VRef_DAC   = 40 #53\n",
    "CompTH_DAC = 28\n",
    "\n",
    "# Write data\n",
    "setPixel (Preamp, Vld1_b, Pixel_CB, Filter_DAC, VRef_DAC)\n",
    "ASIC.CompTH_DAC.set(CompTH_DAC)\n",
    "\n",
    "ASIC.CompEn.set(2)\n",
    "ASIC.CompEnOn.set(True) \n",
    "\n",
    "# Set High Gain ----------------------------------------------------------\n",
    "cfgHG = True\n",
    "\n",
    "if cfgHG==True:\n",
    "    gainCfg = 'HG'\n",
    "else:\n",
    "    gainCfg = 'MG'\n",
    "\n",
    "ASIC.trbit.set(cfgHG) # high/medium gain\n",
    "print (f'Check trbit (0: medium gain, 1: high gain): %d' % ASIC.trbit.get())\n",
    "\n",
    "\n",
    "# ------------------------------------ Pulser for Charge injection\n",
    "ASIC.PulserR.set(True)\n",
    "ASIC.PulserR.set(False)\n",
    "ASIC.MonostPulser.set(7)\n",
    "\n",
    "# Configure Pulser Ch. Injection\n",
    "ASIC.test.set(True)\n",
    "ASIC.atest.set(True)\n",
    "\n",
    "######################################################################################################################\n",
    "# Remove previous dataset\n",
    "filename = (f'/u1/lorenzor/10kthr_data/temp.dat')"
   ]
  },
  {
   "cell_type": "markdown",
   "id": "e9dbd39e-3119-4f87-b934-821e10693081",
   "metadata": {},
   "source": [
    "# Parameter sweep\n"
   ]
  },
  {
   "cell_type": "code",
   "execution_count": 20,
   "id": "8815be91-ba9a-4c39-86d7-1b4bb838586b",
   "metadata": {},
   "outputs": [
    {
     "name": "stdout",
     "output_type": "stream",
     "text": [
      "/u1/lorenzor/10kthr_data/temp.dat\n",
      "Aquisition Counter 1197283\n",
      "DAQ Counter 1172153\n",
      "Number of frames received: 0\n",
      "Delta Aquisition Counter: 2001\n",
      "Number of frames received: 2001\n",
      "Starting to get data set 0\n",
      "Read 1000 frames\n",
      "numberOfFrames in the 3D array:  1000\n",
      "Starting descrambling images\n",
      "(1000, 56072)\n"
     ]
    }
   ],
   "source": [
    "# PixRow / Col\n",
    "pixRow = 10\n",
    "pixCol = 10\n",
    "\n",
    "# Always reset the pulser, so we run from same start/stop\n",
    "ASIC.PulserR.set(True)\n",
    "ASIC.PulserR.set(False)\n",
    "dataOpt = run_asic_test(numFrames = 2000, initialDelay = 0)[:1000,pixRow,pixCol];"
   ]
  },
  {
   "cell_type": "code",
   "execution_count": 21,
   "id": "649c0a12-22f9-4f19-ba7d-715039b4a156",
   "metadata": {},
   "outputs": [],
   "source": [
    "# Bit operations\n",
    "gainbit = np.bitwise_and(dataOpt.astype(int), 0x8000) >> 15\n",
    "data = np.bitwise_and(dataOpt, 0x3FFF)"
   ]
  },
  {
   "cell_type": "code",
   "execution_count": 22,
   "id": "8d83a499-d498-45d4-9cc5-1bb7e61038ba",
   "metadata": {},
   "outputs": [
    {
     "name": "stdout",
     "output_type": "stream",
     "text": [
      "Gain HG: 30.058889054435785\n",
      "Gain LG: 0.4856842511900317\n",
      "Gain Ratio 61.889775056088375\n"
     ]
    }
   ],
   "source": [
    "# Fit and calculate gain\n",
    "# Create arbitrary array to do the fitting against\n",
    "pulserValues = np.arange(np.shape(data)[0])\n",
    "\n",
    "# Create masks for HG (or MG) and LG\n",
    "HG = gainbit==0\n",
    "LG = gainbit==1\n",
    "\n",
    "# Fit the two gains\n",
    "gain_HG = getGainLinFit(pulserValues[HG], data[HG])\n",
    "try:\n",
    "    gain_LG = getGainLinFit(pulserValues[LG], data[LG])\n",
    "except:\n",
    "    print('No Gain switching found')\n",
    "    gain_LG = 0\n",
    "\n",
    "# Get residuals\n",
    "resHG = getResidualsLinFit(pulserValues[HG], data[HG])\n",
    "try:\n",
    "    resLG = getResidualsLinFit(pulserValues[LG], data[LG])\n",
    "except:\n",
    "    print('No Gain switching found')\n",
    "    resLG = 0\n",
    "    \n",
    "print('Gain HG:', gain_HG)\n",
    "print('Gain LG:', gain_LG)\n",
    "print('Gain Ratio', gain_HG/gain_LG)"
   ]
  },
  {
   "cell_type": "code",
   "execution_count": 23,
   "id": "cdbbf3b8-37cd-4cfd-9076-8a5f0401f4ed",
   "metadata": {},
   "outputs": [
    {
     "name": "stdout",
     "output_type": "stream",
     "text": [
      "HG\n"
     ]
    },
    {
     "data": {
      "image/png": "[encoded data removed]",
      "text/plain": [
       "<Figure size 1000x1000 with 2 Axes>"
      ]
     },
     "metadata": {},
     "output_type": "display_data"
    }
   ],
   "source": [
    "# Create figure\n",
    "fig=plt.figure(figsize=(10,10))\n",
    "ax1 = plt.subplot(211)\n",
    "ax2 = plt.subplot(212, sharex = ax1)\n",
    "\n",
    "print(gainCfg)\n",
    "\n",
    "# Plot data\n",
    "ax1.plot(pulserValues[HG],data[HG],'.',color='red', label=('Gain ' + gainCfg + ': {:.2f}'.format(gain_HG)))\n",
    "try:\n",
    "    ax1.plot(pulserValues[LG],data[LG],'.',color='blue', label='Gain LG: {:.2f}'.format(gain_LG))\n",
    "    ax1.plot([], [], ' ', label='Gain ratio: {:.4f}'.format(gain_LG/gain_HG))\n",
    "    ax2.plot(pulserValues[gainbit==1],resLG,'.',color='blue')\n",
    "except:\n",
    "    print()\n",
    "ax1.set_ylabel('Output [ADUs]')\n",
    "ax1.legend()\n",
    "ax1.set_ylim(0,2**14)\n",
    "ax1.grid()\n",
    "\n",
    "ax2.plot(pulserValues[gainbit==0],resHG,'.',color='red')\n",
    "ax2.set_ylabel('Residuals [ADUs]')\n",
    "ax2.set_xlabel('Pulser [a.u.]')\n",
    "ax2.set_ylim(-300,300)\n",
    "ax2.grid()\n",
    "\n",
    "plt.tight_layout()\n"
   ]
  },
  {
   "cell_type": "code",
   "execution_count": null,
   "id": "cd98998c-50ff-4f47-a6ec-0f99f5f9248b",
   "metadata": {},
   "outputs": [],
   "source": []
  }
 ],
 "metadata": {
  "kernelspec": {
   "display_name": "Python 3 (ipykernel)",
   "language": "python",
   "name": "python3"
  },
  "language_info": {
   "codemirror_mode": {
    "name": "ipython",
    "version": 3
   },
   "file_extension": ".py",
   "mimetype": "text/x-python",
   "name": "python",
   "nbconvert_exporter": "python",
   "pygments_lexer": "ipython3",
   "version": "3.9.15"
  }
 },
 "nbformat": 4,
 "nbformat_minor": 5
}
