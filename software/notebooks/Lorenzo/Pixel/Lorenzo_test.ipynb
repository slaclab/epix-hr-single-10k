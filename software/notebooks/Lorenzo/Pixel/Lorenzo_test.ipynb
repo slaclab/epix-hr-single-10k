{
 "cells": [
  {
   "cell_type": "code",
   "execution_count": 74,
   "id": "afe95d27-a75e-4e4b-a273-5e7348c4f986",
   "metadata": {
    "tags": []
   },
   "outputs": [],
   "source": [
    "# Setup the library\n",
    "import pyrogue as pr\n",
    "import os, sys\n",
    "import matplotlib.pyplot as plt\n",
    "import time\n",
    "import numpy as np\n",
    "import math\n",
    "from scipy.optimize import curve_fit\n",
    "\n",
    "\n",
    "top_level=f'{os.getcwd()}/../../../'\n",
    "pr.addLibraryPath( f'{top_level}/scripts' )\n",
    "import setupLibPaths\n",
    "import epix_hr_single_10k\n",
    "import ePixViewer.Cameras as cameras\n",
    "\n",
    "%run ../../ASIC_V4/supportFunctions.ipynb"
   ]
  },
  {
   "cell_type": "code",
   "execution_count": 4,
   "id": "73a91cdc-f4b6-4051-accd-fcfa3f258f57",
   "metadata": {
    "tags": []
   },
   "outputs": [
    {
     "name": "stdout",
     "output_type": "stream",
     "text": [
      "Simulation mode : False\n",
      "Start: Started zmqServer on ports 9099-9101\n",
      "    To start a gui: python -m pyrogue gui --server='localhost:9099'\n",
      "    To use a virtual client: client = pyrogue.interfaces.VirtualClient(addr='localhost', port=9099)\n"
     ]
    }
   ],
   "source": [
    "# Create and start the root class\n",
    "root = epix_hr_single_10k.RootLCLSIITiming(\n",
    "    top_level   = top_level,\n",
    "    sim         = False,\n",
    "    dev         = '/dev/datadev_0',\n",
    "    asicVersion = 4\n",
    ")\n",
    "root.start()"
   ]
  },
  {
   "cell_type": "code",
   "execution_count": 5,
   "id": "4b684e4b-b333-4ce0-83c4-deec2eb1bf3b",
   "metadata": {
    "tags": []
   },
   "outputs": [
    {
     "name": "stdout",
     "output_type": "stream",
     "text": [
      "###################################################\n",
      "#             Firmware Version                    #\n",
      "###################################################\n",
      "Path         = ePixHr10kT.Core.AxiVersion\n",
      "FwVersion    = 0x3010000\n",
      "UpTime       = 3:37:05\n",
      "GitHash      = 0x563a68027652195474e6a610098a11775111615a\n",
      "XilinxDnaId  = 0x40020001013a928124b102c5\n",
      "FwTarget     = EpixHr10kTLclsIITiming\n",
      "BuildEnv     = Vivado v2022.2\n",
      "BuildServer  = rdsrv408 (Ubuntu 20.04.6 LTS)\n",
      "BuildDate    = Thu 02 Nov 2023 02:16:58 PM PDT\n",
      "Builder      = ddoering\n",
      "###################################################\n"
     ]
    }
   ],
   "source": [
    "# Create useful pointers\n",
    "AxiVersion = root.Core.AxiVersion\n",
    "print ( '###################################################')\n",
    "print ( '#             Firmware Version                    #')\n",
    "print ( '###################################################')\n",
    "AxiVersion.printStatus()\n",
    "print ( '###################################################')"
   ]
  },
  {
   "cell_type": "markdown",
   "id": "8c85385d-36f3-44ca-9da9-55b95c984712",
   "metadata": {
    "tags": []
   },
   "source": [
    "# Baseline TEST all - 320MHz refGenB,RefGenC modified"
   ]
  },
  {
   "cell_type": "code",
   "execution_count": 6,
   "id": "c8943f6c-9e4b-4c1a-bbf5-51cc5bd5ee19",
   "metadata": {
    "tags": []
   },
   "outputs": [
    {
     "name": "stdout",
     "output_type": "stream",
     "text": [
      "Camera  ePixHr10kTBatcher  selected.\n"
     ]
    }
   ],
   "source": [
    "MAX_NUMBER_OF_FRAMES_PER_BATCH  = 1000\n",
    "cameraType            = 'ePixHr10kTBatcher'\n",
    "bitMask               = 0xffff\n",
    "currentCam = cameras.Camera(cameraType = cameraType)\n",
    "currentCam.bitMask = bitMask"
   ]
  },
  {
   "cell_type": "code",
   "execution_count": 7,
   "id": "e8da0035-14d6-419f-8113-33827612b967",
   "metadata": {
    "tags": []
   },
   "outputs": [
    {
     "name": "stdout",
     "output_type": "stream",
     "text": [
      "Rysync ASIC started\n",
      "Init ASIC script started\n",
      "Loading MMCM configuration\n",
      "/u3/ePix10k/epix-hr-single-10k/software/notebooks/Lorenzo/Test/../../..//yml/ePixHr10kT_MMCM_320MHz.yml\n",
      "Completed\n",
      "Loading supply configuration\n",
      "/u3/ePix10k/epix-hr-single-10k/software/notebooks/Lorenzo/Test/../../..//yml/ePixHr10kT_PowerSupply_Enable.yml\n",
      "Loading register control (waveforms) configuration\n",
      "/u3/ePix10k/epix-hr-single-10k/software/notebooks/Lorenzo/Test/../../..//yml/ePixHr10kT_RegisterControl_R0Width12us_AcqWidth24us_320MHz.yml\n",
      "Loading packet registers\n",
      "Disabling packet lanes for ASIC 0\n",
      "Disabling packet lanes for ASIC 1\n",
      "Disabling packet lanes for ASIC 3\n",
      "/u3/ePix10k/epix-hr-single-10k/software/notebooks/Lorenzo/Test/../../..//yml/ePixHr10kT_PacketRegisters.yml\n",
      "Taking asic off of reset\n",
      "Loading ASIC and timing configuration\n",
      "Loading  /u3/ePix10k/epix-hr-single-10k/software/notebooks/Lorenzo/Test/../../..//yml/ePixHr10kT_PLLBypass_248MHz_ASIC_2.yml\n",
      "Command executed :  <class 'pyrogue._Command.BaseCommand'> - ePixHr10kT.EpixHR.Hr10kTAsic2.ClearMatrix\n",
      "Loading Trigger settings\n",
      "/u3/ePix10k/epix-hr-single-10k/software/notebooks/Lorenzo/Test/../../..//yml/ePixHr10kT_TriggerRegisters_100Hz.yml\n",
      "Initialization routine completed.\n"
     ]
    }
   ],
   "source": [
    "#Initialze the camera\n",
    "#[routine, asic0, asic1, asic2, asic3]'\n",
    "initSequence = 5\n",
    "root.EpixHR.InitASIC([initSequence,0,0,1,0])\n",
    "#points to the ASIC device under test\n",
    "ASIC = root.EpixHR.Hr10kTAsic2\n",
    "root.EpixHR.BatcherEventBuilder0.Blowoff.set(True)\n",
    "root.EpixHR.BatcherEventBuilder0.Bypass.set(1)\n",
    "root.EpixHR.BatcherEventBuilder1.Blowoff.set(False)\n",
    "root.EpixHR.BatcherEventBuilder1.Bypass.set(1)\n",
    "root.EpixHR.BatcherEventBuilder2.Blowoff.set(True)"
   ]
  },
  {
   "cell_type": "code",
   "execution_count": 8,
   "id": "f7c66ea8-48b8-433a-a0af-58c18b550c7a",
   "metadata": {
    "tags": []
   },
   "outputs": [],
   "source": [
    "#Makes sure triggers are off\n",
    "root.EpixHR.TriggerRegisters.RunTriggerEnable.set(False)\n",
    "time.sleep(0.1)\n",
    "root.EpixHR.TriggerRegisters.RunTriggerEnable.set(True)\n",
    "time.sleep(10)\n",
    "root.EpixHR.TriggerRegisters.RunTriggerEnable.set(False)\n",
    "time.sleep(0.1)\n"
   ]
  },
  {
   "cell_type": "code",
   "execution_count": 9,
   "id": "baaa5742-4e2e-4a92-8dbe-f39c86d09067",
   "metadata": {
    "tags": []
   },
   "outputs": [
    {
     "name": "stdout",
     "output_type": "stream",
     "text": [
      "Locked lanes: 3f000\n"
     ]
    }
   ],
   "source": [
    "#use system with batcher and missing ASICs\n",
    "root.EpixHR.SspLowSpeedDecoderReg.enable.set(True)\n",
    "print (\"Locked lanes: %x\" % root.EpixHR.SspLowSpeedDecoderReg.Locked.get())\n",
    "#Only ASIC 1 is available so disable the 6 lower lanes\n",
    "root.EpixHR.PacketRegisters0.DisableLane.set(0x3FF)\n",
    "root.EpixHR.PacketRegisters1.DisableLane.set(0xFC0)\n",
    "\n"
   ]
  },
  {
   "cell_type": "code",
   "execution_count": 10,
   "id": "3b25c2d3-8346-4203-bf99-b27ae9bc27e0",
   "metadata": {
    "tags": []
   },
   "outputs": [
    {
     "name": "stdout",
     "output_type": "stream",
     "text": [
      "4\n",
      "1\n",
      "4\n",
      "38\n",
      "53\n"
     ]
    }
   ],
   "source": [
    "print(ASIC.Preamp.get())\n",
    "print(ASIC.Vld1_b.get())\n",
    "print(ASIC.Pixel_CB.get())\n",
    "print(ASIC.Filter_DAC.get())\n",
    "print(ASIC.VRef_DAC.get())"
   ]
  },
  {
   "cell_type": "code",
   "execution_count": 11,
   "id": "ab7ea971-4957-4d0c-884e-00269c7f577e",
   "metadata": {
    "tags": []
   },
   "outputs": [
    {
     "name": "stdout",
     "output_type": "stream",
     "text": [
      "DHG True\n",
      "RefGenB 3\n",
      "RefGenC 2\n",
      "S2D_1_b 0\n",
      "shvc_DAC 23\n",
      "S2dDacBias 3\n",
      "\n",
      "DHG True\n",
      "RefGenB 2\n",
      "RefGenC 3\n",
      "S2D_1_b 0\n",
      "shvc_DAC 23\n",
      "S2dDacBias 3\n"
     ]
    }
   ],
   "source": [
    "print('DHG', ASIC.DHg.get())\n",
    "print('RefGenB', ASIC.RefGenB.get())\n",
    "print('RefGenC', ASIC.RefGenC.get())\n",
    "print('S2D_1_b', ASIC.S2D_1_b.get())\n",
    "print('shvc_DAC', ASIC.shvc_DAC.get())\n",
    "print('S2dDacBias', ASIC.S2dDacBias.get())\n",
    "DHg = True\n",
    "RefGenB = 2\n",
    "RefGenC = 3\n",
    "S2D_1_b = 0\n",
    "shvc_DAC = 23\n",
    "S2dDacBias = 3\n",
    "print(\"\")\n",
    "ASIC.DHg.set(DHg)  \n",
    "ASIC.RefGenB.set(RefGenB)\n",
    "ASIC.RefGenC.set(RefGenC)\n",
    "ASIC.S2D_1_b.set(S2D_1_b)\n",
    "ASIC.shvc_DAC.set(shvc_DAC)\n",
    "ASIC.S2dDacBias.set(S2dDacBias)\n",
    "print('DHG', ASIC.DHg.get())\n",
    "print('RefGenB', ASIC.RefGenB.get())\n",
    "print('RefGenC', ASIC.RefGenC.get())\n",
    "print('S2D_1_b', ASIC.S2D_1_b.get())\n",
    "print('shvc_DAC', ASIC.shvc_DAC.get())\n",
    "print('S2dDacBias', ASIC.S2dDacBias.get())"
   ]
  },
  {
   "cell_type": "code",
   "execution_count": 13,
   "id": "ea634678-8465-4e26-ab9f-f8762b1edb05",
   "metadata": {},
   "outputs": [
    {
     "name": "stdout",
     "output_type": "stream",
     "text": [
      "Preamp 4\n",
      "Vld1_b 1\n",
      "Pixel_CB 4\n",
      "Filter_DAC 38\n",
      "VRef_DAC 53\n",
      "Command executed :  <class 'pyrogue._Command.BaseCommand'> - ePixHr10kT.EpixHR.Hr10kTAsic2.ClearMatrix\n",
      "Command executed :  <class 'pyrogue._Command.BaseCommand'> - ePixHr10kT.EpixHR.Hr10kTAsic2.ClearMatrix\n",
      "Cfg done\n",
      "/u1/lorenzor/10kthr_data/temp.dat\n",
      "Aquisition Counter 14410\n",
      "DAQ Counter 14410\n",
      "Number of frames received: 0\n",
      "Delta Aquisition Counter: 2002\n",
      "Number of frames received: 2002\n",
      "Starting to get data set 0\n",
      "Read 1000 frames\n",
      "numberOfFrames in the 3D array:  1000\n",
      "Starting descrambling images\n",
      "(1000, 56072)\n",
      "Done\n",
      "(2000, 145, 384)\n"
     ]
    }
   ],
   "source": [
    "#Makes sure triggers are off\n",
    "root.EpixHR.TriggerRegisters.RunTriggerEnable.set(False)\n",
    "time.sleep(0.2)\n",
    "root.EpixHR.TriggerRegisters.RunTriggerEnable.set(True)\n",
    "time.sleep(0.2)\n",
    "root.EpixHR.TriggerRegisters.RunTriggerEnable.set(False)\n",
    "time.sleep(0.2)\n",
    "\n",
    "# Set references \n",
    "Preamp = 4 #4\n",
    "Vld1_b = 1 #1\n",
    "Pixel_CB= 4 #4\n",
    "Filter_DAC= 38 #33\n",
    "VRef_DAC = 53 #22\n",
    "\n",
    "setPixel (Preamp, Vld1_b, Pixel_CB, Filter_DAC, VRef_DAC)\n",
    "\n",
    "pedsList = [12,12,8,0,0]\n",
    "trbitList = [True,0,0,True,0]\n",
    "\n",
    "#########\n",
    "index = 0\n",
    "trbit = trbitList[index]\n",
    "ASIC.trbit.set(trbit)\n",
    "peds = pedsList[index]\n",
    "ASIC.ClearMatrix(peds)\n",
    "######################################################################################################################\n",
    "# Remove previous dataset\n",
    "filename = (f'/u1/lorenzor/10kthr_data/temp.dat')\n",
    "\n",
    "#########\n",
    "index = 1\n",
    "trbit = trbitList[index]\n",
    "ASIC.trbit.set(trbit)\n",
    "peds = pedsList[index]\n",
    "ASIC.ClearMatrix(peds)\n",
    "\n",
    "print('Cfg done')\n",
    "\n",
    "\n",
    "# FH = complete_test(filename)\n",
    "imgDesc = run_asic_test(numFrames = 2000, initialDelay = 0)\n",
    "\n",
    "print('Done')\n",
    "print(np.shape(imgDesc))\n",
    "\n",
    "\n"
   ]
  },
  {
   "cell_type": "code",
   "execution_count": 14,
   "id": "cd71f264-4802-4901-bed5-5a5a32805cca",
   "metadata": {},
   "outputs": [
    {
     "data": {
      "text/plain": [
       "(array([  2.,   0.,   0.,   0.,   0.,   0.,   0.,   0.,   0.,   0.,   2.,\n",
       "          0.,   0.,   0.,   0.,   0.,   0.,   0.,   0.,   0.,   2.,   2.,\n",
       "          0.,   0.,   2.,   2.,   8.,  18.,  70.,  88., 208., 288., 366.,\n",
       "        456., 178., 174.,  76.,  48.,   6.,   4.]),\n",
       " array([5771. , 5773.8, 5776.6, 5779.4, 5782.2, 5785. , 5787.8, 5790.6,\n",
       "        5793.4, 5796.2, 5799. , 5801.8, 5804.6, 5807.4, 5810.2, 5813. ,\n",
       "        5815.8, 5818.6, 5821.4, 5824.2, 5827. , 5829.8, 5832.6, 5835.4,\n",
       "        5838.2, 5841. , 5843.8, 5846.6, 5849.4, 5852.2, 5855. , 5857.8,\n",
       "        5860.6, 5863.4, 5866.2, 5869. , 5871.8, 5874.6, 5877.4, 5880.2,\n",
       "        5883. ]),\n",
       " <BarContainer object of 40 artists>)"
      ]
     },
     "execution_count": 14,
     "metadata": {},
     "output_type": "execute_result"
    },
    {
     "data": {
      "image/png": "[encoded data removed]",
      "text/plain": [
       "<Figure size 640x480 with 1 Axes>"
      ]
     },
     "metadata": {},
     "output_type": "display_data"
    }
   ],
   "source": [
    "plt.hist(imgDesc[:,1,1], bins=40)"
   ]
  },
  {
   "cell_type": "code",
   "execution_count": 134,
   "id": "81cd4f1f-2f64-4783-b295-747bd2d22f61",
   "metadata": {},
   "outputs": [],
   "source": [
    "ASIC.mTest.set(True)\n",
    "\n",
    "# Defaults\n",
    "ASIC.RefGenB.set(3) #2 bits\n",
    "ASIC.RefGenC.set(2) #2 bits\n",
    "ASIC.S2D_1_b.set(0) #3 bits\n",
    "ASIC.shvc_DAC.set(23) #6 bits\n",
    "ASIC.S2dDacBias.set(3)\n",
    "ASIC.DHg.set(True)\n",
    "\n",
    "# Test\n",
    "# ASIC.RefGenB.set(1) #2 bits\n",
    "# ASIC.RefGenC.set(2) #2 bits\n",
    "# ASIC.S2D_1_b.set(0) #3 bits\n",
    "# ASIC.shvc_DAC.set(23) #6 bits\n",
    "# ASIC.S2dDacBias.set(3)\n",
    "# ASIC.DHg.set(False)\n",
    "\n",
    "#sets HSDAC device\n",
    "root.EpixHR.HSDac.enable.set(True)\n",
    "#reset status\n",
    "root.EpixHR.HSDac.WFEnabled.set(False)\n",
    "root.EpixHR.HSDac.waveformSource.set(0)\n",
    "root.EpixHR.HSDac.externalUpdateEn.set(False)\n",
    "root.EpixHR.HSDac.run.set(False)\n",
    "\n",
    "#configure\n",
    "root.EpixHR.HSDac.rCStartValue.set(0)\n",
    "root.EpixHR.HSDac.rCStopValue.set(65535)\n",
    "root.EpixHR.HSDac.rCStep.set(66) # < --- Do not change!\n",
    "root.EpixHR.HSDac.WFEnabled.set(True)\n",
    "root.EpixHR.HSDac.waveformSource.set(1)\n",
    "root.EpixHR.HSDac.externalUpdateEn.set(True)\n",
    "root.EpixHR.HSDac.run.set(True)\n",
    "\n",
    "dacValuesV = np.linspace(0.0,65535.0,1024)[0:980] / 65535 * 2.31 "
   ]
  },
  {
   "cell_type": "code",
   "execution_count": 135,
   "id": "9eb51ef5-179e-476c-af98-000acee00cb4",
   "metadata": {},
   "outputs": [
    {
     "name": "stdout",
     "output_type": "stream",
     "text": [
      "/u1/lorenzor/10kthr_data/temp.dat\n",
      "Aquisition Counter 86460\n",
      "DAQ Counter 86460\n",
      "Number of frames received: 0\n",
      "Number of frames received: 2001\n",
      "Delta Aquisition Counter: 4004\n",
      "Number of frames received: 4004\n",
      "Starting to get data set 0\n",
      "Read 1000 frames\n",
      "numberOfFrames in the 3D array:  1000\n",
      "Starting descrambling images\n",
      "(1000, 56072)\n"
     ]
    }
   ],
   "source": [
    "# Take data\n",
    "imgDesc = run_asic_test(numFrames = 2048, initialDelay = 0)\n",
    "\n",
    "# Only take first 1000 frames because for some reason the DAC restarts there?\n",
    "# But I cannot take 1000, I need to take 2000 \n",
    "imgDesc = imgDesc[0:980,:,:]"
   ]
  },
  {
   "cell_type": "code",
   "execution_count": 136,
   "id": "33240bac-60f7-4714-a377-c076f2af080b",
   "metadata": {},
   "outputs": [
    {
     "name": "stdout",
     "output_type": "stream",
     "text": [
      "Odd  min/max = [830,14799]\n",
      "Even min/max = [809,14723]\n"
     ]
    },
    {
     "data": {
      "image/png": "[encoded data removed]",
      "text/plain": [
       "<Figure size 640x480 with 1 Axes>"
      ]
     },
     "metadata": {},
     "output_type": "display_data"
    }
   ],
   "source": [
    "# Plot all, in odd/even fashion\n",
    "col = 116\n",
    "\n",
    "plt.plot(dacValuesV,imgDesc[0:,0,col],label='Odd', c='blue')\n",
    "plt.plot(dacValuesV,imgDesc[0:,1,col],label='Even', c='red')\n",
    "\n",
    "for col in range(0,1,1):\n",
    "    for row in range(2,144,2):\n",
    "        plt.plot(dacValuesV,imgDesc[0:1000,row,col], c='blue')\n",
    "        plt.plot(dacValuesV,imgDesc[0:1000,row+1,col], c='red')\n",
    "\n",
    "print('Odd  min/max = [{},{}]'.format(min(imgDesc[0:1000,0,col]),max(imgDesc[0:1000,0,col])))\n",
    "print('Even min/max = [{},{}]'.format(min(imgDesc[0:1000,1,col]),max(imgDesc[0:1000,1,col])))\n",
    "\n",
    "   \n",
    "plt.ylim(0,2**14)\n",
    "\n",
    "plt.xlabel('DAC Voltage [V]')\n",
    "plt.ylabel('ADC output  [ADUs]')\n",
    "\n",
    "plt.legend()\n",
    "plt.grid()\n",
    "\n"
   ]
  },
  {
   "cell_type": "code",
   "execution_count": 137,
   "id": "1f41a781-dbe6-4d7c-b13a-6d3262af495f",
   "metadata": {},
   "outputs": [
    {
     "data": {
      "text/plain": [
       "[<matplotlib.lines.Line2D at 0x7f65d838e700>]"
      ]
     },
     "execution_count": 137,
     "metadata": {},
     "output_type": "execute_result"
    },
    {
     "data": {
      "image/png": "[encoded data removed]",
      "text/plain": [
       "<Figure size 640x480 with 1 Axes>"
      ]
     },
     "metadata": {},
     "output_type": "display_data"
    }
   ],
   "source": [
    "# Define the linear function\n",
    "def linear_function(x, a, b):\n",
    "    return a * x + b\n",
    "\n",
    "y = imgDesc[0,0]\n",
    "x = range(0, len(y), 1)\n",
    "\n",
    "weights = np.exp(-(x - np.mean(x))**2 / (2 * np.std(x)**2))\n",
    "params, covariance = curve_fit(linear_function, x, y, sigma=1/weights, absolute_sigma=True)\n",
    "\n",
    "y_fit = linear_function(x, *params)\n",
    "\n",
    "plt.scatter(x, y, label='Data')\n",
    "plt.plot(x, y_fit, label='Linear Fit', color='red')\n"
   ]
  },
  {
   "cell_type": "code",
   "execution_count": null,
   "id": "5df2b9ad-6e49-4538-a126-865f97101b51",
   "metadata": {},
   "outputs": [],
   "source": []
  }
 ],
 "metadata": {
  "kernelspec": {
   "display_name": "Python 3 (ipykernel)",
   "language": "python",
   "name": "python3"
  },
  "language_info": {
   "codemirror_mode": {
    "name": "ipython",
    "version": 3
   },
   "file_extension": ".py",
   "mimetype": "text/x-python",
   "name": "python",
   "nbconvert_exporter": "python",
   "pygments_lexer": "ipython3",
   "version": "3.9.15"
  }
 },
 "nbformat": 4,
 "nbformat_minor": 5
}
