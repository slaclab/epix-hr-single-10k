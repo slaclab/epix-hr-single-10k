{
 "cells": [
  {
   "cell_type": "code",
   "execution_count": 1,
   "id": "afe95d27-a75e-4e4b-a273-5e7348c4f986",
   "metadata": {
    "tags": []
   },
   "outputs": [],
   "source": [
    "# Setup the library\n",
    "import pyrogue as pr\n",
    "import os, sys\n",
    "import matplotlib.pyplot as plt\n",
    "import time\n",
    "import numpy as np\n",
    "import math\n",
    "\n",
    "top_level=f'{os.getcwd()}/../'\n",
    "pr.addLibraryPath( f'{top_level}/scripts' )\n",
    "import setupLibPaths\n",
    "import epix_hr_single_10k\n",
    "import ePixViewer.Cameras as cameras\n"
   ]
  },
  {
   "cell_type": "code",
   "execution_count": 2,
   "id": "87e78da9-8b5b-48f3-a04d-0ba8badcad56",
   "metadata": {},
   "outputs": [],
   "source": [
    "filename = '/u1/ddoering/data/ePix-hr-10k-v3-LCLSIITiming/timingheader.dat'"
   ]
  },
  {
   "cell_type": "code",
   "execution_count": 3,
   "id": "78ce567d-4cc9-4bb1-bb50-bc6bca41a560",
   "metadata": {},
   "outputs": [
    {
     "name": "stdout",
     "output_type": "stream",
     "text": [
      "Camera  ePixHr10kTBatcher  selected.\n"
     ]
    }
   ],
   "source": [
    "from importlib import reload\n",
    "reload(cameras)\n",
    "\n",
    "MAX_NUMBER_OF_FRAMES_PER_BATCH  = 100\n",
    "cameraType            = 'ePixHr10kTBatcher'\n",
    "bitMask               = 0xffff\n",
    "currentCam = cameras.Camera(cameraType = cameraType)\n",
    "currentCam.bitMask = bitMask\n",
    "currentCam.MAX_NUMBER_OF_FRAMES_PER_BATCH  = MAX_NUMBER_OF_FRAMES_PER_BATCH\n"
   ]
  },
  {
   "cell_type": "code",
   "execution_count": 4,
   "id": "ef95bf72-1858-42a7-a19b-ab7f29d5cec4",
   "metadata": {},
   "outputs": [],
   "source": [
    "MAX_NUMBER_OF_FRAMES_PER_BATCH  = 1000\n",
    "cameraType            = 'ePixHr10kTBatcher'\n",
    "bitMask               = 0xffff\n",
    "\n",
    "def getData(localFile, batchertimingWidth = 0):\n",
    "\n",
    "    file_header = [0]\n",
    "    numberOfFrames = 0\n",
    "    previousSize = 0\n",
    "    while ((len(file_header)>0) and ((numberOfFrames<MAX_NUMBER_OF_FRAMES_PER_BATCH) or (MAX_NUMBER_OF_FRAMES_PER_BATCH==-1))):\n",
    "        try:\n",
    "            # reads file header [the number of bytes to read, EVIO]\n",
    "            file_header = np.fromfile(localFile, dtype='uint32', count=2)            \n",
    "            payloadSize = int(file_header[0]/1)-(4) #-1 is need because size info includes the second word from the header            \n",
    "            newPayload = np.fromfile(f, dtype='uint8', count=payloadSize) #(frame size splited by four to read 32 bit \n",
    "            #save only serial data frames\n",
    "            if (numberOfFrames == 0):\n",
    "                print(file_header)\n",
    "                allFrames = [newPayload.copy()]\n",
    "            else:\n",
    "                newFrame  = [newPayload.copy()]\n",
    "                allFrames = np.append(allFrames, newFrame, axis = 0)\n",
    "            numberOfFrames = numberOfFrames + 1 \n",
    "            #print (\"Payload\" , numberOfFrames, \":\",  (newPayload[0:5]))\n",
    "            previousSize = file_header\n",
    "       \n",
    "            if (numberOfFrames%1000==0):\n",
    "                print(\"Read %d frames\" % numberOfFrames)\n",
    "\n",
    "        except Exception: \n",
    "            e = sys.exc_info()[0]\n",
    "            #print (\"Message\\n\", e)\n",
    "            print ('\\r', 'numberOfFrames read:', numberOfFrames, 'Size Error, currnt size', file_header, 'previous size', previousSize)\n",
    "            \n",
    "\n",
    "    return allFrames\n",
    "\n"
   ]
  },
  {
   "cell_type": "code",
   "execution_count": 5,
   "id": "4e5620cc-a9f2-490c-8395-6b994ae4ee82",
   "metadata": {},
   "outputs": [
    {
     "name": "stdout",
     "output_type": "stream",
     "text": [
      "Starting to get data set 0\n",
      "[     100 16777218]\n",
      " numberOfFrames read: 131 Size Error, currnt size [] previous size [     100 16777218]\n",
      "(131, 96)\n"
     ]
    }
   ],
   "source": [
    "f = open(filename, mode = 'rb')\n",
    "imgDesc = []\n",
    "for i in range(1):\n",
    "    print(\"Starting to get data set %d\" % (i))\n",
    "    allFrames = getData(f,0)\n",
    "    \n",
    "\n",
    "numberOfFrames = allFrames.shape[0]\n",
    "print(allFrames.shape)"
   ]
  },
  {
   "cell_type": "code",
   "execution_count": 8,
   "id": "b0af71b0-7317-432a-8454-f599cc795684",
   "metadata": {},
   "outputs": [
    {
     "name": "stdout",
     "output_type": "stream",
     "text": [
      "[ 49 229   0   0   0   0   0   0   0   0   0   0   0   0   0   0 115 198\n",
      " 122 130  37   3   0  12   0   0   0   0   0   0   0   0   5 230 155  22\n",
      " 144 217  56   0   0   0   0   0   0   0   0   0   3   0   5 139 162  59\n",
      "   0   0   0   0   0   0   0   0   0   0   0   0   0   0   0   0   0   0\n",
      "   0   0   0   0   0   0   0   0  56   0   0   0   0   0   0   3   0   0\n",
      "   0   0   0   0   0   0]\n",
      "[ 49 230   0   0   0   0   0   0   0   0   0   0   0   0   0   0 235  41\n",
      " 124 130  37   3   0  12   0   0   0   0   0   0   0   0 133  66 115  28\n",
      " 144 217  56   0   0   0   0   0   0   0   0   0   3   0   7 143 163  59\n",
      "   0   0   0   0   0   0   0   0   0   0   0   0   0   0   0   0   0   0\n",
      "   0   0   0   0   0   0   0   0  56   0   0   0   0   0   0   3   0   0\n",
      "   0   0   0   0   0   0]\n",
      "[ 49 231   0   0   0   0   0   0   0   0   0   0   0   0   0   0  99 141\n",
      " 125 130  37   3   0  12   0   0   0   0   0   0   0   0   5 159  74  34\n",
      " 144 217  56   0   0   0   0   0   0   0   0   0   3   0   9 147 164  59\n",
      "   0   0   0   0   0   0   0   0   0   0   0   0   0   0   0   0   0   0\n",
      "   0   0   0   0   0   0   0   0  56   0   0   0   0   0   0   3   0   0\n",
      "   0   0   0   0   0   0]\n",
      "[ 49 232   0   0   0   0   0   0   0   0   0   0   0   0   0   0 219 240\n",
      " 126 130  37   3   0  12   0   0   0   0   0   0   0   0 133 251  33  40\n",
      " 144 217  56   0   0   0   0   0   0   0   0   0   3   0  11 151 165  59\n",
      "   0   0   0   0   0   0   0   0   0   0   0   0   0   0   0   0   0   0\n",
      "   0   0   0   0   0   0   0   0  56   0   0   0   0   0   0   3   0   0\n",
      "   0   0   0   0   0   0]\n",
      "[ 49 233   0   0   0   0   0   0   0   0   0   0   0   0   0   0  83  84\n",
      " 128 130  37   3   0  12   0   0   0   0   0   0   0   0   5  88 249  45\n",
      " 144 217  56   0   0   0   0   0   0   0   0   0   3   0  13 155 166  59\n",
      "   0   0   0   0   0   0   0   0   0   0   0   0   0   0   0   0   0   0\n",
      "   0   0   0   0   0   0   0   0  56   0   0   0   0   0   0   3   0   0\n",
      "   0   0   0   0   0   0]\n"
     ]
    }
   ],
   "source": [
    "print(allFrames[0])\n",
    "print(allFrames[1])\n",
    "print(allFrames[2])\n",
    "print(allFrames[3])\n",
    "print(allFrames[4])\n",
    "\n"
   ]
  },
  {
   "cell_type": "code",
   "execution_count": 34,
   "id": "e8ab5484-57f6-492f-b053-3eb197acecd7",
   "metadata": {},
   "outputs": [],
   "source": [
    "# Remove previous dataset\n",
    "#if os.path.isfile(f'{top_level}/test.dat'):\n",
    "#    os.remove(f'{top_level}/test.dat')    \n",
    "filename = '/u1/ddoering/data/ePix-hr-10k-v3-LCLSIITiming/ASIC1_data_ASIC0_sim_plus_timing.dat'"
   ]
  },
  {
   "cell_type": "code",
   "execution_count": 13,
   "id": "c584015d-6493-4ca2-82fb-284a602c9a62",
   "metadata": {},
   "outputs": [
    {
     "name": "stdout",
     "output_type": "stream",
     "text": [
      "Camera  ePixHr10kTBatcher  selected.\n"
     ]
    }
   ],
   "source": [
    "from importlib import reload\n",
    "reload(cameras)\n",
    "\n",
    "MAX_NUMBER_OF_FRAMES_PER_BATCH  = 100\n",
    "cameraType            = 'ePixHr10kTBatcher'\n",
    "bitMask               = 0xffff\n",
    "currentCam = cameras.Camera(cameraType = cameraType)\n",
    "currentCam.bitMask = bitMask\n",
    "currentCam.MAX_NUMBER_OF_FRAMES_PER_BATCH  = MAX_NUMBER_OF_FRAMES_PER_BATCH\n"
   ]
  },
  {
   "cell_type": "code",
   "execution_count": 19,
   "id": "7e9fe0a0-d5e3-4bf2-b88f-dec47ba08e1f",
   "metadata": {},
   "outputs": [
    {
     "name": "stdout",
     "output_type": "stream",
     "text": [
      "Starting to get data set 0\n",
      "numberOfFrames in the 3D array:  100\n",
      "Starting descrambling images\n",
      "Starting to get data set 1\n",
      "numberOfFrames in the 3D array:  100\n",
      "Starting descrambling images\n",
      "(100, 56136)\n"
     ]
    }
   ],
   "source": [
    "f = open(filename, mode = 'rb')\n",
    "imgDesc = []\n",
    "for i in range(2):\n",
    "    print(\"Starting to get data set %d\" % (i))\n",
    "    allFrames = currentCam.getData(f,0)\n",
    "    imgDesc2 = np.flip(currentCam.getDescImaData(allFrames), 0)\n",
    "    if i == 0:\n",
    "        headers = allFrames[:,0:6]\n",
    "        imgDesc = imgDesc2\n",
    "    else:\n",
    "        headers = np.concatenate((headers, allFrames[:,0:6]),0)\n",
    "        imgDesc = np.concatenate((imgDesc, imgDesc2),0)\n",
    "    if allFrames.shape[0] != MAX_NUMBER_OF_FRAMES_PER_BATCH:\n",
    "        break\n",
    "\n",
    "\n",
    "numberOfFrames = allFrames.shape[0]\n",
    "print(allFrames.shape)"
   ]
  },
  {
   "cell_type": "code",
   "execution_count": 20,
   "id": "b72c9f64-eb16-465c-bc55-1987620fba2a",
   "metadata": {},
   "outputs": [
    {
     "name": "stdout",
     "output_type": "stream",
     "text": [
      "[0 0 0 0 0 0 0 0 0 0 0 0 0 0 0 0 0 0 0 0]\n"
     ]
    },
    {
     "data": {
      "image/png": "[encoded data removed]",
      "text/plain": [
       "<Figure size 1800x1200 with 1 Axes>"
      ]
     },
     "metadata": {
      "needs_background": "light"
     },
     "output_type": "display_data"
    }
   ],
   "source": [
    "plt.figure(1,figsize=(12,8),dpi=150)\n",
    "plt.imshow(imgDesc[100], cmap='gray')\n",
    "print(imgDesc[100,100,20:40])"
   ]
  },
  {
   "cell_type": "code",
   "execution_count": 26,
   "id": "a6f1f897-dd87-4b28-8e28-83c0cce7b719",
   "metadata": {},
   "outputs": [
    {
     "name": "stdout",
     "output_type": "stream",
     "text": [
      "(144, 384)\n",
      "(100, 56136)\n"
     ]
    }
   ],
   "source": [
    "print(imgDesc[100].shape)\n",
    "print(allFrames.shape)"
   ]
  },
  {
   "cell_type": "code",
   "execution_count": 28,
   "id": "537170c8-d11d-4aad-a4c7-549518d76a77",
   "metadata": {},
   "outputs": [
    {
     "name": "stdout",
     "output_type": "stream",
     "text": [
      "[13361     0     0     0     0     0     0     0 36731 20404   805  3072\n",
      "     0     0     0     0  4997    20 54779    56]\n",
      "[13617     0     0     0     0     0     0     0 62195 20405   805  3072\n",
      "     0     0     0     0 28677  1515 54779    56]\n"
     ]
    }
   ],
   "source": [
    "print(allFrames[0,0:20])\n",
    "print(allFrames[1,0:20])"
   ]
  },
  {
   "cell_type": "code",
   "execution_count": 9,
   "id": "42c63a75-4224-45dd-a094-983bf815a4a4",
   "metadata": {},
   "outputs": [
    {
     "name": "stdout",
     "output_type": "stream",
     "text": [
      "Starting to get data set 0\n",
      "numberOfFrames in the 3D array:  100\n",
      "Starting descrambling images\n",
      "Starting to get data set 1\n",
      "numberOfFrames in the 3D array:  100\n",
      "Starting descrambling images\n",
      "(100, 56088)\n"
     ]
    }
   ],
   "source": [
    "filename = '/u1/ddoering/ePixHR10kTLCLSIITiming_ASICV3_atest_320MHz_AHL_run2.dat'\n",
    "f = open(filename, mode = 'rb')\n",
    "imgDesc = []\n",
    "for i in range(2):\n",
    "    print(\"Starting to get data set %d\" % (i))\n",
    "    allFrames = currentCam.getData(f,8)\n",
    "    imgDesc2 = np.flip(currentCam.getDescImaData(allFrames), 0)\n",
    "    if i == 0:\n",
    "        headers = allFrames[:,0:6]\n",
    "        imgDesc = imgDesc2\n",
    "    else:\n",
    "        headers = np.concatenate((headers, allFrames[:,0:6]),0)\n",
    "        imgDesc = np.concatenate((imgDesc, imgDesc2),0)\n",
    "    if allFrames.shape[0] != MAX_NUMBER_OF_FRAMES_PER_BATCH:\n",
    "        break\n",
    "\n",
    "\n",
    "numberOfFrames = allFrames.shape[0]\n",
    "print(allFrames.shape)"
   ]
  },
  {
   "cell_type": "code",
   "execution_count": 10,
   "id": "00b7c51d-e24c-44c5-b8e0-45b80c084ede",
   "metadata": {},
   "outputs": [
    {
     "data": {
      "text/plain": [
       "40"
      ]
     },
     "execution_count": 10,
     "metadata": {},
     "output_type": "execute_result"
    }
   ],
   "source": [
    "56128-56088"
   ]
  },
  {
   "cell_type": "code",
   "execution_count": 11,
   "id": "ff155a8a-04bc-4566-a893-c3f3f2147883",
   "metadata": {},
   "outputs": [
    {
     "name": "stdout",
     "output_type": "stream",
     "text": [
      "[0 0 0 0 0 0 0 0 0 0 0 0 0 0 0 0 0 0 0 0]\n"
     ]
    }
   ],
   "source": []
  },
  {
   "cell_type": "code",
   "execution_count": null,
   "id": "129772ea-9c3e-4153-bb28-c9b8715f066e",
   "metadata": {},
   "outputs": [],
   "source": []
  }
 ],
 "metadata": {
  "kernelspec": {
   "display_name": "Python 3 (ipykernel)",
   "language": "python",
   "name": "python3"
  },
  "language_info": {
   "codemirror_mode": {
    "name": "ipython",
    "version": 3
   },
   "file_extension": ".py",
   "mimetype": "text/x-python",
   "name": "python",
   "nbconvert_exporter": "python",
   "pygments_lexer": "ipython3",
   "version": "3.9.13"
  }
 },
 "nbformat": 4,
 "nbformat_minor": 5
}
