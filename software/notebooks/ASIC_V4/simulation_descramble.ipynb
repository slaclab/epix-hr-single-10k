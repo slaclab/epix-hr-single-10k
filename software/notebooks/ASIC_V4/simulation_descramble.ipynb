{
 "cells": [
  {
   "cell_type": "code",
   "execution_count": null,
   "id": "afe95d27-a75e-4e4b-a273-5e7348c4f986",
   "metadata": {
    "tags": []
   },
   "outputs": [],
   "source": [
    "# Setup the library\n",
    "import pyrogue as pr\n",
    "import os, sys\n",
    "import matplotlib.pyplot as plt\n",
    "import time\n",
    "import numpy as np\n",
    "import math\n",
    "\n",
    "top_level=f'{os.getcwd()}/../../'\n",
    "pr.addLibraryPath( f'{top_level}/scripts' )\n",
    "import setupLibPaths\n",
    "import epix_hr_single_10k\n",
    "import ePixViewer.Cameras as cameras\n"
   ]
  },
  {
   "cell_type": "code",
   "execution_count": null,
   "id": "73a91cdc-f4b6-4051-accd-fcfa3f258f57",
   "metadata": {
    "scrolled": true,
    "tags": []
   },
   "outputs": [],
   "source": [
    "# Create and start the root class\n",
    "root = epix_hr_single_10k.RootLCLSIITiming(\n",
    "    top_level   = top_level,\n",
    "    sim         = True,\n",
    "    dev         = '/dev/datadev_1',\n",
    "    asicVersion = 4,\n",
    "    pollEn      = False\n",
    ")\n",
    "root.start()"
   ]
  },
  {
   "cell_type": "code",
   "execution_count": null,
   "id": "4b684e4b-b333-4ce0-83c4-deec2eb1bf3b",
   "metadata": {
    "tags": []
   },
   "outputs": [],
   "source": [
    "# Create useful pointers\n",
    "AxiVersion = root.Core.AxiVersion\n",
    "print ( '###################################################')\n",
    "print ( '#             Firmware Version                    #')\n",
    "print ( '###################################################')\n",
    "AxiVersion.printStatus()\n",
    "print ( '###################################################')"
   ]
  },
  {
   "cell_type": "code",
   "execution_count": null,
   "id": "ea3de03a-0aeb-49a1-bb32-db0ed1f6ea8f",
   "metadata": {
    "tags": []
   },
   "outputs": [],
   "source": [
    "#Initialze the camera\n",
    "#[routine, asic0, asic1, asic2, asic3]'\n",
    "root.EpixHR.InitASIC([4,0,0,0,0])\n",
    "#points to the ASIC device under test\n",
    "root.EpixHR.BatcherEventBuilder0.Blowoff.set(False)\n",
    "root.EpixHR.BatcherEventBuilder1.Blowoff.set(False)\n",
    "root.EpixHR.BatcherEventBuilder2.Blowoff.set(True)\n"
   ]
  },
  {
   "cell_type": "code",
   "execution_count": null,
   "id": "b16f5e2c-c58f-49c8-a7ba-a4ff80c3b065",
   "metadata": {},
   "outputs": [],
   "source": [
    "root.EpixHR.BatcherEventBuilder2.Blowoff.get()\n"
   ]
  },
  {
   "cell_type": "code",
   "execution_count": null,
   "id": "3cc17a4b-895c-432a-a52e-58f943c0327f",
   "metadata": {
    "tags": []
   },
   "outputs": [],
   "source": [
    "#use system with batcher and missing ASICs\n",
    "root.EpixHR.SspLowSpeedDecoderReg.enable.set(True)\n",
    "print (\"Locked lanes: %x\" % root.EpixHR.SspLowSpeedDecoderReg.Locked.get())\n",
    "#Only ASIC 1 is available so disable the 6 lower lanes\n",
    "#root.EpixHR.PacketRegisters0.DisableLane.set(0x3FF)\n",
    "#root.EpixHR.PacketRegisters1.DisableLane.set(0xFC0)\n",
    "#using internal triggers, so bypassing timing channel at the batcher \n",
    "root.EpixHR.BatcherEventBuilder0.Bypass.set(1)\n",
    "root.EpixHR.BatcherEventBuilder1.Bypass.set(1)"
   ]
  },
  {
   "cell_type": "code",
   "execution_count": null,
   "id": "051ba450",
   "metadata": {},
   "outputs": [],
   "source": [
    "root.EpixHR.PacketRegisters0.DisableLane.set(0)\n",
    "root.EpixHR.PacketRegisters1.DisableLane.set(0)\n",
    "root.EpixHR.RegisterControl.SR0Width1.set(24200)\n",
    "\n",
    "#Need to confirm clock used for trigger, R0, ACQ and SRO\n",
    "#Configure waveforms to be 12 and 24 us\n"
   ]
  },
  {
   "cell_type": "code",
   "execution_count": null,
   "id": "d1da45a6-b992-4e60-b552-329cd747de14",
   "metadata": {
    "tags": []
   },
   "outputs": [],
   "source": [
    "root.EpixHR.TriggerRegisters.SetAutoTrigger(4000)\n",
    "root.EpixHR.TriggerRegisters.StartAutoTrigger()"
   ]
  },
  {
   "cell_type": "markdown",
   "id": "f1dd8b12-a2f2-4e38-9147-6936cd2a64a7",
   "metadata": {
    "tags": []
   },
   "source": [
    "# Helper functions"
   ]
  },
  {
   "cell_type": "code",
   "execution_count": null,
   "id": "e9e49de8-3fc4-46de-86e4-d74bad616fd7",
   "metadata": {
    "tags": []
   },
   "outputs": [],
   "source": [
    "def run_asic_test():\n",
    "    if os.path.isfile(f'{filename}'):   \n",
    "        os.remove(f'{filename}')    \n",
    "    print(filename)\n",
    "    # Setup and open the file writer\n",
    "    writer = root.dataWriter._writer\n",
    "    writer.open(f'{filename}')\n",
    "\n",
    "    # Wait for the file write to open the file\n",
    "    while( writer.isOpen() is False):\n",
    "        time.sleep(0.1)\n",
    "\n",
    "    # Wait a little bit for the file to open up\n",
    "    time.sleep(1.0)    \n",
    "\n",
    "    #sets TriggerRegisters\n",
    "    AcqCount = root.EpixHR.TriggerRegisters.AcqCount.get()\n",
    "    print(\"Aquisition Counter \" + str(AcqCount))\n",
    "    root.EpixHR.TriggerRegisters.AutoTrigPeriod.set(50000) #in steps of 10ns\n",
    "    root.EpixHR.TriggerRegisters.AutoRunEn.set(True)\n",
    "    root.EpixHR.TriggerRegisters.RunTriggerEnable.set(True)\n",
    "    #wait for the camera to get thermally stable\n",
    "    time.sleep(5.0)    \n",
    "    root.EpixHR.TriggerRegisters.AutoDaqEn.set(True)\n",
    "    root.EpixHR.TriggerRegisters.DaqTriggerEnable.set(True)\n",
    "    initialFrameCounter = writer.getFrameCount()\n",
    "    # Wait for the file write noise data\n",
    "    while(writer.getFrameCount() < initialFrameCounter + 4000):\n",
    "        print( f'Number of frames received: {writer.getFrameCount()}' )\n",
    "        time.sleep(1)\n",
    "\n",
    "    # stops triggers\n",
    "    root.EpixHR.TriggerRegisters.RunTriggerEnable.set(False)\n",
    "    time.sleep(0.1)\n",
    "\n",
    "    # Print the status\n",
    "    DeltaAcqCount = root.EpixHR.TriggerRegisters.AcqCount.get() - AcqCount\n",
    "    #print( f'Delta Aquisition Counter: {DeltaAcqCount}')\n",
    "    print( f'Number of frames received: {writer.getFrameCount()}' )\n",
    "\n",
    "    # Close the file writer\n",
    "    writer.close()\n",
    "\n",
    "    # Wait for the file write to close the file\n",
    "    while( writer.isOpen() is True):\n",
    "        time.sleep(0.1)\n",
    "\n",
    "    ########################################################################################################################3\n",
    "    f = open(filename, mode = 'rb')\n",
    "    imgDesc = []\n",
    "    for i in range(1):\n",
    "        print(\"Starting to get data set %d\" % (i))\n",
    "        allFrames = currentCam.getData(f,16)\n",
    "        imgDesc2 = currentCam.getDescImaData(allFrames)\n",
    "        if i == 0:\n",
    "            headers = allFrames[:,0:6]\n",
    "            imgDesc = imgDesc2\n",
    "        if i == 1: #skips the first dataset\n",
    "            headers = allFrames[:,0:6]\n",
    "            imgDesc = imgDesc2\n",
    "        else:\n",
    "            headers = np.concatenate((headers, allFrames[:,0:6]),0)\n",
    "            imgDesc = np.concatenate((imgDesc, imgDesc2),0)\n",
    "        if allFrames.shape[0] != MAX_NUMBER_OF_FRAMES_PER_BATCH:\n",
    "            break\n",
    "\n",
    "\n",
    "    numberOfFrames = allFrames.shape[0]\n",
    "    print(allFrames.shape)\n",
    "    ###########################################################################################################################\n",
    "    return imgDesc\n"
   ]
  },
  {
   "cell_type": "code",
   "execution_count": null,
   "id": "d925dd6a-bd42-4906-8a07-694fd96fa21b",
   "metadata": {
    "tags": []
   },
   "outputs": [],
   "source": [
    "def noise_print(offset = 0):\n",
    "    print(imgDesc[100].shape)\n",
    "    hg_n  = imgDesc[:,:,offset:offset+192].astype('float64')\n",
    "    hg_n -= np.median(hg_n, axis=0, keepdims=True)\n",
    "    hg_n -= np.median(hg_n, axis=(1,2), keepdims=True)\n",
    "    hg_n -= np.median(hg_n, axis=2, keepdims=True) # rows (cols)\n",
    "    hg_n -= np.median(hg_n, axis=1, keepdims=True) # cols (rows)\n",
    "    imgDescCMC = hg_n\n",
    "    noiseMap = np.std(imgDescCMC,0)\n",
    "    darkAvg  = np.mean(imgDesc,0)\n",
    "    \n",
    "    #noiseMap = np.std(imgDesc[:,:,offset:offset+192],0)\n",
    "    #darkAvg  = np.mean(imgDesc[:,:,192:384],0)\n",
    "    medianNoise = np.median(noiseMap)\n",
    "    plt.figure(1,figsize=(12,8),dpi=150)\n",
    "    plt.imshow(noiseMap, cmap='gray', vmin=0, vmax=100)\n",
    "    plt.colorbar(location='right', anchor=(0, 0.3), shrink=0.7)\n",
    "\n",
    "    plt.figure(2,figsize=(12,8),dpi=150)\n",
    "    dataset = noiseMap\n",
    "    plt.hist(dataset.reshape(-1), bins=100, label=f'\\nNoise Map distribution AHL, Avg. Dark level w/o CMC %d, Mediam Noise %d' % (np.mean(np.mean(darkAvg)), medianNoise)) \n",
    "    plt.yscale('log')\n",
    "    plt.title(\"histogram\") \n",
    "    plt.legend()\n",
    "    plt.show()\n",
    "    print()\n",
    "    return noiseMap, darkAvg"
   ]
  },
  {
   "cell_type": "markdown",
   "id": "799b4e0e-52cc-4e5a-b730-a3dec01affbc",
   "metadata": {
    "tags": []
   },
   "source": [
    "# Pixel Optimizaion"
   ]
  },
  {
   "cell_type": "code",
   "execution_count": null,
   "id": "4694fc47-1295-41ca-9d87-58dfe441d613",
   "metadata": {
    "tags": []
   },
   "outputs": [],
   "source": [
    "def setPixel (Preamp = 4, Vld1_b = 1, Pixel_CB = 4, Filter_DAC = 38, VRef_DAC = 53):\n",
    "    ASIC.Preamp.set(Preamp)\n",
    "    ASIC.Vld1_b.set(Vld1_b)\n",
    "    ASIC.Pixel_CB.set(Pixel_CB)\n",
    "    ASIC.Filter_DAC.set(Filter_DAC)\n",
    "    ASIC.VRef_DAC.set(VRef_DAC)\n",
    "\n",
    "\n",
    "    print('Preamp', ASIC.Preamp.get())\n",
    "    print('Vld1_b',ASIC.Vld1_b.get())\n",
    "    print('Pixel_CB',ASIC.Pixel_CB.get())\n",
    "    print('Filter_DAC',ASIC.Filter_DAC.get())\n",
    "    print('VRef_DAC',ASIC.VRef_DAC.get())"
   ]
  },
  {
   "cell_type": "code",
   "execution_count": null,
   "id": "0523d947-90fc-466c-a1cd-c642290de3eb",
   "metadata": {},
   "outputs": [],
   "source": [
    "MAX_NUMBER_OF_FRAMES_PER_BATCH  = 1000\n",
    "cameraType            = 'ePixHr10kTBatcher'\n",
    "bitMask               = 0xffff\n",
    "currentCam = cameras.Camera(cameraType = cameraType)\n",
    "currentCam.bitMask = bitMask"
   ]
  },
  {
   "cell_type": "code",
   "execution_count": null,
   "id": "dc9844e4-e796-4aab-aa35-e91c0dec07e8",
   "metadata": {
    "tags": []
   },
   "outputs": [],
   "source": [
    "#Makes sure triggers are off\n",
    "root.EpixHR.TriggerRegisters.RunTriggerEnable.set(False)\n",
    "time.sleep(0.2)\n",
    "root.EpixHR.TriggerRegisters.RunTriggerEnable.set(True)\n",
    "time.sleep(0.2)\n",
    "root.EpixHR.TriggerRegisters.RunTriggerEnable.set(False)\n",
    "time.sleep(0.2)\n",
    "\n",
    "PreampList = [7,6,5,4,3,2,1,0]\n",
    "Vld1_b = 0\n",
    "Pixel_CB= 7\n",
    "Filter_DAC= 17\n",
    "VRef_DAC = 58\n",
    "\n",
    "for Preamp in PreampList:\n",
    "    setPixel (Preamp, Vld1_b, Pixel_CB, Filter_DAC, VRef_DAC)\n",
    "\n",
    "    ######################################################################################################################\n",
    "    # Remove previous dataset\n",
    "    filename = (f'/u2/ddoering/ASIC_V4_ASIC2_SB/ePixHR10kTLCLSIITiming_ASICV3_ASIC2_noise_320MHz_Preamp_%d_Vld1b_%d_PixelCB_%d_Filter_DAC_%d_VRrefdac_%d_run1.dat' % (Preamp, Vld1_b, Pixel_CB, Filter_DAC, VRef_DAC))\n",
    "    ########################################################################################################################\n",
    "    imgDesc = run_asic_test()\n",
    "    ########################################################################################################################\n",
    "    [noiseMap, darkAvg] = noise_print()"
   ]
  },
  {
   "cell_type": "code",
   "execution_count": null,
   "id": "438e44f4-b5f7-4cff-bc48-b942ed6b2c38",
   "metadata": {
    "tags": []
   },
   "outputs": [],
   "source": [
    "#Makes sure triggers are off\n",
    "root.EpixHR.TriggerRegisters.RunTriggerEnable.set(False)\n",
    "time.sleep(0.1)\n",
    "root.EpixHR.TriggerRegisters.RunTriggerEnable.set(True)\n",
    "time.sleep(0.1)\n",
    "root.EpixHR.TriggerRegisters.RunTriggerEnable.set(False)\n",
    "time.sleep(0.1)\n",
    "\n",
    "Preamp = 7\n",
    "Vld1_bList = [0, 1, 2, 3]\n",
    "Pixel_CB= 7\n",
    "Filter_DAC= 17\n",
    "VRef_DAC = 58\n",
    "\n",
    "for Vld1_b in Vld1_bList:\n",
    "    setPixel (Preamp, Vld1_b, Pixel_CB, Filter_DAC, VRef_DAC)\n",
    "\n",
    "    ######################################################################################################################\n",
    "    # Remove previous dataset\n",
    "    filename = (f'/u2/ddoering/ASIC_V3_ASIC2_SB/ePixHR10kTLCLSIITiming_ASICV3_ASIC2_noise_320MHz_Preamp_%d_Vld1b_%d_PixelCB_%d_Filter_DAC_%d_VRrefdac_%d_run1.dat' % (Preamp, Vld1_b, Pixel_CB, Filter_DAC, VRef_DAC))\n",
    "    ########################################################################################################################\n",
    "    imgDesc = run_asic_test()\n",
    "    ########################################################################################################################\n",
    "    [noiseMap, darkAvg] = noise_print()"
   ]
  },
  {
   "cell_type": "code",
   "execution_count": null,
   "id": "20093272-9dd6-4317-87e7-c91d5f38f6e0",
   "metadata": {
    "tags": []
   },
   "outputs": [],
   "source": [
    "#Makes sure triggers are off\n",
    "root.EpixHR.TriggerRegisters.RunTriggerEnable.set(False)\n",
    "time.sleep(0.1)\n",
    "root.EpixHR.TriggerRegisters.RunTriggerEnable.set(True)\n",
    "time.sleep(0.1)\n",
    "root.EpixHR.TriggerRegisters.RunTriggerEnable.set(False)\n",
    "time.sleep(0.1)\n",
    "\n",
    "Preamp = 7\n",
    "Vld1_b = 0\n",
    "Pixel_CBList= [7,6,5,4,3,2,1,0]\n",
    "Filter_DAC= 17\n",
    "VRef_DAC = 58\n",
    "\n",
    "for Pixel_CB in Pixel_CBList:\n",
    "    setPixel (Preamp, Vld1_b, Pixel_CB, Filter_DAC, VRef_DAC)\n",
    "\n",
    "    ######################################################################################################################\n",
    "    # Remove previous dataset\n",
    "    filename = (f'/u2/ddoering/ASIC_V3_ASIC2_SB/ePixHR10kTLCLSIITiming_ASICV3_ASIC2_noise_320MHz_Preamp_%d_Vld1b_%d_PixelCB_%d_Filter_DAC_%d_VRrefdac_%d_run1.dat' % (Preamp, Vld1_b, Pixel_CB, Filter_DAC, VRef_DAC))\n",
    "    ########################################################################################################################\n",
    "    imgDesc = run_asic_test()\n",
    "    ########################################################################################################################\n",
    "    [noiseMap, darkAvg] = noise_print()"
   ]
  },
  {
   "cell_type": "code",
   "execution_count": null,
   "id": "5b72dbeb-6961-4987-8039-df683e013385",
   "metadata": {
    "tags": []
   },
   "outputs": [],
   "source": [
    "#Makes sure triggers are off\n",
    "root.EpixHR.TriggerRegisters.RunTriggerEnable.set(False)\n",
    "time.sleep(0.1)\n",
    "root.EpixHR.TriggerRegisters.RunTriggerEnable.set(True)\n",
    "time.sleep(0.1)\n",
    "root.EpixHR.TriggerRegisters.RunTriggerEnable.set(False)\n",
    "time.sleep(0.1)\n",
    "\n",
    "Preamp = 7\n",
    "Vld1_b = 0\n",
    "Pixel_CB= 7\n",
    "Filter_DACList=[7, 13, 15, 17, 19, 21, 27, 37, 47, 57]\n",
    "VRef_DAC = 58\n",
    "\n",
    "for Filter_DAC in Filter_DACList:\n",
    "    setPixel (Preamp, Vld1_b, Pixel_CB, Filter_DAC, VRef_DAC)\n",
    "\n",
    "    ######################################################################################################################\n",
    "    # Remove previous dataset\n",
    "    filename = (f'/u2/ddoering/ASIC_V3_ASIC2_SB/ePixHR10kTLCLSIITiming_ASICV3_ASIC2_noise_320MHz_Preamp_%d_Vld1b_%d_PixelCB_%d_Filter_DAC_%d_VRrefdac_%d_run1.dat' % (Preamp, Vld1_b, Pixel_CB, Filter_DAC, VRef_DAC))\n",
    "    ########################################################################################################################\n",
    "    imgDesc = run_asic_test()\n",
    "    ########################################################################################################################\n",
    "    [noiseMap, darkAvg] = noise_print()"
   ]
  },
  {
   "cell_type": "code",
   "execution_count": null,
   "id": "b6d4e441-45a4-4b47-990e-92b164af05ac",
   "metadata": {
    "tags": []
   },
   "outputs": [],
   "source": [
    "Preamp = 7\n",
    "Vld1_b = 0\n",
    "Pixel_CB= 7\n",
    "Filter_DAC= 17\n",
    "VRef_DACList =[3, 13, 23, 33, 43, 48, 53, 58, 63]\n",
    "\n",
    "for VRef_DAC in VRef_DACList:\n",
    "    setPixel (Preamp, Vld1_b, Pixel_CB, Filter_DAC, VRef_DAC)\n",
    "\n",
    "    ######################################################################################################################\n",
    "    # Remove previous dataset\n",
    "    filename = (f'/u2/ddoering/ASIC_V3_ASIC2_SB/ePixHR10kTLCLSIITiming_ASICV3_ASIC2_noise_320MHz_Preamp_%d_Vld1b_%d_PixelCB_%d_Filter_DAC_%d_VRrefdac_%d_run1.dat' % (Preamp, Vld1_b, Pixel_CB, Filter_DAC, VRef_DAC))\n",
    "    ########################################################################################################################\n",
    "    imgDesc = run_asic_test()\n",
    "    ########################################################################################################################\n",
    "    [noiseMap, darkAvg] = noise_print()"
   ]
  },
  {
   "cell_type": "markdown",
   "id": "97065a25-254f-4f8e-a6be-5ecc04fe396c",
   "metadata": {
    "tags": []
   },
   "source": [
    "# ADC Optimizaion"
   ]
  },
  {
   "cell_type": "code",
   "execution_count": null,
   "id": "2a280164-bed3-462d-bd62-b951d2b466bd",
   "metadata": {
    "tags": []
   },
   "outputs": [],
   "source": [
    "#Set pixels back to default value\n",
    "ASIC.Preamp.set(4)\n",
    "ASIC.Vld1_b.set(1)\n",
    "ASIC.Pixel_CB.set(4)\n",
    "ASIC.Filter_DAC.set(38)\n",
    "ASIC.VRef_DAC.set(53)\n",
    "\n",
    "print('Preamp', ASIC.Preamp.get())\n",
    "print('Vld1_b',ASIC.Vld1_b.get())\n",
    "print('Pixel_CB',ASIC.Pixel_CB.get())\n",
    "print('Filter_DAC',ASIC.Filter_DAC.get())\n",
    "print('VRef_DAC',ASIC.VRef_DAC.get())"
   ]
  },
  {
   "cell_type": "code",
   "execution_count": null,
   "id": "8eaf3499-d3ba-4f59-a3bb-e638dca81e31",
   "metadata": {
    "tags": []
   },
   "outputs": [],
   "source": [
    "def setADC (RefGenB = 3, RefGenC = 2, S2D_1_b = 0, shvc_DAC = 23, S2dDacBias = 3):\n",
    "    ASIC.RefGenB.set(RefGenB) #2 bits\n",
    "    ASIC.RefGenC.set(RefGenC) #2 bits\n",
    "    ASIC.S2D_1_b.set(S2D_1_b) #3 bits\n",
    "    ASIC.shvc_DAC.set(shvc_DAC) #6 bits\n",
    "    ASIC.S2dDacBias.set(S2dDacBias)\n",
    "    \n",
    "    print('RefGenB', ASIC.RefGenB.get())\n",
    "    print('RefGenC',ASIC.RefGenC.get())\n",
    "    print('S2D_1_b',ASIC.S2D_1_b.get())\n",
    "    print('shvc_DAC',ASIC.shvc_DAC.get())\n",
    "    print('S2dDacBias',ASIC.S2dDacBias.get())"
   ]
  },
  {
   "cell_type": "code",
   "execution_count": null,
   "id": "0eea51f2-da4c-42a4-951f-60515d8fd4d8",
   "metadata": {
    "tags": []
   },
   "outputs": [],
   "source": [
    "RefGenBList = [0, 1, 2, 3]\n",
    "RefGenC = 2\n",
    "S2D_1_b = 0\n",
    "shvc_DAC = 23\n",
    "S2dDacBias = 3\n",
    "for RefGenB in RefGenBList:\n",
    "    setADC (RefGenB, RefGenC, S2D_1_b, shvc_DAC, S2dDacBias)\n",
    "\n",
    "    ######################################################################################################################\n",
    "    # Remove previous dataset\n",
    "    filename = (f'/u1/ddoering/ePixHR10kTLCLSIITiming_ASICV3_noise_320MHz_RefGenB_%d_All_run1.dat' % RefGenB)\n",
    "    ########################################################################################################################\n",
    "    imgDesc = run_asic_test()\n",
    "    ########################################################################################################################\n",
    "    [noiseMap, darkAvg] = noise_print()\n",
    "\n"
   ]
  },
  {
   "cell_type": "code",
   "execution_count": null,
   "id": "cc412177-dcf8-4d66-848f-ab8a95c6ff8b",
   "metadata": {
    "tags": []
   },
   "outputs": [],
   "source": [
    "RefGenB = 3\n",
    "RefGenCList = [0, 1, 2, 3]\n",
    "S2D_1_b = 0\n",
    "shvc_DAC = 23\n",
    "S2dDacBias = 3\n",
    "for RefGenC in RefGenCList:\n",
    "    setADC (RefGenB, RefGenC, S2D_1_b, shvc_DAC, S2dDacBias)\n",
    "\n",
    "    ######################################################################################################################\n",
    "    # Remove previous dataset\n",
    "    filename = (f'/u1/ddoering/ePixHR10kTLCLSIITiming_ASICV3_noise_320MHz_RefGenC_%d_All_run1.dat' % RefGenC)\n",
    "    ########################################################################################################################\n",
    "    imgDesc = run_asic_test()\n",
    "    ########################################################################################################################\n",
    "    [noiseMap, darkAvg] = noise_print()\n"
   ]
  },
  {
   "cell_type": "code",
   "execution_count": null,
   "id": "c2b42660-5f3f-41e8-ae1e-e472f5fdd98d",
   "metadata": {
    "tags": []
   },
   "outputs": [],
   "source": [
    "RefGenB = 3\n",
    "RefGenC = 2\n",
    "S2D_1_bList = [0, 1, 2, 3, 4, 5, 6, 7]\n",
    "shvc_DAC = 23\n",
    "S2dDacBias = 3\n",
    "for S2D_1_b in S2D_1_bList:\n",
    "    setADC (RefGenB, RefGenC, S2D_1_b, shvc_DAC, S2dDacBias)\n",
    "\n",
    "    ######################################################################################################################\n",
    "    # Remove previous dataset\n",
    "    filename = (f'/u1/ddoering/ePixHR10kTLCLSIITiming_ASICV3_noise_320MHz_S2D_1_b_%d_All_run1.dat' % S2D_1_b)\n",
    "    ########################################################################################################################\n",
    "    imgDesc = run_asic_test()\n",
    "    ########################################################################################################################\n",
    "    [noiseMap, darkAvg] = noise_print()"
   ]
  },
  {
   "cell_type": "code",
   "execution_count": null,
   "id": "53e26612-458a-4386-9e74-b6725b6bba18",
   "metadata": {
    "tags": []
   },
   "outputs": [],
   "source": [
    "RefGenB = 3\n",
    "RefGenC = 2\n",
    "S2D_1_b = 0\n",
    "shvc_DACList = [3, 13, 23, 33, 43, 53, 63]\n",
    "S2dDacBias = 3\n",
    "for shvc_DAC in shvc_DACList:\n",
    "    setADC (RefGenB, RefGenC, S2D_1_b, shvc_DAC, S2dDacBias)\n",
    "\n",
    "    ######################################################################################################################\n",
    "    # Remove previous dataset\n",
    "    filename = (f'/u1/ddoering/ePixHR10kTLCLSIITiming_ASICV3_noise_320MHz_shvc_DAC_%d_All_run1.dat' % shvc_DAC)\n",
    "    ########################################################################################################################\n",
    "    imgDesc = run_asic_test()\n",
    "    ########################################################################################################################\n",
    "    [noiseMap, darkAvg] = noise_print()"
   ]
  },
  {
   "cell_type": "code",
   "execution_count": null,
   "id": "9f6719c8-28e4-4e4d-a600-d3ccbf423814",
   "metadata": {
    "tags": []
   },
   "outputs": [],
   "source": [
    "RefGenB = 3\n",
    "RefGenC = 2\n",
    "S2D_1_b = 0\n",
    "shvc_DAC = 23\n",
    "S2dDacBiasList = [0, 1, 2, 3, 4, 5, 6, 7]\n",
    "for S2dDacBias in S2dDacBiasList:\n",
    "    setADC (RefGenB, RefGenC, S2D_1_b, shvc_DAC, S2dDacBias)\n",
    "\n",
    "    ######################################################################################################################\n",
    "    # Remove previous dataset\n",
    "    filename = (f'/u1/ddoering/ePixHR10kTLCLSIITiming_ASICV3_noise_320MHz_S2dDacBias_%d_All_run1.dat' % S2dDacBias)\n",
    "    ########################################################################################################################\n",
    "    imgDesc = run_asic_test()\n",
    "    ########################################################################################################################\n",
    "    [noiseMap, darkAvg] = noise_print()"
   ]
  },
  {
   "cell_type": "markdown",
   "id": "d734147e-9c46-482c-98ca-81cf3db18ca0",
   "metadata": {
    "jupyter": {
     "outputs_hidden": true
    },
    "tags": []
   },
   "source": [
    "# Custom settings, repeat latest 10kA"
   ]
  },
  {
   "cell_type": "code",
   "execution_count": null,
   "id": "9f7158f5-b3b2-4dc2-8254-cc3a4de0fb93",
   "metadata": {},
   "outputs": [],
   "source": [
    "Preamp = 4\n",
    "Vld1_b = 1\n",
    "Pixel_CB= 4\n",
    "Filter_DAC=17\n",
    "VRef_DAC =19\n",
    "\n",
    "\n",
    "setPixel (Preamp, Vld1_b, Pixel_CB, Filter_DAC, VRef_DAC)\n",
    "\n",
    "######################################################################################################################\n",
    "# Remove previous dataset\n",
    "filename = (f'/u1/ddoering/ePixHR10kTLCLSIITiming_ASICV3_noise_320MHz_10ka_settings_All_run1.dat')\n",
    "########################################################################################################################\n",
    "imgDesc = run_asic_test()\n",
    "########################################################################################################################\n",
    "[noiseMap, darkAvg] = noise_print()\n"
   ]
  },
  {
   "cell_type": "code",
   "execution_count": null,
   "id": "da990aa2-d617-4cba-aff0-cbc6c213ba58",
   "metadata": {
    "tags": []
   },
   "outputs": [],
   "source": [
    "Preamp = 6\n",
    "Vld1_b = 1\n",
    "Pixel_CB= 4\n",
    "Filter_DAC=17\n",
    "VRef_DAC =53\n",
    "\n",
    "\n",
    "setPixel (Preamp, Vld1_b, Pixel_CB, Filter_DAC, VRef_DAC)\n",
    "\n",
    "######################################################################################################################\n",
    "# Remove previous dataset\n",
    "filename = (f'/u1/ddoering/ePixHR10kTLCLSIITiming_ASICV3_noise_320MHz_10ka_settings_Preamp_%d_VrefDAC_%d_All_run1.dat' % (Preamp , VRef_DAC))\n",
    "########################################################################################################################\n",
    "imgDesc = run_asic_test()\n",
    "########################################################################################################################\n",
    "[noiseMap, darkAvg] = noise_print()"
   ]
  },
  {
   "cell_type": "code",
   "execution_count": null,
   "id": "05ec3ef2-41e7-42d6-9304-141f64e97c75",
   "metadata": {},
   "outputs": [],
   "source": []
  }
 ],
 "metadata": {
  "kernelspec": {
   "display_name": "Python 3 (ipykernel)",
   "language": "python",
   "name": "python3"
  },
  "language_info": {
   "codemirror_mode": {
    "name": "ipython",
    "version": 3
   },
   "file_extension": ".py",
   "mimetype": "text/x-python",
   "name": "python",
   "nbconvert_exporter": "python",
   "pygments_lexer": "ipython3",
   "version": "3.9.13"
  }
 },
 "nbformat": 4,
 "nbformat_minor": 5
}
