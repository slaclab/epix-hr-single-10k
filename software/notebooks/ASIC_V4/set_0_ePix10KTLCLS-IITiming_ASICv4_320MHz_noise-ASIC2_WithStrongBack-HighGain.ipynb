{
 "cells": [
  {
   "cell_type": "code",
   "execution_count": null,
   "id": "afe95d27-a75e-4e4b-a273-5e7348c4f986",
   "metadata": {
    "tags": []
   },
   "outputs": [],
   "source": [
    "# Setup the library\n",
    "import pyrogue as pr\n",
    "import os, sys\n",
    "import matplotlib.pyplot as plt\n",
    "import time\n",
    "import numpy as np\n",
    "import math\n",
    "\n",
    "top_level=f'{os.getcwd()}/../../'\n",
    "pr.addLibraryPath( f'{top_level}/scripts' )\n",
    "import setupLibPaths\n",
    "import epix_hr_single_10k\n",
    "import ePixViewer.Cameras as cameras\n"
   ]
  },
  {
   "cell_type": "code",
   "execution_count": null,
   "id": "73a91cdc-f4b6-4051-accd-fcfa3f258f57",
   "metadata": {
    "tags": []
   },
   "outputs": [],
   "source": [
    "# Create and start the root class\n",
    "root = epix_hr_single_10k.RootLCLSIITiming(\n",
    "    top_level   = top_level,\n",
    "    sim         = False,\n",
    "    dev         = '/dev/datadev_1',\n",
    "    asicVersion = 4\n",
    ")\n",
    "root.start()"
   ]
  },
  {
   "cell_type": "code",
   "execution_count": null,
   "id": "4b684e4b-b333-4ce0-83c4-deec2eb1bf3b",
   "metadata": {
    "tags": []
   },
   "outputs": [],
   "source": [
    "# Create useful pointers\n",
    "AxiVersion = root.Core.AxiVersion\n",
    "print ( '###################################################')\n",
    "print ( '#             Firmware Version                    #')\n",
    "print ( '###################################################')\n",
    "AxiVersion.printStatus()\n",
    "print ( '###################################################')"
   ]
  },
  {
   "cell_type": "code",
   "execution_count": null,
   "id": "ed87be74-000c-4e40-96a8-48e3da9a58f5",
   "metadata": {},
   "outputs": [],
   "source": []
  },
  {
   "cell_type": "code",
   "execution_count": null,
   "id": "ea3de03a-0aeb-49a1-bb32-db0ed1f6ea8f",
   "metadata": {
    "tags": []
   },
   "outputs": [],
   "source": [
    "#Initialze the camera\n",
    "#[routine, asic0, asic1, asic2, asic3]'\n",
    "initSequence = 5\n",
    "root.EpixHR.InitASIC([initSequence,0,0,1,0])\n",
    "#points to the ASIC device under test\n",
    "ASIC = root.EpixHR.Hr10kTAsic2\n",
    "root.EpixHR.BatcherEventBuilder0.Blowoff.set(True)\n",
    "root.EpixHR.BatcherEventBuilder1.Blowoff.set(False)"
   ]
  },
  {
   "cell_type": "code",
   "execution_count": null,
   "id": "0c50ec64-c104-4493-aad4-fd9af8a00057",
   "metadata": {
    "tags": []
   },
   "outputs": [],
   "source": [
    "def readPixelConfig(ASIC, x, y):\n",
    "    ASIC.CmdPrepForRead() #0000\n",
    "    ASIC.PrepareMultiConfig() #8000\n",
    "    bankToWrite = int(y/48);\n",
    "    if (bankToWrite == 0):\n",
    "     colToWrite = 0x700 + y%48;\n",
    "    elif (bankToWrite == 1):\n",
    "     colToWrite = 0x680 + y%48;\n",
    "    elif (bankToWrite == 2):\n",
    "     colToWrite = 0x580 + y%48;\n",
    "    elif (bankToWrite == 3):\n",
    "     colToWrite = 0x380 + y%48;\n",
    "    else:\n",
    "     print('unexpected bank number')\n",
    "    ASIC.RowCounter.set(x) #6011\n",
    "    ASIC.ColCounter.set(colToWrite) #6013\n",
    "    readBack = ASIC.WritePixelData.get() #5000\n",
    "    ASIC.CmdPrepForRead() #0000\n",
    "    return readBack\n",
    "\n",
    "def writedPixelConfig(ASIC, x, y, value):\n",
    "    ASIC.CmdPrepForRead() #0000\n",
    "    ASIC.PrepareMultiConfig() #8000\n",
    "    bankToWrite = int(y/48);\n",
    "    if (bankToWrite == 0):\n",
    "     colToWrite = 0x700 + y%48;\n",
    "    elif (bankToWrite == 1):\n",
    "     colToWrite = 0x680 + y%48;\n",
    "    elif (bankToWrite == 2):\n",
    "     colToWrite = 0x580 + y%48;\n",
    "    elif (bankToWrite == 3):\n",
    "     colToWrite = 0x380 + y%48;\n",
    "    else:\n",
    "     print('unexpected bank number')\n",
    "    ASIC.RowCounter.set(x) #6011\n",
    "    ASIC.ColCounter.set(colToWrite) #6013\n",
    "    readBack = ASIC.WritePixelData.set(value) #5000\n",
    "    ASIC.CmdPrepForRead() #0000\n",
    "    return readBack"
   ]
  },
  {
   "cell_type": "code",
   "execution_count": null,
   "id": "d1da45a6-b992-4e60-b552-329cd747de14",
   "metadata": {
    "tags": []
   },
   "outputs": [],
   "source": [
    "#Makes sure triggers are off\n",
    "root.EpixHR.TriggerRegisters.RunTriggerEnable.set(False)\n",
    "time.sleep(0.1)\n",
    "root.EpixHR.TriggerRegisters.RunTriggerEnable.set(True)\n",
    "time.sleep(10)\n",
    "root.EpixHR.TriggerRegisters.RunTriggerEnable.set(False)\n",
    "time.sleep(0.1)\n"
   ]
  },
  {
   "cell_type": "code",
   "execution_count": null,
   "id": "3cc17a4b-895c-432a-a52e-58f943c0327f",
   "metadata": {
    "tags": []
   },
   "outputs": [],
   "source": [
    "#use system with batcher and missing ASICs\n",
    "root.EpixHR.SspLowSpeedDecoderReg.enable.set(True)\n",
    "print (\"Locked lanes: %x\" % root.EpixHR.SspLowSpeedDecoderReg.Locked.get())\n",
    "#Only ASIC 1 is available so disable the 6 lower lanes\n",
    "root.EpixHR.PacketRegisters0.DisableLane.set(0x3FF)\n",
    "root.EpixHR.PacketRegisters1.DisableLane.set(0xFC0)\n",
    "#using internal triggers, so bypassing timing channel at the batcher \n",
    "root.EpixHR.BatcherEventBuilder0.Bypass.set(1)\n",
    "root.EpixHR.BatcherEventBuilder1.Bypass.set(1)"
   ]
  },
  {
   "cell_type": "markdown",
   "id": "f1dd8b12-a2f2-4e38-9147-6936cd2a64a7",
   "metadata": {
    "tags": []
   },
   "source": [
    "# Helper functions"
   ]
  },
  {
   "cell_type": "code",
   "execution_count": null,
   "id": "e9e49de8-3fc4-46de-86e4-d74bad616fd7",
   "metadata": {
    "tags": []
   },
   "outputs": [],
   "source": [
    "def run_asic_test():\n",
    "    if os.path.isfile(f'{filename}'):   \n",
    "        os.remove(f'{filename}')    \n",
    "    print(filename)\n",
    "    # Setup and open the file writer\n",
    "    writer = root.dataWriter._writer\n",
    "    writer.open(f'{filename}')\n",
    "\n",
    "    # Wait for the file write to open the file\n",
    "    while( writer.isOpen() is False):\n",
    "        time.sleep(0.1)\n",
    "\n",
    "    # Wait a little bit for the file to open up\n",
    "    time.sleep(1.0)    \n",
    "\n",
    "    #sets TriggerRegisters\n",
    "    AcqCount = root.EpixHR.TriggerRegisters.AcqCount.get()\n",
    "    DaqCount = root.EpixHR.TriggerRegisters.DaqCount.get()\n",
    "    print(\"Aquisition Counter \" + str(AcqCount))\n",
    "    print(\"DAQ Counter \" + str(DaqCount))\n",
    "    root.EpixHR.TriggerRegisters.AutoTrigPeriod.set(25000) #in steps of 10ns\n",
    "    root.EpixHR.TriggerRegisters.AutoRunEn.set(True)\n",
    "    root.EpixHR.TriggerRegisters.RunTriggerEnable.set(True)\n",
    "    #wait for the camera to get thermally stable\n",
    "    time.sleep(5.0)    \n",
    "    root.EpixHR.TriggerRegisters.AutoDaqEn.set(True)\n",
    "    root.EpixHR.TriggerRegisters.DaqTriggerEnable.set(True)\n",
    "    initialFrameCounter = writer.getFrameCount()\n",
    "    # Wait for the file write noise data\n",
    "    while(writer.getFrameCount() < initialFrameCounter + 4000):\n",
    "        print( f'Number of frames received: {writer.getFrameCount()}' )\n",
    "        time.sleep(1)\n",
    "\n",
    "    # stops triggers\n",
    "    root.EpixHR.TriggerRegisters.RunTriggerEnable.set(False)\n",
    "    time.sleep(0.1)\n",
    "\n",
    "    # Print the status\n",
    "    DeltaAcqCount = root.EpixHR.TriggerRegisters.AcqCount.get() - AcqCount\n",
    "    DeltaDaqCount = root.EpixHR.TriggerRegisters.DaqCount.get() - DaqCount\n",
    "    print( f'Delta Aquisition Counter: {DeltaDaqCount}')\n",
    "    print( f'Number of frames received: {writer.getFrameCount()}' )\n",
    "\n",
    "    # Close the file writer\n",
    "    writer.close()\n",
    "\n",
    "    # Wait for the file write to close the file\n",
    "    while( writer.isOpen() is True):\n",
    "        time.sleep(0.1)\n",
    "\n",
    "    ########################################################################################################################3\n",
    "    f = open(filename, mode = 'rb')\n",
    "    imgDesc = []\n",
    "    for i in range(1):\n",
    "        print(\"Starting to get data set %d\" % (i))\n",
    "        allFrames = currentCam.getData(f,8)\n",
    "        imgDesc2 = currentCam.getDescImaData(allFrames[:,:-8])\n",
    "        if i == 0:\n",
    "            headers = allFrames[:,0:6]\n",
    "            imgDesc = imgDesc2\n",
    "        if i == 1: #skips the first dataset\n",
    "            headers = allFrames[:,0:6]\n",
    "            imgDesc = imgDesc2\n",
    "        else:\n",
    "            headers = np.concatenate((headers, allFrames[:,0:6]),0)\n",
    "            imgDesc = np.concatenate((imgDesc, imgDesc2),0)\n",
    "        if allFrames.shape[0] != MAX_NUMBER_OF_FRAMES_PER_BATCH:\n",
    "            break\n",
    "\n",
    "\n",
    "    numberOfFrames = allFrames.shape[0]\n",
    "    print(allFrames.shape)\n",
    "    ###########################################################################################################################\n",
    "    return imgDesc\n"
   ]
  },
  {
   "cell_type": "code",
   "execution_count": null,
   "id": "d925dd6a-bd42-4906-8a07-694fd96fa21b",
   "metadata": {
    "tags": []
   },
   "outputs": [],
   "source": [
    "def noise_print(offset = 0):\n",
    "    print(imgDesc[100].shape)\n",
    "    hg_n  = imgDesc[:,:,offset:offset+192].astype('float64')\n",
    "    hg_n -= np.median(hg_n, axis=0, keepdims=True)\n",
    "    hg_n -= np.median(hg_n, axis=(1,2), keepdims=True)\n",
    "    hg_n -= np.median(hg_n, axis=2, keepdims=True) # rows (cols)\n",
    "    hg_n -= np.median(hg_n, axis=1, keepdims=True) # cols (rows)\n",
    "    imgDescCMC = hg_n\n",
    "    noiseMap = np.std(imgDescCMC,0)\n",
    "    darkAvg  = np.mean(imgDesc,0)\n",
    "    \n",
    "    #noiseMap = np.std(imgDesc[:,:,offset:offset+192],0)\n",
    "    #darkAvg  = np.mean(imgDesc[:,:,192:384],0)\n",
    "    medianNoise = np.median(noiseMap)\n",
    "    plt.figure(1,figsize=(12,8),dpi=150)\n",
    "    plt.imshow(noiseMap, cmap='gray', vmin=0, vmax=100)\n",
    "    plt.colorbar(location='right', anchor=(0, 0.3), shrink=0.7)\n",
    "\n",
    "    plt.figure(2,figsize=(12,8),dpi=150)\n",
    "    dataset = noiseMap\n",
    "    plt.hist(dataset.reshape(-1), bins=100, label=f'\\nNoise Map distribution AHL, Avg. Dark level w/o CMC %d, Mediam Noise %d' % (np.mean(np.mean(darkAvg)), medianNoise)) \n",
    "    plt.yscale('log')\n",
    "    plt.title(\"histogram\") \n",
    "    plt.legend()\n",
    "    plt.show()\n",
    "    print()\n",
    "    return noiseMap, darkAvg"
   ]
  },
  {
   "cell_type": "markdown",
   "id": "799b4e0e-52cc-4e5a-b730-a3dec01affbc",
   "metadata": {
    "tags": []
   },
   "source": [
    "# Pixel Optimizaion"
   ]
  },
  {
   "cell_type": "code",
   "execution_count": null,
   "id": "4694fc47-1295-41ca-9d87-58dfe441d613",
   "metadata": {
    "tags": []
   },
   "outputs": [],
   "source": [
    "def setPixel (Preamp = 4, Vld1_b = 1, Pixel_CB = 4, Filter_DAC = 38, VRef_DAC = 53):\n",
    "    ASIC.Preamp.set(Preamp)\n",
    "    ASIC.Vld1_b.set(Vld1_b)\n",
    "    ASIC.Pixel_CB.set(Pixel_CB)\n",
    "    ASIC.Filter_DAC.set(Filter_DAC)\n",
    "    ASIC.VRef_DAC.set(VRef_DAC)\n",
    "\n",
    "\n",
    "    print('Preamp', ASIC.Preamp.get())\n",
    "    print('Vld1_b',ASIC.Vld1_b.get())\n",
    "    print('Pixel_CB',ASIC.Pixel_CB.get())\n",
    "    print('Filter_DAC',ASIC.Filter_DAC.get())\n",
    "    print('VRef_DAC',ASIC.VRef_DAC.get())"
   ]
  },
  {
   "cell_type": "code",
   "execution_count": null,
   "id": "0523d947-90fc-466c-a1cd-c642290de3eb",
   "metadata": {},
   "outputs": [],
   "source": [
    "MAX_NUMBER_OF_FRAMES_PER_BATCH  = 1000\n",
    "cameraType            = 'ePixHr10kTBatcher'\n",
    "bitMask               = 0xffff\n",
    "currentCam = cameras.Camera(cameraType = cameraType)\n",
    "currentCam.bitMask = bitMask"
   ]
  },
  {
   "cell_type": "code",
   "execution_count": null,
   "id": "dc9844e4-e796-4aab-aa35-e91c0dec07e8",
   "metadata": {
    "tags": []
   },
   "outputs": [],
   "source": [
    "#Makes sure triggers are off\n",
    "root.EpixHR.TriggerRegisters.RunTriggerEnable.set(False)\n",
    "time.sleep(0.2)\n",
    "root.EpixHR.TriggerRegisters.RunTriggerEnable.set(True)\n",
    "time.sleep(0.2)\n",
    "root.EpixHR.TriggerRegisters.RunTriggerEnable.set(False)\n",
    "time.sleep(0.2)\n",
    "\n",
    "PreampList = [7,6,5,4,3,2,1,0]\n",
    "Vld1_b = 0\n",
    "Pixel_CB= 7\n",
    "Filter_DAC= 17\n",
    "VRef_DAC = 58\n",
    "\n",
    "for Preamp in PreampList:\n",
    "    setPixel (Preamp, Vld1_b, Pixel_CB, Filter_DAC, VRef_DAC)\n",
    "\n",
    "    ######################################################################################################################\n",
    "    # Remove previous dataset\n",
    "    filename = (f'/u2/ddoering/ASIC_V4_ASIC2_SB/ePixHR10kTLCLSIITiming_ASICV4_ASIC2_noise_320MHz_initSequence_%d_Preamp_%d_Vld1b_%d_PixelCB_%d_Filter_DAC_%d_VRrefdac_%d_run1.dat' % (initSequence, Preamp, Vld1_b, Pixel_CB, Filter_DAC, VRef_DAC))\n",
    "    ########################################################################################################################\n",
    "    imgDesc = run_asic_test()\n",
    "    ########################################################################################################################\n",
    "    [noiseMap, darkAvg] = noise_print()"
   ]
  },
  {
   "cell_type": "code",
   "execution_count": null,
   "id": "438e44f4-b5f7-4cff-bc48-b942ed6b2c38",
   "metadata": {
    "tags": []
   },
   "outputs": [],
   "source": [
    "#Makes sure triggers are off\n",
    "root.EpixHR.TriggerRegisters.RunTriggerEnable.set(False)\n",
    "time.sleep(0.1)\n",
    "root.EpixHR.TriggerRegisters.RunTriggerEnable.set(True)\n",
    "time.sleep(0.1)\n",
    "root.EpixHR.TriggerRegisters.RunTriggerEnable.set(False)\n",
    "time.sleep(0.1)\n",
    "\n",
    "Preamp = 7\n",
    "Vld1_bList = [0, 1, 2, 3]\n",
    "Pixel_CB= 7\n",
    "Filter_DAC= 17\n",
    "VRef_DAC = 58\n",
    "\n",
    "for Vld1_b in Vld1_bList:\n",
    "    setPixel (Preamp, Vld1_b, Pixel_CB, Filter_DAC, VRef_DAC)\n",
    "\n",
    "    ######################################################################################################################\n",
    "    # Remove previous dataset\n",
    "    filename = (f'/u2/ddoering/ASIC_V4_ASIC2_SB/ePixHR10kTLCLSIITiming_ASICV4_ASIC2_noise_320MHz_initSequence_%d_Preamp_%d_Vld1b_%d_PixelCB_%d_Filter_DAC_%d_VRrefdac_%d_run1.dat' % (initSequence, Preamp, Vld1_b, Pixel_CB, Filter_DAC, VRef_DAC))    ########################################################################################################################\n",
    "    imgDesc = run_asic_test()\n",
    "    ########################################################################################################################\n",
    "    [noiseMap, darkAvg] = noise_print()"
   ]
  },
  {
   "cell_type": "code",
   "execution_count": null,
   "id": "20093272-9dd6-4317-87e7-c91d5f38f6e0",
   "metadata": {
    "tags": []
   },
   "outputs": [],
   "source": [
    "#Makes sure triggers are off\n",
    "root.EpixHR.TriggerRegisters.RunTriggerEnable.set(False)\n",
    "time.sleep(0.1)\n",
    "root.EpixHR.TriggerRegisters.RunTriggerEnable.set(True)\n",
    "time.sleep(0.1)\n",
    "root.EpixHR.TriggerRegisters.RunTriggerEnable.set(False)\n",
    "time.sleep(0.1)\n",
    "\n",
    "Preamp = 7\n",
    "Vld1_b = 0\n",
    "Pixel_CBList= [7,6,5,4,3,2,1,0]\n",
    "Filter_DAC= 17\n",
    "VRef_DAC = 58\n",
    "\n",
    "for Pixel_CB in Pixel_CBList:\n",
    "    setPixel (Preamp, Vld1_b, Pixel_CB, Filter_DAC, VRef_DAC)\n",
    "\n",
    "    ######################################################################################################################\n",
    "    # Remove previous dataset\n",
    "    filename = (f'/u2/ddoering/ASIC_V4_ASIC2_SB/ePixHR10kTLCLSIITiming_ASICV4_ASIC2_noise_320MHz_initSequence_%d_Preamp_%d_Vld1b_%d_PixelCB_%d_Filter_DAC_%d_VRrefdac_%d_run1.dat' % (initSequence, Preamp, Vld1_b, Pixel_CB, Filter_DAC, VRef_DAC))    ########################################################################################################################\n",
    "    imgDesc = run_asic_test()\n",
    "    ########################################################################################################################\n",
    "    [noiseMap, darkAvg] = noise_print()"
   ]
  },
  {
   "cell_type": "code",
   "execution_count": null,
   "id": "5b72dbeb-6961-4987-8039-df683e013385",
   "metadata": {
    "tags": []
   },
   "outputs": [],
   "source": [
    "#Makes sure triggers are off\n",
    "root.EpixHR.TriggerRegisters.RunTriggerEnable.set(False)\n",
    "time.sleep(0.1)\n",
    "root.EpixHR.TriggerRegisters.RunTriggerEnable.set(True)\n",
    "time.sleep(0.1)\n",
    "root.EpixHR.TriggerRegisters.RunTriggerEnable.set(False)\n",
    "time.sleep(0.1)\n",
    "\n",
    "Preamp = 7\n",
    "Vld1_b = 0\n",
    "Pixel_CB= 7\n",
    "Filter_DACList=[7, 13, 15, 17, 19, 21, 27, 37, 47, 57]\n",
    "VRef_DAC = 58\n",
    "\n",
    "for Filter_DAC in Filter_DACList:\n",
    "    setPixel (Preamp, Vld1_b, Pixel_CB, Filter_DAC, VRef_DAC)\n",
    "\n",
    "    ######################################################################################################################\n",
    "    # Remove previous dataset\n",
    "    filename = (f'/u2/ddoering/ASIC_V4_ASIC2_SB/ePixHR10kTLCLSIITiming_ASICV4_ASIC2_noise_320MHz_initSequence_%d_Preamp_%d_Vld1b_%d_PixelCB_%d_Filter_DAC_%d_VRrefdac_%d_run1.dat' % (initSequence, Preamp, Vld1_b, Pixel_CB, Filter_DAC, VRef_DAC))\n",
    "    ########################################################################################################################\n",
    "    imgDesc = run_asic_test()\n",
    "    ########################################################################################################################\n",
    "    [noiseMap, darkAvg] = noise_print()"
   ]
  },
  {
   "cell_type": "code",
   "execution_count": null,
   "id": "b6d4e441-45a4-4b47-990e-92b164af05ac",
   "metadata": {
    "tags": []
   },
   "outputs": [],
   "source": [
    "Preamp = 7\n",
    "Vld1_b = 0\n",
    "Pixel_CB= 7\n",
    "Filter_DAC= 17\n",
    "VRef_DACList =[3, 13, 23, 33, 43, 48, 53, 58, 63]\n",
    "\n",
    "for VRef_DAC in VRef_DACList:\n",
    "    setPixel (Preamp, Vld1_b, Pixel_CB, Filter_DAC, VRef_DAC)\n",
    "\n",
    "    ######################################################################################################################\n",
    "    # Remove previous dataset\n",
    "    filename = (f'/u2/ddoering/ASIC_V4_ASIC2_SB/ePixHR10kTLCLSIITiming_ASICV4_ASIC2_noise_320MHz_initSequence_%d_Preamp_%d_Vld1b_%d_PixelCB_%d_Filter_DAC_%d_VRrefdac_%d_run1.dat' % (initSequence, Preamp, Vld1_b, Pixel_CB, Filter_DAC, VRef_DAC))    ########################################################################################################################\n",
    "    imgDesc = run_asic_test()\n",
    "    ########################################################################################################################\n",
    "    [noiseMap, darkAvg] = noise_print()"
   ]
  }
 ],
 "metadata": {
  "kernelspec": {
   "display_name": "Python 3 (ipykernel)",
   "language": "python",
   "name": "python3"
  },
  "language_info": {
   "codemirror_mode": {
    "name": "ipython",
    "version": 3
   },
   "file_extension": ".py",
   "mimetype": "text/x-python",
   "name": "python",
   "nbconvert_exporter": "python",
   "pygments_lexer": "ipython3",
   "version": "3.9.13"
  }
 },
 "nbformat": 4,
 "nbformat_minor": 5
}
