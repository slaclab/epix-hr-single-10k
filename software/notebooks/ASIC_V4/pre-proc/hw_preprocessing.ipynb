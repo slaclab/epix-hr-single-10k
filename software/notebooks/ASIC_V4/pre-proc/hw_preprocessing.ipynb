{
 "cells": [
  {
   "cell_type": "code",
   "execution_count": 1,
   "id": "afe95d27-a75e-4e4b-a273-5e7348c4f986",
   "metadata": {
    "tags": []
   },
   "outputs": [],
   "source": [
    "# Setup the library\n",
    "import pyrogue as pr\n",
    "import os, sys\n",
    "import matplotlib.pyplot as plt\n",
    "import time\n",
    "import numpy as np\n",
    "import math\n",
    "\n",
    "top_level=f'{os.getcwd()}/../../../'\n",
    "pr.addLibraryPath( f'{top_level}/scripts' )\n",
    "import setupLibPaths\n",
    "import epix_hr_single_10k"
   ]
  },
  {
   "cell_type": "code",
   "execution_count": 2,
   "id": "73a91cdc-f4b6-4051-accd-fcfa3f258f57",
   "metadata": {
    "scrolled": true,
    "tags": []
   },
   "outputs": [
    {
     "name": "stdout",
     "output_type": "stream",
     "text": [
      "Simulation mode : False\n",
      "justCtrl mode : False\n",
      "Start: Started zmqServer on ports 9103-9105\n",
      "    To start a gui: python -m pyrogue gui --server='localhost:9103'\n",
      "    To use a virtual client: client = pyrogue.interfaces.VirtualClient(addr='localhost', port=9103)\n"
     ]
    }
   ],
   "source": [
    "# Create and start the root class\n",
    "root = epix_hr_single_10k.Root(\n",
    "    top_level   = top_level,\n",
    "    sim         = False,\n",
    "    dev         = '/dev/datadev_1',\n",
    "    asicVersion = 4,\n",
    "    pollEn      = False\n",
    ")\n",
    "root.start()"
   ]
  },
  {
   "cell_type": "code",
   "execution_count": 3,
   "id": "15251ee4-4aa7-4296-984e-aa3ebef8f5fc",
   "metadata": {},
   "outputs": [],
   "source": [
    "root.Core.AxiVersion.FpgaReload()\n",
    "time.sleep(5)"
   ]
  },
  {
   "cell_type": "code",
   "execution_count": 4,
   "id": "4b684e4b-b333-4ce0-83c4-deec2eb1bf3b",
   "metadata": {
    "tags": []
   },
   "outputs": [
    {
     "name": "stdout",
     "output_type": "stream",
     "text": [
      "###################################################\n",
      "#             Firmware Version                    #\n",
      "###################################################\n",
      "Path         = ePixHr10kT.Core.AxiVersion\n",
      "FwVersion    = 0x3010000\n",
      "UpTime       = 0:00:02\n",
      "GitHash      = dirty (uncommitted code)\n",
      "XilinxDnaId  = 0x40020001016011410501c185\n",
      "FwTarget     = EpixHr10kTLclsIITiming\n",
      "BuildEnv     = Vivado v2023.1\n",
      "BuildServer  = rdsrv408 (CentOS Linux 7 (Core))\n",
      "BuildDate    = Fri Nov 22 07:35:07 PST 2024\n",
      "Builder      = ddoering\n",
      "###################################################\n"
     ]
    }
   ],
   "source": [
    "# Create useful pointers\n",
    "AxiVersion = root.Core.AxiVersion\n",
    "print ( '###################################################')\n",
    "print ( '#             Firmware Version                    #')\n",
    "print ( '###################################################')\n",
    "AxiVersion.printStatus()\n",
    "print ( '###################################################')"
   ]
  },
  {
   "cell_type": "code",
   "execution_count": 5,
   "id": "ea3de03a-0aeb-49a1-bb32-db0ed1f6ea8f",
   "metadata": {
    "tags": []
   },
   "outputs": [
    {
     "name": "stdout",
     "output_type": "stream",
     "text": [
      "Rysync ASIC started\n",
      "Init ASIC script started\n",
      "Loading MMCM configuration\n",
      "/u1/ddoering/localGit/epix-hr-single-10k/software/notebooks/ASIC_V4/pre-proc/../../../yml/ePixHr10kT_MMCM_248MHz.yml\n",
      "Completed\n",
      "Loading supply configuration\n",
      "/u1/ddoering/localGit/epix-hr-single-10k/software/notebooks/ASIC_V4/pre-proc/../../..//yml/ePixHr10kT_PowerSupply_Enable.yml\n",
      "Loading register control (waveforms) configuration\n",
      "/u1/ddoering/localGit/epix-hr-single-10k/software/notebooks/ASIC_V4/pre-proc/../../..//yml/ePixHr10kT_RegisterControl_24us_248MHz.yml\n",
      "Loading packet registers\n",
      "/u1/ddoering/localGit/epix-hr-single-10k/software/notebooks/ASIC_V4/pre-proc/../../..//yml/ePixHr10kT_PacketRegisters.yml\n",
      "Taking asic off of reset\n",
      "Loading ASIC and timing configuration\n",
      "Loading  /u1/ddoering/localGit/epix-hr-single-10k/software/notebooks/ASIC_V4/pre-proc/../../..//yml/ePixHr10kT_PLLBypass_248MHz_ASIC_0.yml\n",
      "Command executed :  <class 'pyrogue._Command.BaseCommand'> - ePixHr10kT.EpixHR.Hr10kTAsic0.ClearMatrix\n",
      "Loading  /u1/ddoering/localGit/epix-hr-single-10k/software/notebooks/ASIC_V4/pre-proc/../../..//yml/ePixHr10kT_PLLBypass_248MHz_ASIC_1.yml\n",
      "Command executed :  <class 'pyrogue._Command.BaseCommand'> - ePixHr10kT.EpixHR.Hr10kTAsic1.ClearMatrix\n",
      "Loading  /u1/ddoering/localGit/epix-hr-single-10k/software/notebooks/ASIC_V4/pre-proc/../../..//yml/ePixHr10kT_PLLBypass_248MHz_ASIC_2.yml\n",
      "Command executed :  <class 'pyrogue._Command.BaseCommand'> - ePixHr10kT.EpixHR.Hr10kTAsic2.ClearMatrix\n",
      "Loading  /u1/ddoering/localGit/epix-hr-single-10k/software/notebooks/ASIC_V4/pre-proc/../../..//yml/ePixHr10kT_PLLBypass_248MHz_ASIC_3.yml\n",
      "Command executed :  <class 'pyrogue._Command.BaseCommand'> - ePixHr10kT.EpixHR.Hr10kTAsic3.ClearMatrix\n",
      "Loading Trigger settings\n",
      "/u1/ddoering/localGit/epix-hr-single-10k/software/notebooks/ASIC_V4/pre-proc/../../..//yml/ePixHr10kT_TriggerRegisters_100Hz.yml\n",
      "Initialization routine completed.\n"
     ]
    }
   ],
   "source": [
    "#Initialze the camera\n",
    "#[routine, asic0, asic1, asic2, asic3]'\n",
    "root.EpixHR.InitASIC([21,1,1,1,1])\n",
    "root.EpixHR.PacketRegisters0.asicDataReq.set(145)\n",
    "root.EpixHR.PacketRegisters1.asicDataReq.set(145)\n",
    "root.EpixHR.PacketRegisters0.DisableLane.set(0xffe)\n",
    "root.EpixHR.PacketRegisters0.EnumerateDisLane.set(0xfff)"
   ]
  },
  {
   "cell_type": "code",
   "execution_count": 69,
   "id": "a847b016-9945-40c0-9c0b-5194912fd0ef",
   "metadata": {},
   "outputs": [
    {
     "name": "stdout",
     "output_type": "stream",
     "text": [
      "2\n",
      "0\n",
      "Set Auto Trigger command executed\n",
      "Start Auto Trigger command executed\n",
      "1420\n",
      "1437\n",
      "Stop Triggers command executed\n",
      "0\n",
      "2\n",
      "Set Auto Trigger command executed\n",
      "Start Auto Trigger command executed\n",
      "1437\n",
      "1456\n",
      "Stop Triggers command executed\n",
      "Start Auto Trigger command executed\n"
     ]
    }
   ],
   "source": [
    "root.EpixHR.DataCorrectionHLS.enable.set(True)\n",
    "#root.dummyGen0.SendCalibFrame()\n",
    "print(root.EpixHR.DataCorrectionHLS.HLSAxiLileReg.get())\n",
    "root.EpixHR.DataCorrectionHLS.HLSAxiLileReg.set(0)\n",
    "print(root.EpixHR.DataCorrectionHLS.HLSAxiLileReg.get())\n",
    "\n",
    "root.EpixHR.PacketRegisters0.DisableLane.set(0x0)\n",
    "root.EpixHR.PacketRegisters0.EnumerateDisLane.set(0x0)\n",
    "root.EpixHR.TriggerRegisters.SetAutoTrigger(10)\n",
    "root.EpixHR.TriggerRegisters.StartAutoTrigger()\n",
    "print(root.DataReceiver2.FrameCount.get())\n",
    "time.sleep(3)\n",
    "print(root.DataReceiver2.FrameCount.get())\n",
    "root.EpixHR.TriggerRegisters.StopTriggers()\n",
    "\n",
    "\n",
    "root.EpixHR.DataCorrectionHLS.enable.set(True)\n",
    "#root.dummyGen0.SendCalibFrame()\n",
    "print(root.EpixHR.DataCorrectionHLS.HLSAxiLileReg.get())\n",
    "root.EpixHR.DataCorrectionHLS.HLSAxiLileReg.set(2)\n",
    "print(root.EpixHR.DataCorrectionHLS.HLSAxiLileReg.get())\n",
    "\n",
    "\n",
    "root.EpixHR.PacketRegisters0.DisableLane.set(0xf)\n",
    "root.EpixHR.PacketRegisters0.EnumerateDisLane.set(0xf)\n",
    "root.EpixHR.TriggerRegisters.SetAutoTrigger(10)\n",
    "root.EpixHR.TriggerRegisters.StartAutoTrigger()\n",
    "print(root.DataReceiver2.FrameCount.get())\n",
    "time.sleep(3)\n",
    "print(root.DataReceiver2.FrameCount.get())\n",
    "root.EpixHR.TriggerRegisters.StopTriggers()"
   ]
  },
  {
   "cell_type": "code",
   "execution_count": 28,
   "id": "cea67e58-1156-47c6-9146-467fec854e88",
   "metadata": {},
   "outputs": [
    {
     "name": "stdout",
     "output_type": "stream",
     "text": [
      "Set Auto Trigger command executed\n",
      "Start Auto Trigger command executed\n",
      "397\n",
      "414\n",
      "Stop Triggers command executed\n"
     ]
    }
   ],
   "source": [
    "root.EpixHR.PacketRegisters0.DisableLane.set(0xfff)\n",
    "root.EpixHR.PacketRegisters0.EnumerateDisLane.set(0xfff)\n",
    "root.EpixHR.TriggerRegisters.SetAutoTrigger(10)\n",
    "root.EpixHR.TriggerRegisters.StartAutoTrigger()\n",
    "print(root.DataReceiver2.FrameCount.get())\n",
    "time.sleep(3)\n",
    "print(root.DataReceiver2.FrameCount.get())\n",
    "root.EpixHR.TriggerRegisters.StopTriggers()"
   ]
  },
  {
   "cell_type": "code",
   "execution_count": 29,
   "id": "b16f5e2c-c58f-49c8-a7ba-a4ff80c3b065",
   "metadata": {},
   "outputs": [
    {
     "data": {
      "text/plain": [
       "False"
      ]
     },
     "execution_count": 29,
     "metadata": {},
     "output_type": "execute_result"
    }
   ],
   "source": [
    "root.EpixHR.BatcherEventBuilder2.Blowoff.get()\n"
   ]
  },
  {
   "cell_type": "code",
   "execution_count": 30,
   "id": "3cc17a4b-895c-432a-a52e-58f943c0327f",
   "metadata": {
    "tags": []
   },
   "outputs": [
    {
     "name": "stdout",
     "output_type": "stream",
     "text": [
      "Locked lanes: ffffff\n"
     ]
    }
   ],
   "source": [
    "#use system with batcher and missing ASICs\n",
    "root.EpixHR.SspLowSpeedDecoderReg.enable.set(True)\n",
    "print (\"Locked lanes: %x\" % root.EpixHR.SspLowSpeedDecoderReg.Locked.get())\n",
    "#Only ASIC 1 is available so disable the 6 lower lanes\n",
    "#root.EpixHR.PacketRegisters0.DisableLane.set(0x3FF)\n",
    "#root.EpixHR.PacketRegisters1.DisableLane.set(0xFC0)\n"
   ]
  },
  {
   "cell_type": "code",
   "execution_count": 109,
   "id": "4cf29269-74b9-4562-8f6f-1ba2bc183fed",
   "metadata": {},
   "outputs": [],
   "source": [
    "imgRows = 145\n",
    "imgCols = 384\n",
    "darkHigh = np.ones((imgRows,imgCols),dtype=np.uint64)*0\n",
    "for i in range(145):\n",
    "    darkHigh[i, :] = i\n",
    "#darkHigh[:,  0] = 0\n",
    "#darkHigh[0, :] = np.arange(384)\n",
    "#darkHigh[2, :] = np.arange(384)\n",
    "#darkHigh[2, :] = 0\n",
    "#darkHigh[20, :] = 0\n",
    "gainHigh = np.ones((imgRows,imgCols),dtype=np.uint64)*0\n",
    "darkLow  = np.ones((imgRows,imgCols),dtype=np.uint64)*0\n",
    "gainLow  = np.ones((imgRows,imgCols),dtype=np.uint64)*0\n",
    "\n",
    "calibParams = root.dummyGen0.setCalibArray(gainLow,darkLow,gainHigh,darkHigh)\n",
    "root.dummyGen0.testImage = calibParams"
   ]
  },
  {
   "cell_type": "code",
   "execution_count": 80,
   "id": "4c09c144-ba7d-4324-a3b9-eb60f91aab2f",
   "metadata": {},
   "outputs": [],
   "source": [
    "root.dummyGen0._height = 5"
   ]
  },
  {
   "cell_type": "code",
   "execution_count": 111,
   "id": "1c56bd5f-11c8-49b9-8132-2887c5065592",
   "metadata": {},
   "outputs": [
    {
     "name": "stdout",
     "output_type": "stream",
     "text": [
      "Stop Triggers command executed\n",
      "2\n",
      "1\n",
      "ibFrame.getPayload() = 445440\n",
      "ibFrame.getPayload() = 445440\n",
      "Start Auto Trigger command executed\n"
     ]
    }
   ],
   "source": [
    "root.EpixHR.TriggerRegisters.StopTriggers()\n",
    "time.sleep(1)\n",
    "#HLS\n",
    "root.EpixHR.DataCorrectionHLS.enable.set(True)\n",
    "#root.dummyGen0.SendCalibFrame()\n",
    "print(root.EpixHR.DataCorrectionHLS.HLSAxiLileReg.get())\n",
    "root.EpixHR.DataCorrectionHLS.HLSAxiLileReg.set(1)\n",
    "print(root.EpixHR.DataCorrectionHLS.HLSAxiLileReg.get())\n",
    "# sending frame twice enable calib write\n",
    "#root.dummyGen0.SendCalibFrame()\n",
    "for i in range(1):\n",
    "    root.dummyGen0.SendCalibFrame()\n",
    "    time.sleep(0.05)\n",
    "time.sleep(5)\n",
    "#root.dummyGen0.SendCalibFrame()\n",
    "root.EpixHR.DataCorrectionHLS.HLSAxiLileReg.set(0)\n",
    "# sending fram after enables raw data in\n",
    "root.dummyGen0._height = 145\n",
    "root.dummyGen0.SendCalibFrame()"
   ]
  },
  {
   "cell_type": "markdown",
   "id": "0e83540a-c274-4dea-af3a-a37b8f814e97",
   "metadata": {},
   "source": [
    "imgRows = 145\n",
    "imgCols = 384\n",
    "darkHigh = np.ones((imgRows,imgCols),dtype=np.uint64)*500\n",
    "gainHigh = np.ones((imgRows,imgCols),dtype=np.uint64)*256\n",
    "darkLow  = np.ones((imgRows,imgCols),dtype=np.uint64)*100\n",
    "gainLow  = np.ones((imgRows,imgCols),dtype=np.uint64)*256\n",
    "\n",
    "calibParams = root.dummyGen0.setCalibArray(gainLow,darkLow,gainHigh,darkHigh)\n",
    "root.dummyGen0.testImage = calibParams"
   ]
  },
  {
   "cell_type": "markdown",
   "id": "2da379fb-5c2a-40e2-b2c9-3aba48cfd474",
   "metadata": {},
   "source": [
    "#root.EpixHR.TriggerRegisters.StopTriggers()\n",
    "#time.sleep(1)\n",
    "#HLS\n",
    "root.EpixHR.DataCorrectionHLS.enable.set(True)\n",
    "root.dummyGen0.SendCalibFrame()\n",
    "print(root.EpixHR.DataCorrectionHLS.HLSAxiLileReg.get())\n",
    "root.EpixHR.DataCorrectionHLS.HLSAxiLileReg.set(1)\n",
    "print(root.EpixHR.DataCorrectionHLS.HLSAxiLileReg.get())\n",
    "# sending frame twice enable calib write\n",
    "root.dummyGen0.SendCalibFrame()\n",
    "root.dummyGen0.SendCalibFrame()\n",
    "root.EpixHR.DataCorrectionHLS.HLSAxiLileReg.set(4)\n",
    "# sending fram after enables raw data in\n",
    "root.dummyGen0.SendCalibFrame()"
   ]
  },
  {
   "cell_type": "markdown",
   "id": "a125e0b6-e286-4a6a-a440-63e453630d61",
   "metadata": {},
   "source": [
    "vhex = np.vectorize(hex)\n",
    "vhex(root.dummyGen0.testImage)"
   ]
  },
  {
   "cell_type": "code",
   "execution_count": null,
   "id": "d1da45a6-b992-4e60-b552-329cd747de14",
   "metadata": {
    "tags": []
   },
   "outputs": [],
   "source": [
    "root.EpixHR.DataCorrectionHLS.HLSAxiLileReg.set(2)\n",
    "root.EpixHR.TriggerRegisters.SetAutoTrigger(10)\n",
    "root.EpixHR.TriggerRegisters.StartAutoTrigger()\n",
    "print(root.DataReceiver2.FrameCount.get())\n",
    "time.sleep(1)\n",
    "print(root.DataReceiver2.FrameCount.get())"
   ]
  },
  {
   "cell_type": "markdown",
   "id": "69df598d-8db5-4529-b82e-514ccef56fbb",
   "metadata": {
    "scrolled": true
   },
   "source": [
    "# 1 - load calib\n",
    "# 2 - dark sub\n",
    "# 4 - gain corr\n",
    "# 6 - dark and gain\n",
    "root.EpixHR.TriggerRegisters.StopTriggers()\n",
    "time.sleep(0.1)\n",
    "root.EpixHR.DataCorrectionHLS.HLSAxiLileReg.set(4)\n",
    "time.sleep(0.1)\n",
    "root.EpixHR.TriggerRegisters.StartAutoTrigger()"
   ]
  },
  {
   "cell_type": "code",
   "execution_count": 112,
   "id": "6c33c4f3-7cc6-431d-8316-8b126d317804",
   "metadata": {},
   "outputs": [
    {
     "name": "stdout",
     "output_type": "stream",
     "text": [
      "(144, 384)\n",
      "(144, 384)\n",
      "[-262 -262 -262 -262 -262 -262 -262 -262 -262 -262 -262 -262 -262 -262\n",
      " -262 -262 -262 -262 -262 -262 -262 -262 -262 -262 -262 -262 -262 -262\n",
      " -262 -262 -262 -262 -262 -262 -262 -262 -262 -262 -262 -262 -262 -262\n",
      " -262 -262 -262 -262 -262 -262 -262 -262 -230 -230 -262 -262 -262 -262\n",
      " -262 -262 -262 -262 -262 -262 -262 -262 -262 -262 -262 -262 -262 -262\n",
      " -262 -262 -262 -262 -262 -262 -262 -262 -262 -262 -262 -262 -262 -262\n",
      " -262 -262 -262 -262 -262 -262 -262 -262 -262 -262 -262 -262 -262 -262\n",
      " -262 -262 -262 -262 -262 -262 -262 -262 -262 -262 -262 -262 -262 -262\n",
      " -262 -262 -262 -262 -262 -262 -262 -262 -262 -262 -262 -262 -262 -262\n",
      " -262 -262 1588 1722 1660 1660 1620 1564 1630 1690 1774 1754 1674 1704\n",
      " 1624 1622 1646 1680 1716 1712 1648 1684 1712 1642 1708 1644 1646 1664\n",
      " 1544 1612 1696 1640 1672 1694 1736 1618 1710 1684 1708 1662 1766 1716\n",
      " 1768 1750 1662 1682 1700 1752 1696 1718 1722 1696 1786 1666 1730 1652\n",
      " 1756 1714 1770 1820 1694 1686 1728 1766 1798 1732 7488 7672 7672 7498\n",
      " 7488 7488 7488 7488 7488 7488 7488 7488 7620 7488 7488 7488 1478 7488\n",
      " 7488 7488 7488 7488 7488 7488 7488 7488 7488 7746 7520 7520 7520 7520\n",
      " 7520 7520 7520 7550 7520 7520 7488 7604 7486 7486 7486 7486 7486 7486\n",
      " 7486 7486 7486 7486 7486 7578 7486 7492 7486 7670 7486 7500 7486 7486\n",
      " 7486 7486 7668 7486 7486 7486 7486 7486 7486 7554 7486 7486 7486 7486\n",
      " 7486 7662 7578 7486 7486 7486 7486 7486 7486 7486 7486 7486 7644 7486\n",
      " 7486 7490 7508 7486 7486 7516 7486 7594 7486 3394 7486 7486 7486 7486\n",
      " 7486 7508 7486 7540 7486 7486 7638 7548 7486 7486 7486 7486 7486 7486\n",
      " 7486 7486 7486 7570 7486 7564 7670 7486 7486 7534 7486 7486 7486 7550\n",
      " 7486 7670 7486 7486 2158 7504 7666 7486 7486 7496 7486 7296 7486 7486\n",
      " 7486 7486 7486 7486 7486 7486 7744 7486 7486 7526 7496 7744 7486 7486\n",
      " 7486 7486 7486 7486 7486 7496 7486 7486 7552 7486 7486 7486 7486 7530\n",
      " 7670 7486 7486 7618 7486 7486 7486 7486 7486 7486 7378 7486 7486 7486\n",
      " 7492 7486 7486 7486 7604 7500]\n",
      "[ -30  -30  -30  -30  -30  -30  -30  -30  -30  -30  -30  -30  -30  -30\n",
      "  -30  -30  -30  -30  -30  -30  -30  -30  -30  -30  -30  -30  -30  -30\n",
      "  -30  -30  -30  -30  -30  -30  -30  -30  -30  -30  -30  -30  -30  -30\n",
      "  -30  -30  -30  -30  -30  -30  -30  -30  -30  -30  -30  -30  -30  -30\n",
      "  -30  -30  -30  -30  -30  -30  -30  -30  -30  -30  -30  -30  -30  -30\n",
      "  -30  -30  -30  -30  -30  -30  -30  -30  -30  -30  -30  -30  -30  -30\n",
      "  -30  -30  -30  -30  -30  -30  -30  -30  -30  -30  -30  -30  -30  -30\n",
      "  -30  -30  -30  -30  -30  -30  -30  -30  -30  -30  -30  -30  -30  -30\n",
      "  -30  -30  -30  -30  -30  -30  -30  -30  -30  -30  -30  -30  -30  -30\n",
      "  -30  -30 1796 1898 7394 7396 7110 7318 1858 1906 1980 1952 1924 1894\n",
      " 1856 7250 7276 7346 1918 1946 1866 1904 1920 1856 7268 7208 7342 1904\n",
      " 1780 1876 1952 1832 1872 1898 7488 7358 7308 7302 7362 1928 1980 1958\n",
      " 2002 1980 1868 1906 1900 2014 1910 1936 1940 1944 1988 1880 1948 1894\n",
      " 2026 1918 1986 2036 1948 1950 1974 2032 2046 1970 7720 7904 7900 7764\n",
      " 7720 7720 7720 7720 7720 7720 7720 7720 7884 7720 7720 7720 3554 7720\n",
      " 7720 7720 7720 7720 7720 7720 7720 7720 7720 7978 7720 7720 7720 7720\n",
      " 7720 7720 7720 7746 7720 7720 7720 7806 7720 7720 7720 7720 7464 7720\n",
      " 7720 7720 7720 7720 7720 7804 7720 7730 7720 7904 7720 7760 7720 7720\n",
      " 7720 7720 7900 7720 7720 7720 7720 7720 7720 7760 7720 7720 7720 7720\n",
      " 7720 7900 7790 7720 7720 7720 7720 7720 7720 7720 7720 7720 7884 7720\n",
      " 7720 7720 7762 7720 7720 7746 7720 7774 7720 5078 7720 7720 7720 7720\n",
      " 7720 7742 7720 7752 7720 7720 7882 7748 7720 7720 7720 7720 7720 7720\n",
      " 7720 7720 7720 7902 7720 7780 7904 7720 7720 7482 7720 7720 7720 7764\n",
      " 7720 7904 7720 7720  898 7720 7888 7720 7720 7730 7720 7720 7720 7720\n",
      " 7720 7720 7720 7720 7720 7722 7978 7720 7720 7748 7728 7978 7720 7720\n",
      " 7720 7720 7720 7720 7720 7730 7720 7720 7748 7720 7720 7720 7720 7730\n",
      " 7904 7720 7720 7818 7720 7720 7720 7720 7720 7720 7904 7720 7720 7720\n",
      " 7720 7720 7720 7720 7836 7754]\n",
      "[-262 -262 -264 -264 -264 -266 -266 -268 -268 -268 -270 -270 -272 -272\n",
      " -272 -274 -274 -274 -276 -276 -278 -278 -278 -280 -280 -282 -282 -282\n",
      " -284 -284 -286 -286 -286 -288 -288 -288 -256 -258 -258 -258 -260 -260\n",
      " -262 -262 -262 -264 -264 -266 -266 -266 -268 -268 -270 -270 -270 -272\n",
      " -272 -272 -274 -274 -276 -276 -276 -278 -278 -280 -280 -280 -282 -282\n",
      " -282 -284 -284 -286 -286 -286 -288 -288    0    0    0   -2   -2   -4\n",
      "   -4   -4   -6   -6   -6   -8   -8  -10  -10  -10  -12  -12  -14  -14\n",
      "  -14  -16  -16  -16  -18  -18  -20  -20  -22  -22  -24  -24  -24  -26\n",
      "  -26  -28  -28  -28  -30  -30  -32  -32  -32  -34  -34  -34  -36  -36\n",
      "  -38  -38   -4  -40  -40  -40  -42  -42  -44  -44  -44  -46  -46  -48\n",
      "  -14  -14  -16  -16]\n"
     ]
    },
    {
     "data": {
      "image/png": "[encoded data removed]",
      "text/plain": [
       "<Figure size 640x480 with 1 Axes>"
      ]
     },
     "metadata": {},
     "output_type": "display_data"
    },
    {
     "data": {
      "image/png": "[encoded data removed]",
      "text/plain": [
       "<Figure size 640x480 with 1 Axes>"
      ]
     },
     "metadata": {},
     "output_type": "display_data"
    },
    {
     "name": "stdout",
     "output_type": "stream",
     "text": [
      "Connected to ePixHr10kT at localhost:9103\n",
      "ERROR:pydm.data_plugins:Channel  did not specify a valid protocol and no default protocol is defined. This channel will receive no data. To specify a default protocol, set the PYDM_DEFAULT_PROTOCOL environment variable.\n",
      "ERROR:pydm.data_plugins:Channel  did not specify a valid protocol and no default protocol is defined. This channel will receive no data. To specify a default protocol, set the PYDM_DEFAULT_PROTOCOL environment variable.\n",
      "ERROR:pydm.data_plugins:Channel  did not specify a valid protocol and no default protocol is defined. This channel will receive no data. To specify a default protocol, set the PYDM_DEFAULT_PROTOCOL environment variable.\n",
      "Rogue/pyrogue version v6.2.0. https://github.com/slaclab/rogue\n",
      "ZmqClient::setTimeout: Setting timeout to 1000 msecs, waitRetry = 0\n",
      "ZmqClient::setTimeout: Setting timeout to 1000 msecs, waitRetry = 1\n"
     ]
    }
   ],
   "source": [
    "dark = root.DataReceiver0.Data.get()\n",
    "print(dark.shape)\n",
    "plt.figure()\n",
    "plt.imshow(dark, cmap='gray', vmin=0, vmax=20)\n",
    "plt.plot()\n",
    "\n",
    "plt.figure()\n",
    "pre = root.DataReceiver2.Data.get().astype(np.int16)\n",
    "print(dark.shape)\n",
    "dark.shape\n",
    "plt.imshow(pre, cmap='gray', vmin=-400, vmax=0)\n",
    "plt.plot()\n",
    "\n",
    "imgRows = 145\n",
    "imgCols = 384\n",
    "darkHigh = np.ones((imgRows,imgCols),dtype=np.uint64)*0\n",
    "darkHigh[1:,:] = dark\n",
    "gainHigh = np.ones((imgRows,imgCols),dtype=np.uint64)*0\n",
    "darkLow  = np.ones((imgRows,imgCols),dtype=np.uint64)*0\n",
    "darkLow[1:,:] = dark\n",
    "gainLow  = np.ones((imgRows,imgCols),dtype=np.uint64)*0\n",
    "\n",
    "#calibParams = root.dummyGen0.setCalibArray(gainLow,darkLow,gainHigh,darkHigh)\n",
    "#root.dummyGen0.testImage = calibParams\n",
    "\n",
    "print(pre[1,:])\n",
    "print(pre[117,:])\n",
    "print(pre[:,20])"
   ]
  },
  {
   "cell_type": "code",
   "execution_count": null,
   "id": "03045b4d-2312-40b4-b44a-968fc175d659",
   "metadata": {},
   "outputs": [],
   "source": [
    "[row,col] = np.where(pre != 0)\n",
    "col.shape"
   ]
  },
  {
   "cell_type": "code",
   "execution_count": 108,
   "id": "6392d0fe-3cab-489a-91a8-1e4e5ae8790a",
   "metadata": {},
   "outputs": [
    {
     "name": "stdout",
     "output_type": "stream",
     "text": [
      "Stop Triggers command executed\n"
     ]
    }
   ],
   "source": [
    "root.EpixHR.TriggerRegisters.StopTriggers()\n",
    "time.sleep(1)\n",
    "root.EpixHR.RegisterControl.preProcCrtl.set(1)\n",
    "time.sleep(1)\n",
    "root.EpixHR.RegisterControl.preProcCrtl.set(0)"
   ]
  },
  {
   "cell_type": "code",
   "execution_count": null,
   "id": "679b2a71-8b48-4c63-ab27-21f50e679230",
   "metadata": {
    "scrolled": true
   },
   "outputs": [],
   "source": [
    "imgRows = 145\n",
    "imgCols = 384\n",
    "darkHigh = np.ones((imgRows,imgCols),dtype=np.uint64)*0\n",
    "#darkHigh[0, :] = np.arange(384)\n",
    "darkHigh[1, :] = 100\n",
    "#darkHigh[2, :] = np.arange(384)\n",
    "#darkHigh[3, :] = np.arange(384)\n",
    "#gainHigh = np.ones((imgRows,imgCols),dtype=np.uint64)*64\n",
    "darkLow  = np.ones((imgRows,imgCols),dtype=np.uint64)*2\n",
    "gainLow  = np.ones((imgRows,imgCols),dtype=np.uint64)*256\n",
    "calibParams = root.dummyGen0.setCalibArray(gainLow,darkLow,gainHigh,darkHigh)\n",
    "root.dummyGen0.testImage = calibParams\n",
    "\n",
    "\n",
    "#HLS\n",
    "root.EpixHR.DataCorrectionHLS.enable.set(True)\n",
    "root.dummyGen0.SendCalibFrame()\n",
    "print(root.EpixHR.DataCorrectionHLS.HLSAxiLileReg.get())\n",
    "root.EpixHR.DataCorrectionHLS.HLSAxiLileReg.set(1)\n",
    "print(root.EpixHR.DataCorrectionHLS.HLSAxiLileReg.get())\n",
    "# sending frame twice enable calib write\n",
    "root.dummyGen0.SendCalibFrame()\n",
    "root.dummyGen0.SendCalibFrame()\n",
    "root.EpixHR.DataCorrectionHLS.HLSAxiLileReg.set(2)\n",
    "# sending fram after enables raw data in\n",
    "root.dummyGen0.SendCalibFrame()"
   ]
  },
  {
   "cell_type": "code",
   "execution_count": null,
   "id": "86ca4c16-2489-4492-9952-6917a661b182",
   "metadata": {
    "scrolled": true
   },
   "outputs": [],
   "source": [
    "imgRows = 145\n",
    "imgCols = 384\n",
    "darkHigh = np.ones((imgRows,imgCols),dtype=np.uint64)*0\n",
    "#darkHigh[0, :] = np.arange(384)\n",
    "#darkHigh[1, :] = 100\n",
    "#darkHigh[2, :] = np.arange(384)\n",
    "#darkHigh[3, :] = np.arange(384)\n",
    "gainHigh = np.ones((imgRows,imgCols),dtype=np.uint64)*128\n",
    "gainHigh[0, :] = 0\n",
    "darkLow  = np.ones((imgRows,imgCols),dtype=np.uint64)*2\n",
    "gainLow  = np.ones((imgRows,imgCols),dtype=np.uint64)*256\n",
    "calibParams = root.dummyGen0.setCalibArray(gainLow,darkLow,gainHigh,darkHigh)\n",
    "root.dummyGen0.testImage = calibParams\n",
    "\n",
    "\n",
    "#HLS\n",
    "root.EpixHR.DataCorrectionHLS.enable.set(True)\n",
    "root.dummyGen0.SendCalibFrame()\n",
    "print(root.EpixHR.DataCorrectionHLS.HLSAxiLileReg.get())\n",
    "root.EpixHR.DataCorrectionHLS.HLSAxiLileReg.set(1)\n",
    "print(root.EpixHR.DataCorrectionHLS.HLSAxiLileReg.get())\n",
    "# sending frame twice enable calib write\n",
    "root.dummyGen0.SendCalibFrame()\n",
    "root.dummyGen0.SendCalibFrame()\n",
    "root.EpixHR.DataCorrectionHLS.HLSAxiLileReg.set(4)\n",
    "# sending fram after enables raw data in\n",
    "root.dummyGen0.SendCalibFrame()"
   ]
  },
  {
   "cell_type": "code",
   "execution_count": null,
   "id": "b3140751-2e0f-4885-a983-d25ef8974b24",
   "metadata": {},
   "outputs": [],
   "source": [
    "dark = root.DataReceiver0.Data.get()\n",
    "print(dark.shape)\n",
    "plt.figure()\n",
    "plt.imshow(dark, cmap='gray', vmin=-20, vmax=20)\n",
    "plt.plot()\n",
    "\n",
    "plt.figure()\n",
    "pre = root.DataReceiver2.Data.get()\n",
    "print(pre.shape)\n",
    "plt.imshow(pre.astype(np.int16), cmap='gray', vmin=-20, vmax=20)\n",
    "plt.plot()\n",
    "print(np.max(np.max(pre)))"
   ]
  },
  {
   "cell_type": "markdown",
   "id": "f1dd8b12-a2f2-4e38-9147-6936cd2a64a7",
   "metadata": {
    "tags": []
   },
   "source": [
    "# Helper functions"
   ]
  },
  {
   "cell_type": "code",
   "execution_count": null,
   "id": "02843766-41fd-4bfd-ac3f-36560f9d0464",
   "metadata": {},
   "outputs": [],
   "source": []
  },
  {
   "cell_type": "code",
   "execution_count": null,
   "id": "e9e49de8-3fc4-46de-86e4-d74bad616fd7",
   "metadata": {
    "tags": []
   },
   "outputs": [],
   "source": [
    "def run_asic_test():\n",
    "    if os.path.isfile(f'{filename}'):   \n",
    "        os.remove(f'{filename}')    \n",
    "    print(filename)\n",
    "    # Setup and open the file writer\n",
    "    writer = root.dataWriter._writer\n",
    "    writer.open(f'{filename}')\n",
    "\n",
    "    # Wait for the file write to open the file\n",
    "    while( writer.isOpen() is False):\n",
    "        time.sleep(0.1)\n",
    "\n",
    "    # Wait a little bit for the file to open up\n",
    "    time.sleep(1.0)    \n",
    "\n",
    "    #sets TriggerRegisters\n",
    "    AcqCount = root.EpixHR.TriggerRegisters.AcqCount.get()\n",
    "    print(\"Aquisition Counter \" + str(AcqCount))\n",
    "    root.EpixHR.TriggerRegisters.AutoTrigPeriod.set(50000) #in steps of 10ns\n",
    "    root.EpixHR.TriggerRegisters.AutoRunEn.set(True)\n",
    "    root.EpixHR.TriggerRegisters.RunTriggerEnable.set(True)\n",
    "    #wait for the camera to get thermally stable\n",
    "    time.sleep(5.0)    \n",
    "    root.EpixHR.TriggerRegisters.AutoDaqEn.set(True)\n",
    "    root.EpixHR.TriggerRegisters.DaqTriggerEnable.set(True)\n",
    "    initialFrameCounter = writer.getFrameCount()\n",
    "    # Wait for the file write noise data\n",
    "    while(writer.getFrameCount() < initialFrameCounter + 4000):\n",
    "        print( f'Number of frames received: {writer.getFrameCount()}' )\n",
    "        time.sleep(1)\n",
    "\n",
    "    # stops triggers\n",
    "    root.EpixHR.TriggerRegisters.RunTriggerEnable.set(False)\n",
    "    time.sleep(0.1)\n",
    "\n",
    "    # Print the status\n",
    "    DeltaAcqCount = root.EpixHR.TriggerRegisters.AcqCount.get() - AcqCount\n",
    "    #print( f'Delta Aquisition Counter: {DeltaAcqCount}')\n",
    "    print( f'Number of frames received: {writer.getFrameCount()}' )\n",
    "\n",
    "    # Close the file writer\n",
    "    writer.close()\n",
    "\n",
    "    # Wait for the file write to close the file\n",
    "    while( writer.isOpen() is True):\n",
    "        time.sleep(0.1)\n",
    "\n",
    "    ########################################################################################################################3\n",
    "    f = open(filename, mode = 'rb')\n",
    "    imgDesc = []\n",
    "    for i in range(1):\n",
    "        print(\"Starting to get data set %d\" % (i))\n",
    "        allFrames = currentCam.getData(f,16)\n",
    "        imgDesc2 = currentCam.getDescImaData(allFrames)\n",
    "        if i == 0:\n",
    "            headers = allFrames[:,0:6]\n",
    "            imgDesc = imgDesc2\n",
    "        if i == 1: #skips the first dataset\n",
    "            headers = allFrames[:,0:6]\n",
    "            imgDesc = imgDesc2\n",
    "        else:\n",
    "            headers = np.concatenate((headers, allFrames[:,0:6]),0)\n",
    "            imgDesc = np.concatenate((imgDesc, imgDesc2),0)\n",
    "        if allFrames.shape[0] != MAX_NUMBER_OF_FRAMES_PER_BATCH:\n",
    "            break\n",
    "\n",
    "\n",
    "    numberOfFrames = allFrames.shape[0]\n",
    "    print(allFrames.shape)\n",
    "    ###########################################################################################################################\n",
    "    return imgDesc\n"
   ]
  },
  {
   "cell_type": "code",
   "execution_count": null,
   "id": "d925dd6a-bd42-4906-8a07-694fd96fa21b",
   "metadata": {
    "tags": []
   },
   "outputs": [],
   "source": [
    "def noise_print(offset = 0):\n",
    "    print(imgDesc[100].shape)\n",
    "    hg_n  = imgDesc[:,:,offset:offset+192].astype('float64')\n",
    "    hg_n -= np.median(hg_n, axis=0, keepdims=True)\n",
    "    hg_n -= np.median(hg_n, axis=(1,2), keepdims=True)\n",
    "    hg_n -= np.median(hg_n, axis=2, keepdims=True) # rows (cols)\n",
    "    hg_n -= np.median(hg_n, axis=1, keepdims=True) # cols (rows)\n",
    "    imgDescCMC = hg_n\n",
    "    noiseMap = np.std(imgDescCMC,0)\n",
    "    darkAvg  = np.mean(imgDesc,0)\n",
    "    \n",
    "    #noiseMap = np.std(imgDesc[:,:,offset:offset+192],0)\n",
    "    #darkAvg  = np.mean(imgDesc[:,:,192:384],0)\n",
    "    medianNoise = np.median(noiseMap)\n",
    "    plt.figure(1,figsize=(12,8),dpi=150)\n",
    "    plt.imshow(noiseMap, cmap='gray', vmin=0, vmax=100)\n",
    "    plt.colorbar(location='right', anchor=(0, 0.3), shrink=0.7)\n",
    "\n",
    "    plt.figure(2,figsize=(12,8),dpi=150)\n",
    "    dataset = noiseMap\n",
    "    plt.hist(dataset.reshape(-1), bins=100, label=f'\\nNoise Map distribution AHL, Avg. Dark level w/o CMC %d, Mediam Noise %d' % (np.mean(np.mean(darkAvg)), medianNoise)) \n",
    "    plt.yscale('log')\n",
    "    plt.title(\"histogram\") \n",
    "    plt.legend()\n",
    "    plt.show()\n",
    "    print()\n",
    "    return noiseMap, darkAvg"
   ]
  },
  {
   "cell_type": "markdown",
   "id": "799b4e0e-52cc-4e5a-b730-a3dec01affbc",
   "metadata": {
    "tags": []
   },
   "source": [
    "# Pixel Optimizaion"
   ]
  },
  {
   "cell_type": "code",
   "execution_count": null,
   "id": "4694fc47-1295-41ca-9d87-58dfe441d613",
   "metadata": {
    "tags": []
   },
   "outputs": [],
   "source": [
    "def setPixel (Preamp = 4, Vld1_b = 1, Pixel_CB = 4, Filter_DAC = 38, VRef_DAC = 53):\n",
    "    ASIC.Preamp.set(Preamp)\n",
    "    ASIC.Vld1_b.set(Vld1_b)\n",
    "    ASIC.Pixel_CB.set(Pixel_CB)\n",
    "    ASIC.Filter_DAC.set(Filter_DAC)\n",
    "    ASIC.VRef_DAC.set(VRef_DAC)\n",
    "\n",
    "\n",
    "    print('Preamp', ASIC.Preamp.get())\n",
    "    print('Vld1_b',ASIC.Vld1_b.get())\n",
    "    print('Pixel_CB',ASIC.Pixel_CB.get())\n",
    "    print('Filter_DAC',ASIC.Filter_DAC.get())\n",
    "    print('VRef_DAC',ASIC.VRef_DAC.get())"
   ]
  },
  {
   "cell_type": "code",
   "execution_count": null,
   "id": "0523d947-90fc-466c-a1cd-c642290de3eb",
   "metadata": {},
   "outputs": [],
   "source": [
    "MAX_NUMBER_OF_FRAMES_PER_BATCH  = 1000\n",
    "cameraType            = 'ePixHr10kTBatcher'\n",
    "bitMask               = 0xffff\n",
    "currentCam = cameras.Camera(cameraType = cameraType)\n",
    "currentCam.bitMask = bitMask"
   ]
  },
  {
   "cell_type": "code",
   "execution_count": null,
   "id": "dc9844e4-e796-4aab-aa35-e91c0dec07e8",
   "metadata": {
    "tags": []
   },
   "outputs": [],
   "source": [
    "#Makes sure triggers are off\n",
    "root.EpixHR.TriggerRegisters.RunTriggerEnable.set(False)\n",
    "time.sleep(0.2)\n",
    "root.EpixHR.TriggerRegisters.RunTriggerEnable.set(True)\n",
    "time.sleep(0.2)\n",
    "root.EpixHR.TriggerRegisters.RunTriggerEnable.set(False)\n",
    "time.sleep(0.2)\n",
    "\n",
    "PreampList = [7,6,5,4,3,2,1,0]\n",
    "Vld1_b = 0\n",
    "Pixel_CB= 7\n",
    "Filter_DAC= 17\n",
    "VRef_DAC = 58\n",
    "\n",
    "for Preamp in PreampList:\n",
    "    setPixel (Preamp, Vld1_b, Pixel_CB, Filter_DAC, VRef_DAC)\n",
    "\n",
    "    ######################################################################################################################\n",
    "    # Remove previous dataset\n",
    "    filename = (f'/u2/ddoering/ASIC_V4_ASIC2_SB/ePixHR10kTLCLSIITiming_ASICV3_ASIC2_noise_320MHz_Preamp_%d_Vld1b_%d_PixelCB_%d_Filter_DAC_%d_VRrefdac_%d_run1.dat' % (Preamp, Vld1_b, Pixel_CB, Filter_DAC, VRef_DAC))\n",
    "    ########################################################################################################################\n",
    "    imgDesc = run_asic_test()\n",
    "    ########################################################################################################################\n",
    "    [noiseMap, darkAvg] = noise_print()"
   ]
  },
  {
   "cell_type": "code",
   "execution_count": null,
   "id": "438e44f4-b5f7-4cff-bc48-b942ed6b2c38",
   "metadata": {
    "tags": []
   },
   "outputs": [],
   "source": [
    "#Makes sure triggers are off\n",
    "root.EpixHR.TriggerRegisters.RunTriggerEnable.set(False)\n",
    "time.sleep(0.1)\n",
    "root.EpixHR.TriggerRegisters.RunTriggerEnable.set(True)\n",
    "time.sleep(0.1)\n",
    "root.EpixHR.TriggerRegisters.RunTriggerEnable.set(False)\n",
    "time.sleep(0.1)\n",
    "\n",
    "Preamp = 7\n",
    "Vld1_bList = [0, 1, 2, 3]\n",
    "Pixel_CB= 7\n",
    "Filter_DAC= 17\n",
    "VRef_DAC = 58\n",
    "\n",
    "for Vld1_b in Vld1_bList:\n",
    "    setPixel (Preamp, Vld1_b, Pixel_CB, Filter_DAC, VRef_DAC)\n",
    "\n",
    "    ######################################################################################################################\n",
    "    # Remove previous dataset\n",
    "    filename = (f'/u2/ddoering/ASIC_V3_ASIC2_SB/ePixHR10kTLCLSIITiming_ASICV3_ASIC2_noise_320MHz_Preamp_%d_Vld1b_%d_PixelCB_%d_Filter_DAC_%d_VRrefdac_%d_run1.dat' % (Preamp, Vld1_b, Pixel_CB, Filter_DAC, VRef_DAC))\n",
    "    ########################################################################################################################\n",
    "    imgDesc = run_asic_test()\n",
    "    ########################################################################################################################\n",
    "    [noiseMap, darkAvg] = noise_print()"
   ]
  },
  {
   "cell_type": "code",
   "execution_count": null,
   "id": "20093272-9dd6-4317-87e7-c91d5f38f6e0",
   "metadata": {
    "tags": []
   },
   "outputs": [],
   "source": [
    "#Makes sure triggers are off\n",
    "root.EpixHR.TriggerRegisters.RunTriggerEnable.set(False)\n",
    "time.sleep(0.1)\n",
    "root.EpixHR.TriggerRegisters.RunTriggerEnable.set(True)\n",
    "time.sleep(0.1)\n",
    "root.EpixHR.TriggerRegisters.RunTriggerEnable.set(False)\n",
    "time.sleep(0.1)\n",
    "\n",
    "Preamp = 7\n",
    "Vld1_b = 0\n",
    "Pixel_CBList= [7,6,5,4,3,2,1,0]\n",
    "Filter_DAC= 17\n",
    "VRef_DAC = 58\n",
    "\n",
    "for Pixel_CB in Pixel_CBList:\n",
    "    setPixel (Preamp, Vld1_b, Pixel_CB, Filter_DAC, VRef_DAC)\n",
    "\n",
    "    ######################################################################################################################\n",
    "    # Remove previous dataset\n",
    "    filename = (f'/u2/ddoering/ASIC_V3_ASIC2_SB/ePixHR10kTLCLSIITiming_ASICV3_ASIC2_noise_320MHz_Preamp_%d_Vld1b_%d_PixelCB_%d_Filter_DAC_%d_VRrefdac_%d_run1.dat' % (Preamp, Vld1_b, Pixel_CB, Filter_DAC, VRef_DAC))\n",
    "    ########################################################################################################################\n",
    "    imgDesc = run_asic_test()\n",
    "    ########################################################################################################################\n",
    "    [noiseMap, darkAvg] = noise_print()"
   ]
  },
  {
   "cell_type": "code",
   "execution_count": null,
   "id": "5b72dbeb-6961-4987-8039-df683e013385",
   "metadata": {
    "tags": []
   },
   "outputs": [],
   "source": [
    "#Makes sure triggers are off\n",
    "root.EpixHR.TriggerRegisters.RunTriggerEnable.set(False)\n",
    "time.sleep(0.1)\n",
    "root.EpixHR.TriggerRegisters.RunTriggerEnable.set(True)\n",
    "time.sleep(0.1)\n",
    "root.EpixHR.TriggerRegisters.RunTriggerEnable.set(False)\n",
    "time.sleep(0.1)\n",
    "\n",
    "Preamp = 7\n",
    "Vld1_b = 0\n",
    "Pixel_CB= 7\n",
    "Filter_DACList=[7, 13, 15, 17, 19, 21, 27, 37, 47, 57]\n",
    "VRef_DAC = 58\n",
    "\n",
    "for Filter_DAC in Filter_DACList:\n",
    "    setPixel (Preamp, Vld1_b, Pixel_CB, Filter_DAC, VRef_DAC)\n",
    "\n",
    "    ######################################################################################################################\n",
    "    # Remove previous dataset\n",
    "    filename = (f'/u2/ddoering/ASIC_V3_ASIC2_SB/ePixHR10kTLCLSIITiming_ASICV3_ASIC2_noise_320MHz_Preamp_%d_Vld1b_%d_PixelCB_%d_Filter_DAC_%d_VRrefdac_%d_run1.dat' % (Preamp, Vld1_b, Pixel_CB, Filter_DAC, VRef_DAC))\n",
    "    ########################################################################################################################\n",
    "    imgDesc = run_asic_test()\n",
    "    ########################################################################################################################\n",
    "    [noiseMap, darkAvg] = noise_print()"
   ]
  },
  {
   "cell_type": "code",
   "execution_count": null,
   "id": "b6d4e441-45a4-4b47-990e-92b164af05ac",
   "metadata": {
    "tags": []
   },
   "outputs": [],
   "source": [
    "Preamp = 7\n",
    "Vld1_b = 0\n",
    "Pixel_CB= 7\n",
    "Filter_DAC= 17\n",
    "VRef_DACList =[3, 13, 23, 33, 43, 48, 53, 58, 63]\n",
    "\n",
    "for VRef_DAC in VRef_DACList:\n",
    "    setPixel (Preamp, Vld1_b, Pixel_CB, Filter_DAC, VRef_DAC)\n",
    "\n",
    "    ######################################################################################################################\n",
    "    # Remove previous dataset\n",
    "    filename = (f'/u2/ddoering/ASIC_V3_ASIC2_SB/ePixHR10kTLCLSIITiming_ASICV3_ASIC2_noise_320MHz_Preamp_%d_Vld1b_%d_PixelCB_%d_Filter_DAC_%d_VRrefdac_%d_run1.dat' % (Preamp, Vld1_b, Pixel_CB, Filter_DAC, VRef_DAC))\n",
    "    ########################################################################################################################\n",
    "    imgDesc = run_asic_test()\n",
    "    ########################################################################################################################\n",
    "    [noiseMap, darkAvg] = noise_print()"
   ]
  },
  {
   "cell_type": "markdown",
   "id": "97065a25-254f-4f8e-a6be-5ecc04fe396c",
   "metadata": {
    "tags": []
   },
   "source": [
    "# ADC Optimizaion"
   ]
  },
  {
   "cell_type": "code",
   "execution_count": null,
   "id": "2a280164-bed3-462d-bd62-b951d2b466bd",
   "metadata": {
    "tags": []
   },
   "outputs": [],
   "source": [
    "#Set pixels back to default value\n",
    "ASIC.Preamp.set(4)\n",
    "ASIC.Vld1_b.set(1)\n",
    "ASIC.Pixel_CB.set(4)\n",
    "ASIC.Filter_DAC.set(38)\n",
    "ASIC.VRef_DAC.set(53)\n",
    "\n",
    "print('Preamp', ASIC.Preamp.get())\n",
    "print('Vld1_b',ASIC.Vld1_b.get())\n",
    "print('Pixel_CB',ASIC.Pixel_CB.get())\n",
    "print('Filter_DAC',ASIC.Filter_DAC.get())\n",
    "print('VRef_DAC',ASIC.VRef_DAC.get())"
   ]
  },
  {
   "cell_type": "code",
   "execution_count": null,
   "id": "8eaf3499-d3ba-4f59-a3bb-e638dca81e31",
   "metadata": {
    "tags": []
   },
   "outputs": [],
   "source": [
    "def setADC (RefGenB = 3, RefGenC = 2, S2D_1_b = 0, shvc_DAC = 23, S2dDacBias = 3):\n",
    "    ASIC.RefGenB.set(RefGenB) #2 bits\n",
    "    ASIC.RefGenC.set(RefGenC) #2 bits\n",
    "    ASIC.S2D_1_b.set(S2D_1_b) #3 bits\n",
    "    ASIC.shvc_DAC.set(shvc_DAC) #6 bits\n",
    "    ASIC.S2dDacBias.set(S2dDacBias)\n",
    "    \n",
    "    print('RefGenB', ASIC.RefGenB.get())\n",
    "    print('RefGenC',ASIC.RefGenC.get())\n",
    "    print('S2D_1_b',ASIC.S2D_1_b.get())\n",
    "    print('shvc_DAC',ASIC.shvc_DAC.get())\n",
    "    print('S2dDacBias',ASIC.S2dDacBias.get())"
   ]
  },
  {
   "cell_type": "code",
   "execution_count": null,
   "id": "0eea51f2-da4c-42a4-951f-60515d8fd4d8",
   "metadata": {
    "tags": []
   },
   "outputs": [],
   "source": [
    "RefGenBList = [0, 1, 2, 3]\n",
    "RefGenC = 2\n",
    "S2D_1_b = 0\n",
    "shvc_DAC = 23\n",
    "S2dDacBias = 3\n",
    "for RefGenB in RefGenBList:\n",
    "    setADC (RefGenB, RefGenC, S2D_1_b, shvc_DAC, S2dDacBias)\n",
    "\n",
    "    ######################################################################################################################\n",
    "    # Remove previous dataset\n",
    "    filename = (f'/u1/ddoering/ePixHR10kTLCLSIITiming_ASICV3_noise_320MHz_RefGenB_%d_All_run1.dat' % RefGenB)\n",
    "    ########################################################################################################################\n",
    "    imgDesc = run_asic_test()\n",
    "    ########################################################################################################################\n",
    "    [noiseMap, darkAvg] = noise_print()\n",
    "\n"
   ]
  },
  {
   "cell_type": "code",
   "execution_count": null,
   "id": "cc412177-dcf8-4d66-848f-ab8a95c6ff8b",
   "metadata": {
    "tags": []
   },
   "outputs": [],
   "source": [
    "RefGenB = 3\n",
    "RefGenCList = [0, 1, 2, 3]\n",
    "S2D_1_b = 0\n",
    "shvc_DAC = 23\n",
    "S2dDacBias = 3\n",
    "for RefGenC in RefGenCList:\n",
    "    setADC (RefGenB, RefGenC, S2D_1_b, shvc_DAC, S2dDacBias)\n",
    "\n",
    "    ######################################################################################################################\n",
    "    # Remove previous dataset\n",
    "    filename = (f'/u1/ddoering/ePixHR10kTLCLSIITiming_ASICV3_noise_320MHz_RefGenC_%d_All_run1.dat' % RefGenC)\n",
    "    ########################################################################################################################\n",
    "    imgDesc = run_asic_test()\n",
    "    ########################################################################################################################\n",
    "    [noiseMap, darkAvg] = noise_print()\n"
   ]
  },
  {
   "cell_type": "code",
   "execution_count": null,
   "id": "c2b42660-5f3f-41e8-ae1e-e472f5fdd98d",
   "metadata": {
    "tags": []
   },
   "outputs": [],
   "source": [
    "RefGenB = 3\n",
    "RefGenC = 2\n",
    "S2D_1_bList = [0, 1, 2, 3, 4, 5, 6, 7]\n",
    "shvc_DAC = 23\n",
    "S2dDacBias = 3\n",
    "for S2D_1_b in S2D_1_bList:\n",
    "    setADC (RefGenB, RefGenC, S2D_1_b, shvc_DAC, S2dDacBias)\n",
    "\n",
    "    ######################################################################################################################\n",
    "    # Remove previous dataset\n",
    "    filename = (f'/u1/ddoering/ePixHR10kTLCLSIITiming_ASICV3_noise_320MHz_S2D_1_b_%d_All_run1.dat' % S2D_1_b)\n",
    "    ########################################################################################################################\n",
    "    imgDesc = run_asic_test()\n",
    "    ########################################################################################################################\n",
    "    [noiseMap, darkAvg] = noise_print()"
   ]
  },
  {
   "cell_type": "code",
   "execution_count": null,
   "id": "53e26612-458a-4386-9e74-b6725b6bba18",
   "metadata": {
    "tags": []
   },
   "outputs": [],
   "source": [
    "RefGenB = 3\n",
    "RefGenC = 2\n",
    "S2D_1_b = 0\n",
    "shvc_DACList = [3, 13, 23, 33, 43, 53, 63]\n",
    "S2dDacBias = 3\n",
    "for shvc_DAC in shvc_DACList:\n",
    "    setADC (RefGenB, RefGenC, S2D_1_b, shvc_DAC, S2dDacBias)\n",
    "\n",
    "    ######################################################################################################################\n",
    "    # Remove previous dataset\n",
    "    filename = (f'/u1/ddoering/ePixHR10kTLCLSIITiming_ASICV3_noise_320MHz_shvc_DAC_%d_All_run1.dat' % shvc_DAC)\n",
    "    ########################################################################################################################\n",
    "    imgDesc = run_asic_test()\n",
    "    ########################################################################################################################\n",
    "    [noiseMap, darkAvg] = noise_print()"
   ]
  },
  {
   "cell_type": "code",
   "execution_count": null,
   "id": "9f6719c8-28e4-4e4d-a600-d3ccbf423814",
   "metadata": {
    "tags": []
   },
   "outputs": [],
   "source": [
    "RefGenB = 3\n",
    "RefGenC = 2\n",
    "S2D_1_b = 0\n",
    "shvc_DAC = 23\n",
    "S2dDacBiasList = [0, 1, 2, 3, 4, 5, 6, 7]\n",
    "for S2dDacBias in S2dDacBiasList:\n",
    "    setADC (RefGenB, RefGenC, S2D_1_b, shvc_DAC, S2dDacBias)\n",
    "\n",
    "    ######################################################################################################################\n",
    "    # Remove previous dataset\n",
    "    filename = (f'/u1/ddoering/ePixHR10kTLCLSIITiming_ASICV3_noise_320MHz_S2dDacBias_%d_All_run1.dat' % S2dDacBias)\n",
    "    ########################################################################################################################\n",
    "    imgDesc = run_asic_test()\n",
    "    ########################################################################################################################\n",
    "    [noiseMap, darkAvg] = noise_print()"
   ]
  },
  {
   "cell_type": "markdown",
   "id": "d734147e-9c46-482c-98ca-81cf3db18ca0",
   "metadata": {
    "collapsed": true,
    "jupyter": {
     "outputs_hidden": true
    },
    "tags": []
   },
   "source": [
    "# Custom settings, repeat latest 10kA"
   ]
  },
  {
   "cell_type": "code",
   "execution_count": null,
   "id": "9f7158f5-b3b2-4dc2-8254-cc3a4de0fb93",
   "metadata": {},
   "outputs": [],
   "source": [
    "Preamp = 4\n",
    "Vld1_b = 1\n",
    "Pixel_CB= 4\n",
    "Filter_DAC=17\n",
    "VRef_DAC =19\n",
    "\n",
    "\n",
    "setPixel (Preamp, Vld1_b, Pixel_CB, Filter_DAC, VRef_DAC)\n",
    "\n",
    "######################################################################################################################\n",
    "# Remove previous dataset\n",
    "filename = (f'/u1/ddoering/ePixHR10kTLCLSIITiming_ASICV3_noise_320MHz_10ka_settings_All_run1.dat')\n",
    "########################################################################################################################\n",
    "imgDesc = run_asic_test()\n",
    "########################################################################################################################\n",
    "[noiseMap, darkAvg] = noise_print()\n"
   ]
  },
  {
   "cell_type": "code",
   "execution_count": null,
   "id": "da990aa2-d617-4cba-aff0-cbc6c213ba58",
   "metadata": {
    "tags": []
   },
   "outputs": [],
   "source": [
    "Preamp = 6\n",
    "Vld1_b = 1\n",
    "Pixel_CB= 4\n",
    "Filter_DAC=17\n",
    "VRef_DAC =53\n",
    "\n",
    "\n",
    "setPixel (Preamp, Vld1_b, Pixel_CB, Filter_DAC, VRef_DAC)\n",
    "\n",
    "######################################################################################################################\n",
    "# Remove previous dataset\n",
    "filename = (f'/u1/ddoering/ePixHR10kTLCLSIITiming_ASICV3_noise_320MHz_10ka_settings_Preamp_%d_VrefDAC_%d_All_run1.dat' % (Preamp , VRef_DAC))\n",
    "########################################################################################################################\n",
    "imgDesc = run_asic_test()\n",
    "########################################################################################################################\n",
    "[noiseMap, darkAvg] = noise_print()"
   ]
  },
  {
   "cell_type": "code",
   "execution_count": null,
   "id": "05ec3ef2-41e7-42d6-9304-141f64e97c75",
   "metadata": {},
   "outputs": [],
   "source": []
  }
 ],
 "metadata": {
  "kernelspec": {
   "display_name": "Python 3 (ipykernel)",
   "language": "python",
   "name": "python3"
  },
  "language_info": {
   "codemirror_mode": {
    "name": "ipython",
    "version": 3
   },
   "file_extension": ".py",
   "mimetype": "text/x-python",
   "name": "python",
   "nbconvert_exporter": "python",
   "pygments_lexer": "ipython3",
   "version": "3.9.18"
  }
 },
 "nbformat": 4,
 "nbformat_minor": 5
}
