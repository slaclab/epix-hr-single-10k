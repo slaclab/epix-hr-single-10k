{
 "cells": [
  {
   "cell_type": "code",
   "execution_count": 1,
   "id": "afe95d27-a75e-4e4b-a273-5e7348c4f986",
   "metadata": {
    "tags": []
   },
   "outputs": [],
   "source": [
    "# Setup the library\n",
    "import pyrogue as pr\n",
    "import os, sys\n",
    "import matplotlib.pyplot as plt\n",
    "import time\n",
    "import numpy as np\n",
    "import math\n",
    "\n",
    "top_level=f'{os.getcwd()}/../../..'\n",
    "pr.addLibraryPath( f'{top_level}/scripts' )\n",
    "import setupLibPaths\n",
    "import epix_hr_single_10k"
   ]
  },
  {
   "cell_type": "code",
   "execution_count": 2,
   "id": "73a91cdc-f4b6-4051-accd-fcfa3f258f57",
   "metadata": {
    "scrolled": true,
    "tags": []
   },
   "outputs": [
    {
     "name": "stdout",
     "output_type": "stream",
     "text": [
      "Simulation mode : True\n",
      "justCtrl mode : False\n",
      "Start: Started zmqServer on ports 9099-9101\n",
      "    To start a gui: python -m pyrogue gui --server='localhost:9099'\n",
      "    To use a virtual client: client = pyrogue.interfaces.VirtualClient(addr='localhost', port=9099)\n"
     ]
    }
   ],
   "source": [
    "# Create and start the root class\n",
    "root = epix_hr_single_10k.Root(\n",
    "    top_level   = top_level,\n",
    "    sim         = True,\n",
    "    dev         = '/dev/datadev_1',\n",
    "    asicVersion = 4,\n",
    "    pollEn      = False\n",
    ")\n",
    "root.start()"
   ]
  },
  {
   "cell_type": "code",
   "execution_count": 3,
   "id": "4b684e4b-b333-4ce0-83c4-deec2eb1bf3b",
   "metadata": {
    "tags": []
   },
   "outputs": [
    {
     "name": "stdout",
     "output_type": "stream",
     "text": [
      "###################################################\n",
      "#             Firmware Version                    #\n",
      "###################################################\n",
      "Path         = ePixHr10kT.Core.AxiVersion\n",
      "FwVersion    = 0x3010000\n",
      "UpTime       = 0:00:00\n",
      "GitHash      = dirty (uncommitted code)\n",
      "XilinxDnaId  = 0x400000000000000000000001\n",
      "FwTarget     = EpixHr10kTLclsIITiming\n",
      "BuildEnv     = Vivado v2023.1\n",
      "BuildServer  = rdsrv408 (CentOS Linux 7 (Core))\n",
      "BuildDate    = Fri Nov 22 14:04:42 PST 2024\n",
      "Builder      = ddoering\n",
      "###################################################\n"
     ]
    }
   ],
   "source": [
    "# Create useful pointers\n",
    "AxiVersion = root.Core.AxiVersion\n",
    "print ( '###################################################')\n",
    "print ( '#             Firmware Version                    #')\n",
    "print ( '###################################################')\n",
    "AxiVersion.printStatus()\n",
    "print ( '###################################################')"
   ]
  },
  {
   "cell_type": "code",
   "execution_count": 4,
   "id": "ea3de03a-0aeb-49a1-bb32-db0ed1f6ea8f",
   "metadata": {
    "tags": []
   },
   "outputs": [
    {
     "name": "stdout",
     "output_type": "stream",
     "text": [
      "Rysync ASIC started\n",
      "Init ASIC script started\n",
      "Loading MMCM configuration\n",
      "/u1/ddoering/localGit/epix-hr-single-10k/software/notebooks/ASIC_V4/pre-proc/../../../yml/ePixHr10kT_MMCM_320MHz.yml\n",
      "Completed\n",
      "Loading supply configuration\n",
      "/u1/ddoering/localGit/epix-hr-single-10k/software/notebooks/ASIC_V4/pre-proc/../../../yml/ePixHr10kT_PowerSupply_Enable.yml\n",
      "Loading register control (waveforms) configuration\n",
      "/u1/ddoering/localGit/epix-hr-single-10k/software/notebooks/ASIC_V4/pre-proc/../../../yml/ePixHr10kT_RegisterControl_24us_248MHz.yml\n",
      "Loading packet registers\n",
      "Disabling packet lanes for ASIC 0\n",
      "Disabling packet lanes for ASIC 1\n",
      "Disabling packet lanes for ASIC 2\n",
      "Disabling packet lanes for ASIC 3\n",
      "/u1/ddoering/localGit/epix-hr-single-10k/software/notebooks/ASIC_V4/pre-proc/../../../yml/ePixHr10kT_PacketRegisters.yml\n",
      "Taking asic off of reset\n",
      "Loading ASIC and timing configuration\n",
      "Loading Trigger settings\n",
      "/u1/ddoering/localGit/epix-hr-single-10k/software/notebooks/ASIC_V4/pre-proc/../../../yml/ePixHr10kT_TriggerRegisters_100Hz.yml\n",
      "Initialization routine completed.\n"
     ]
    }
   ],
   "source": [
    "#Initialze the camera\n",
    "#[routine, asic0, asic1, asic2, asic3]'\n",
    "root.EpixHR.InitASIC([4,0,0,0,0])\n",
    "#points to the ASIC device under test\n",
    "root.EpixHR.PacketRegisters0.asicDataReq.set(145)\n",
    "root.EpixHR.PacketRegisters1.asicDataReq.set(145)\n",
    "root.EpixHR.PacketRegisters0.DisableLane.set(0xfff)\n",
    "root.EpixHR.PacketRegisters0.EnumerateDisLane.set(0)"
   ]
  },
  {
   "cell_type": "code",
   "execution_count": 5,
   "id": "b16f5e2c-c58f-49c8-a7ba-a4ff80c3b065",
   "metadata": {},
   "outputs": [],
   "source": [
    "root.EpixHR.BatcherEventBuilder2.Bypass.set(1)\n",
    "root.EpixHR.BatcherEventBuilder2.Blowoff.set(False)\n"
   ]
  },
  {
   "cell_type": "code",
   "execution_count": 6,
   "id": "42ef51c6-effc-4441-90a2-90b7bebda5b6",
   "metadata": {},
   "outputs": [
    {
     "name": "stdout",
     "output_type": "stream",
     "text": [
      "Stop Triggers command executed\n"
     ]
    }
   ],
   "source": [
    "root.EpixHR.TriggerRegisters.StopTriggers()"
   ]
  },
  {
   "cell_type": "code",
   "execution_count": 7,
   "id": "86a26145-c5f9-48ca-b6d2-300bd11027e9",
   "metadata": {},
   "outputs": [],
   "source": [
    "imgRows = 145\n",
    "imgCols = 384\n",
    "darkHigh = np.ones((imgRows,imgCols),dtype=np.uint64)*10\n",
    "darkHigh[:, 10] = np.arange(imgRows)\n",
    "darkHigh[:,300] = np.arange(imgRows)\n",
    "darkHigh[0, :] = np.arange(384)\n",
    "darkHigh[10, :] = np.arange(384)\n",
    "darkHigh[100, :] = np.arange(384)\n",
    "darkHigh[110, :] = np.arange(384)\n",
    "gainHigh = np.ones((imgRows,imgCols),dtype=np.uint64)*0\n",
    "darkLow  = np.ones((imgRows,imgCols),dtype=np.uint64)*0\n",
    "gainLow  = np.ones((imgRows,imgCols),dtype=np.uint64)*0\n",
    "\n",
    "calibParams = root.dummyGen0.setCalibArray(gainLow,darkLow,gainHigh,darkHigh)\n",
    "root.dummyGen0.testImage = calibParams"
   ]
  },
  {
   "cell_type": "code",
   "execution_count": 8,
   "id": "cc9d47d6-6cb5-4933-924f-9f87ab93e360",
   "metadata": {},
   "outputs": [
    {
     "name": "stdout",
     "output_type": "stream",
     "text": [
      "Stop Triggers command executed\n",
      "0\n",
      "1\n",
      "ibFrame.getPayload() = 445440\n",
      "obFrame.getPayload() = 445472\n"
     ]
    }
   ],
   "source": [
    "root.EpixHR.TriggerRegisters.StopTriggers()\n",
    "#time.sleep(1)\n",
    "#HLS\n",
    "root.EpixHR.DataCorrectionHLS.enable.set(True)\n",
    "#root.dummyGen0.SendCalibFrame()\n",
    "print(root.EpixHR.DataCorrectionHLS.HLSAxiLileReg.get())\n",
    "root.EpixHR.DataCorrectionHLS.HLSAxiLileReg.set(1)\n",
    "print(root.EpixHR.DataCorrectionHLS.HLSAxiLileReg.get())\n",
    "# sending frame twice enable calib write\n",
    "root.dummyGen0.SendCalibFrame()\n",
    "#time.sleep(5)\n",
    "#root.dummyGen0.SendCalibFrame()\n",
    "#root.EpixHR.DataCorrectionHLS.HLSAxiLileReg.set(2)\n",
    "# sending fram after enables raw data in\n",
    "#root.dummyGen0.SendCalibFrame()"
   ]
  },
  {
   "cell_type": "code",
   "execution_count": 12,
   "id": "d9c537ec-2e39-4dd4-8166-d565d525f88c",
   "metadata": {},
   "outputs": [
    {
     "data": {
      "text/plain": [
       "445440"
      ]
     },
     "execution_count": 12,
     "metadata": {},
     "output_type": "execute_result"
    }
   ],
   "source": [
    "len(root.dummyGen1._fullData[32:])"
   ]
  },
  {
   "cell_type": "code",
   "execution_count": 33,
   "id": "403ad334-9023-473b-a8f3-04a98727ec3e",
   "metadata": {},
   "outputs": [
    {
     "name": "stdout",
     "output_type": "stream",
     "text": [
      "[  0   1   2   3   4   5   6   7   8   9  10  11  12  13  14  15  16  17\n",
      "  18  19  20  21  22  23  24  25  26  27  28  29  30  31  32  33  34  35\n",
      "  36  37  38  39  40  41  42  43  44  45  46  47  48  49  50  51  52  53\n",
      "  54  55  56  57  58  59  60  61  62  63  64  65  66  67  68  69  70  71\n",
      "  72  73  74  75  76  77  78  79  80  81  82  83  84  85  86  87  88  89\n",
      "  90  91  92  93  94  95  96  97  98  99 100 101 102 103 104 105 106 107\n",
      " 108 109 110 111 112 113 114 115 116 117 118 119 120 121 122 123 124 125\n",
      " 126 127 128 129 130 131 132 133 134 135 136 137 138 139 140 141 142 143\n",
      " 144 145 146 147 148 149 150 151 152 153 154 155 156 157 158 159 160 161\n",
      " 162 163 164 165 166 167 168 169 170 171 172 173 174 175 176 177 178 179\n",
      " 180 181 182 183 184 185 186 187 188 189 190 191 192 193 194 195 196 197\n",
      " 198 199 200 201 202 203 204 205 206 207 208 209 210 211 212 213 214 215\n",
      " 216 217 218 219 220 221 222 223 224 225 226 227 228 229 230 231 232 233\n",
      " 234 235 236 237 238 239 240 241 242 243 244 245 246 247 248 249 250 251\n",
      " 252 253 254 255 256 257 258 259 260 261 262 263 264 265 266 267 268 269\n",
      " 270 271 272 273 274 275 276 277 278 279 280 281 282 283 284 285 286 287\n",
      " 288 289 290 291 292 293 294 295 296 297 298 299 300 301 302 303 304 305\n",
      " 306 307 308 309 310 311 312 313 314 315 316 317 318 319 320 321 322 323\n",
      " 324 325 326 327 328 329 330 331 332 333 334 335 336 337 338 339 340 341\n",
      " 342 343 344 345 346 347 348 349 350 351 352 353 354 355 356 357 358 359\n",
      " 360 361 362 363 364 365 366 367 368 369 370 371 372 373 374 375 376 377\n",
      " 378 379 380 381 382 383]\n"
     ]
    },
    {
     "data": {
      "text/plain": [
       "[]"
      ]
     },
     "execution_count": 33,
     "metadata": {},
     "output_type": "execute_result"
    },
    {
     "data": {
      "image/png": "[encoded data removed]",
      "text/plain": [
       "<Figure size 640x480 with 1 Axes>"
      ]
     },
     "metadata": {},
     "output_type": "display_data"
    }
   ],
   "source": [
    "import struct\n",
    "result = np.zeros((imgRows,imgCols),dtype=np.uint64)\n",
    "for i in range(145):\n",
    "    for j in range (384):\n",
    "        result[i,j] = struct.unpack('<Q', root.dummyGen1._fullData[16+(i*384*8+j*8):24+(i*384*8+j*8)])[0]\n",
    "print(result.astype(np.uint16)[0,:])\n",
    "plt.figure()\n",
    "plt.imshow(result, cmap='gray', vmin=-40, vmax=40)\n",
    "plt.plot()"
   ]
  },
  {
   "cell_type": "code",
   "execution_count": null,
   "id": "62eae972-fb5e-4edb-bd7b-12cfb8b596f2",
   "metadata": {},
   "outputs": [],
   "source": [
    "root.EpixHR.DataCorrectionHLS.HLSAxiLileReg.get()"
   ]
  },
  {
   "cell_type": "code",
   "execution_count": null,
   "id": "7b11db9a-a8b7-43d4-a4d7-ed8830c0911e",
   "metadata": {},
   "outputs": [],
   "source": [
    "root.EpixHR.DataCorrectionHLS.HLSAxiLileReg.set(2)"
   ]
  },
  {
   "cell_type": "markdown",
   "id": "54098a92-b167-4c81-bf11-3506237b2b4a",
   "metadata": {
    "tags": []
   },
   "source": [
    "#use system with batcher and missing ASICs\n",
    "root.EpixHR.SspLowSpeedDecoderReg.enable.set(True)\n",
    "print (\"Locked lanes: %x\" % root.EpixHR.SspLowSpeedDecoderReg.Locked.get())\n",
    "#Only ASIC 1 is available so disable the 6 lower lanes\n",
    "#root.EpixHR.PacketRegisters0.DisableLane.set(0x3FF)\n",
    "#root.EpixHR.PacketRegisters1.DisableLane.set(0xFC0)\n",
    "#using internal triggers, so bypassing timing channel at the batcher \n",
    "root.EpixHR.BatcherEventBuilder0.Bypass.set(1)\n",
    "root.EpixHR.BatcherEventBuilder1.Bypass.set(1)"
   ]
  },
  {
   "cell_type": "markdown",
   "id": "384f9fae-390c-45f0-9c43-9f2020ae414c",
   "metadata": {},
   "source": [
    "root.EpixHR.PacketRegisters0.DisableLane.set(0)\n",
    "root.EpixHR.PacketRegisters1.DisableLane.set(0)\n",
    "root.EpixHR.RegisterControl.SR0Width1.set(24200)\n",
    "\n",
    "#Need to confirm clock used for trigger, R0, ACQ and SRO\n",
    "#Configure waveforms to be 12 and 24 us\n"
   ]
  },
  {
   "cell_type": "markdown",
   "id": "05ea410b-44dc-41e3-adfb-fb7784041985",
   "metadata": {},
   "source": [
    "root.EpixHR.TriggerRegisters.StopTriggers()\n",
    "root.EpixHR.RegisterControl.preProcCrtl.set(1);\n",
    "root.EpixHR.RegisterControl.preProcCrtl.set(0);"
   ]
  },
  {
   "cell_type": "code",
   "execution_count": null,
   "id": "d1da45a6-b992-4e60-b552-329cd747de14",
   "metadata": {
    "tags": []
   },
   "outputs": [],
   "source": [
    "root.EpixHR.TriggerRegisters.SetAutoTrigger(4000)\n",
    "root.EpixHR.TriggerRegisters.StartAutoTrigger()"
   ]
  },
  {
   "cell_type": "code",
   "execution_count": null,
   "id": "6c33c4f3-7cc6-431d-8316-8b126d317804",
   "metadata": {},
   "outputs": [],
   "source": [
    "print(root.DataReceiver0.FrameCount.get())\n",
    "dark = root.DataReceiver0.Data.get()\n",
    "print(dark.shape)\n",
    "plt.figure()\n",
    "plt.imshow(dark, cmap='gray', vmin=0, vmax=20)\n",
    "plt.plot()\n",
    "\n",
    "plt.figure()\n",
    "pre = root.DataReceiver2.Data.get().astype(np.int16)\n",
    "print(dark.shape)\n",
    "dark.shape\n",
    "plt.imshow(pre, cmap='gray', vmin=-40, vmax=40)\n",
    "plt.plot()\n",
    "print(pre[0,:])\n",
    "print(pre[72,:])"
   ]
  },
  {
   "cell_type": "code",
   "execution_count": null,
   "id": "2b94a3a5-d0ab-45d5-84be-46ddbca6daf7",
   "metadata": {},
   "outputs": [],
   "source": [
    "plt.figure()\n",
    "pre = root.DataReceiver2.Data.get().astype(np.int16)\n",
    "print(pre.shape)\n",
    "dark.shape\n",
    "plt.imshow(pre, cmap='gray', vmin=-40, vmax=40)\n",
    "plt.plot()\n",
    "#print(pre[0,:])\n",
    "#print(pre[72,:])"
   ]
  },
  {
   "cell_type": "code",
   "execution_count": null,
   "id": "43aa63bf-7630-4b92-8f68-99040226f753",
   "metadata": {},
   "outputs": [],
   "source": [
    "root.EpixHR.PacketRegisters0.EnumerateDisLane.set(0xfff)"
   ]
  },
  {
   "cell_type": "code",
   "execution_count": null,
   "id": "bb27960d-6a3c-4fcc-a647-e55a20d060a8",
   "metadata": {},
   "outputs": [],
   "source": [
    "print(root.DataReceiver0.FrameCount.get())\n",
    "dark = root.DataReceiver0.Data.get()\n",
    "print(dark.shape)\n",
    "plt.figure()\n",
    "plt.imshow(dark, cmap='gray', vmin=0, vmax=20)\n",
    "plt.plot()\n",
    "\n",
    "plt.figure()\n",
    "pre = root.DataReceiver2.Data.get().astype(np.int16)\n",
    "print(dark.shape)\n",
    "dark.shape\n",
    "plt.imshow(pre, cmap='gray', vmin=-400, vmax=20)\n",
    "plt.plot()"
   ]
  },
  {
   "cell_type": "markdown",
   "id": "f1dd8b12-a2f2-4e38-9147-6936cd2a64a7",
   "metadata": {
    "tags": []
   },
   "source": [
    "# Helper functions"
   ]
  },
  {
   "cell_type": "code",
   "execution_count": null,
   "id": "e9e49de8-3fc4-46de-86e4-d74bad616fd7",
   "metadata": {
    "tags": []
   },
   "outputs": [],
   "source": [
    "def run_asic_test():\n",
    "    if os.path.isfile(f'{filename}'):   \n",
    "        os.remove(f'{filename}')    \n",
    "    print(filename)\n",
    "    # Setup and open the file writer\n",
    "    writer = root.dataWriter._writer\n",
    "    writer.open(f'{filename}')\n",
    "\n",
    "    # Wait for the file write to open the file\n",
    "    while( writer.isOpen() is False):\n",
    "        time.sleep(0.1)\n",
    "\n",
    "    # Wait a little bit for the file to open up\n",
    "    time.sleep(1.0)    \n",
    "\n",
    "    #sets TriggerRegisters\n",
    "    AcqCount = root.EpixHR.TriggerRegisters.AcqCount.get()\n",
    "    print(\"Aquisition Counter \" + str(AcqCount))\n",
    "    root.EpixHR.TriggerRegisters.AutoTrigPeriod.set(50000) #in steps of 10ns\n",
    "    root.EpixHR.TriggerRegisters.AutoRunEn.set(True)\n",
    "    root.EpixHR.TriggerRegisters.RunTriggerEnable.set(True)\n",
    "    #wait for the camera to get thermally stable\n",
    "    time.sleep(5.0)    \n",
    "    root.EpixHR.TriggerRegisters.AutoDaqEn.set(True)\n",
    "    root.EpixHR.TriggerRegisters.DaqTriggerEnable.set(True)\n",
    "    initialFrameCounter = writer.getFrameCount()\n",
    "    # Wait for the file write noise data\n",
    "    while(writer.getFrameCount() < initialFrameCounter + 4000):\n",
    "        print( f'Number of frames received: {writer.getFrameCount()}' )\n",
    "        time.sleep(1)\n",
    "\n",
    "    # stops triggers\n",
    "    root.EpixHR.TriggerRegisters.RunTriggerEnable.set(False)\n",
    "    time.sleep(0.1)\n",
    "\n",
    "    # Print the status\n",
    "    DeltaAcqCount = root.EpixHR.TriggerRegisters.AcqCount.get() - AcqCount\n",
    "    #print( f'Delta Aquisition Counter: {DeltaAcqCount}')\n",
    "    print( f'Number of frames received: {writer.getFrameCount()}' )\n",
    "\n",
    "    # Close the file writer\n",
    "    writer.close()\n",
    "\n",
    "    # Wait for the file write to close the file\n",
    "    while( writer.isOpen() is True):\n",
    "        time.sleep(0.1)\n",
    "\n",
    "    ########################################################################################################################3\n",
    "    f = open(filename, mode = 'rb')\n",
    "    imgDesc = []\n",
    "    for i in range(1):\n",
    "        print(\"Starting to get data set %d\" % (i))\n",
    "        allFrames = currentCam.getData(f,16)\n",
    "        imgDesc2 = currentCam.getDescImaData(allFrames)\n",
    "        if i == 0:\n",
    "            headers = allFrames[:,0:6]\n",
    "            imgDesc = imgDesc2\n",
    "        if i == 1: #skips the first dataset\n",
    "            headers = allFrames[:,0:6]\n",
    "            imgDesc = imgDesc2\n",
    "        else:\n",
    "            headers = np.concatenate((headers, allFrames[:,0:6]),0)\n",
    "            imgDesc = np.concatenate((imgDesc, imgDesc2),0)\n",
    "        if allFrames.shape[0] != MAX_NUMBER_OF_FRAMES_PER_BATCH:\n",
    "            break\n",
    "\n",
    "\n",
    "    numberOfFrames = allFrames.shape[0]\n",
    "    print(allFrames.shape)\n",
    "    ###########################################################################################################################\n",
    "    return imgDesc\n"
   ]
  },
  {
   "cell_type": "code",
   "execution_count": null,
   "id": "d925dd6a-bd42-4906-8a07-694fd96fa21b",
   "metadata": {
    "tags": []
   },
   "outputs": [],
   "source": [
    "def noise_print(offset = 0):\n",
    "    print(imgDesc[100].shape)\n",
    "    hg_n  = imgDesc[:,:,offset:offset+192].astype('float64')\n",
    "    hg_n -= np.median(hg_n, axis=0, keepdims=True)\n",
    "    hg_n -= np.median(hg_n, axis=(1,2), keepdims=True)\n",
    "    hg_n -= np.median(hg_n, axis=2, keepdims=True) # rows (cols)\n",
    "    hg_n -= np.median(hg_n, axis=1, keepdims=True) # cols (rows)\n",
    "    imgDescCMC = hg_n\n",
    "    noiseMap = np.std(imgDescCMC,0)\n",
    "    darkAvg  = np.mean(imgDesc,0)\n",
    "    \n",
    "    #noiseMap = np.std(imgDesc[:,:,offset:offset+192],0)\n",
    "    #darkAvg  = np.mean(imgDesc[:,:,192:384],0)\n",
    "    medianNoise = np.median(noiseMap)\n",
    "    plt.figure(1,figsize=(12,8),dpi=150)\n",
    "    plt.imshow(noiseMap, cmap='gray', vmin=0, vmax=100)\n",
    "    plt.colorbar(location='right', anchor=(0, 0.3), shrink=0.7)\n",
    "\n",
    "    plt.figure(2,figsize=(12,8),dpi=150)\n",
    "    dataset = noiseMap\n",
    "    plt.hist(dataset.reshape(-1), bins=100, label=f'\\nNoise Map distribution AHL, Avg. Dark level w/o CMC %d, Mediam Noise %d' % (np.mean(np.mean(darkAvg)), medianNoise)) \n",
    "    plt.yscale('log')\n",
    "    plt.title(\"histogram\") \n",
    "    plt.legend()\n",
    "    plt.show()\n",
    "    print()\n",
    "    return noiseMap, darkAvg"
   ]
  },
  {
   "cell_type": "markdown",
   "id": "799b4e0e-52cc-4e5a-b730-a3dec01affbc",
   "metadata": {
    "tags": []
   },
   "source": [
    "# Pixel Optimizaion"
   ]
  },
  {
   "cell_type": "code",
   "execution_count": null,
   "id": "4694fc47-1295-41ca-9d87-58dfe441d613",
   "metadata": {
    "tags": []
   },
   "outputs": [],
   "source": [
    "def setPixel (Preamp = 4, Vld1_b = 1, Pixel_CB = 4, Filter_DAC = 38, VRef_DAC = 53):\n",
    "    ASIC.Preamp.set(Preamp)\n",
    "    ASIC.Vld1_b.set(Vld1_b)\n",
    "    ASIC.Pixel_CB.set(Pixel_CB)\n",
    "    ASIC.Filter_DAC.set(Filter_DAC)\n",
    "    ASIC.VRef_DAC.set(VRef_DAC)\n",
    "\n",
    "\n",
    "    print('Preamp', ASIC.Preamp.get())\n",
    "    print('Vld1_b',ASIC.Vld1_b.get())\n",
    "    print('Pixel_CB',ASIC.Pixel_CB.get())\n",
    "    print('Filter_DAC',ASIC.Filter_DAC.get())\n",
    "    print('VRef_DAC',ASIC.VRef_DAC.get())"
   ]
  },
  {
   "cell_type": "code",
   "execution_count": null,
   "id": "0523d947-90fc-466c-a1cd-c642290de3eb",
   "metadata": {},
   "outputs": [],
   "source": [
    "MAX_NUMBER_OF_FRAMES_PER_BATCH  = 1000\n",
    "cameraType            = 'ePixHr10kTBatcher'\n",
    "bitMask               = 0xffff\n",
    "currentCam = cameras.Camera(cameraType = cameraType)\n",
    "currentCam.bitMask = bitMask"
   ]
  },
  {
   "cell_type": "code",
   "execution_count": null,
   "id": "dc9844e4-e796-4aab-aa35-e91c0dec07e8",
   "metadata": {
    "tags": []
   },
   "outputs": [],
   "source": [
    "#Makes sure triggers are off\n",
    "root.EpixHR.TriggerRegisters.RunTriggerEnable.set(False)\n",
    "time.sleep(0.2)\n",
    "root.EpixHR.TriggerRegisters.RunTriggerEnable.set(True)\n",
    "time.sleep(0.2)\n",
    "root.EpixHR.TriggerRegisters.RunTriggerEnable.set(False)\n",
    "time.sleep(0.2)\n",
    "\n",
    "PreampList = [7,6,5,4,3,2,1,0]\n",
    "Vld1_b = 0\n",
    "Pixel_CB= 7\n",
    "Filter_DAC= 17\n",
    "VRef_DAC = 58\n",
    "\n",
    "for Preamp in PreampList:\n",
    "    setPixel (Preamp, Vld1_b, Pixel_CB, Filter_DAC, VRef_DAC)\n",
    "\n",
    "    ######################################################################################################################\n",
    "    # Remove previous dataset\n",
    "    filename = (f'/u2/ddoering/ASIC_V4_ASIC2_SB/ePixHR10kTLCLSIITiming_ASICV3_ASIC2_noise_320MHz_Preamp_%d_Vld1b_%d_PixelCB_%d_Filter_DAC_%d_VRrefdac_%d_run1.dat' % (Preamp, Vld1_b, Pixel_CB, Filter_DAC, VRef_DAC))\n",
    "    ########################################################################################################################\n",
    "    imgDesc = run_asic_test()\n",
    "    ########################################################################################################################\n",
    "    [noiseMap, darkAvg] = noise_print()"
   ]
  },
  {
   "cell_type": "code",
   "execution_count": null,
   "id": "438e44f4-b5f7-4cff-bc48-b942ed6b2c38",
   "metadata": {
    "tags": []
   },
   "outputs": [],
   "source": [
    "#Makes sure triggers are off\n",
    "root.EpixHR.TriggerRegisters.RunTriggerEnable.set(False)\n",
    "time.sleep(0.1)\n",
    "root.EpixHR.TriggerRegisters.RunTriggerEnable.set(True)\n",
    "time.sleep(0.1)\n",
    "root.EpixHR.TriggerRegisters.RunTriggerEnable.set(False)\n",
    "time.sleep(0.1)\n",
    "\n",
    "Preamp = 7\n",
    "Vld1_bList = [0, 1, 2, 3]\n",
    "Pixel_CB= 7\n",
    "Filter_DAC= 17\n",
    "VRef_DAC = 58\n",
    "\n",
    "for Vld1_b in Vld1_bList:\n",
    "    setPixel (Preamp, Vld1_b, Pixel_CB, Filter_DAC, VRef_DAC)\n",
    "\n",
    "    ######################################################################################################################\n",
    "    # Remove previous dataset\n",
    "    filename = (f'/u2/ddoering/ASIC_V3_ASIC2_SB/ePixHR10kTLCLSIITiming_ASICV3_ASIC2_noise_320MHz_Preamp_%d_Vld1b_%d_PixelCB_%d_Filter_DAC_%d_VRrefdac_%d_run1.dat' % (Preamp, Vld1_b, Pixel_CB, Filter_DAC, VRef_DAC))\n",
    "    ########################################################################################################################\n",
    "    imgDesc = run_asic_test()\n",
    "    ########################################################################################################################\n",
    "    [noiseMap, darkAvg] = noise_print()"
   ]
  },
  {
   "cell_type": "code",
   "execution_count": null,
   "id": "20093272-9dd6-4317-87e7-c91d5f38f6e0",
   "metadata": {
    "tags": []
   },
   "outputs": [],
   "source": [
    "#Makes sure triggers are off\n",
    "root.EpixHR.TriggerRegisters.RunTriggerEnable.set(False)\n",
    "time.sleep(0.1)\n",
    "root.EpixHR.TriggerRegisters.RunTriggerEnable.set(True)\n",
    "time.sleep(0.1)\n",
    "root.EpixHR.TriggerRegisters.RunTriggerEnable.set(False)\n",
    "time.sleep(0.1)\n",
    "\n",
    "Preamp = 7\n",
    "Vld1_b = 0\n",
    "Pixel_CBList= [7,6,5,4,3,2,1,0]\n",
    "Filter_DAC= 17\n",
    "VRef_DAC = 58\n",
    "\n",
    "for Pixel_CB in Pixel_CBList:\n",
    "    setPixel (Preamp, Vld1_b, Pixel_CB, Filter_DAC, VRef_DAC)\n",
    "\n",
    "    ######################################################################################################################\n",
    "    # Remove previous dataset\n",
    "    filename = (f'/u2/ddoering/ASIC_V3_ASIC2_SB/ePixHR10kTLCLSIITiming_ASICV3_ASIC2_noise_320MHz_Preamp_%d_Vld1b_%d_PixelCB_%d_Filter_DAC_%d_VRrefdac_%d_run1.dat' % (Preamp, Vld1_b, Pixel_CB, Filter_DAC, VRef_DAC))\n",
    "    ########################################################################################################################\n",
    "    imgDesc = run_asic_test()\n",
    "    ########################################################################################################################\n",
    "    [noiseMap, darkAvg] = noise_print()"
   ]
  },
  {
   "cell_type": "code",
   "execution_count": null,
   "id": "5b72dbeb-6961-4987-8039-df683e013385",
   "metadata": {
    "tags": []
   },
   "outputs": [],
   "source": [
    "#Makes sure triggers are off\n",
    "root.EpixHR.TriggerRegisters.RunTriggerEnable.set(False)\n",
    "time.sleep(0.1)\n",
    "root.EpixHR.TriggerRegisters.RunTriggerEnable.set(True)\n",
    "time.sleep(0.1)\n",
    "root.EpixHR.TriggerRegisters.RunTriggerEnable.set(False)\n",
    "time.sleep(0.1)\n",
    "\n",
    "Preamp = 7\n",
    "Vld1_b = 0\n",
    "Pixel_CB= 7\n",
    "Filter_DACList=[7, 13, 15, 17, 19, 21, 27, 37, 47, 57]\n",
    "VRef_DAC = 58\n",
    "\n",
    "for Filter_DAC in Filter_DACList:\n",
    "    setPixel (Preamp, Vld1_b, Pixel_CB, Filter_DAC, VRef_DAC)\n",
    "\n",
    "    ######################################################################################################################\n",
    "    # Remove previous dataset\n",
    "    filename = (f'/u2/ddoering/ASIC_V3_ASIC2_SB/ePixHR10kTLCLSIITiming_ASICV3_ASIC2_noise_320MHz_Preamp_%d_Vld1b_%d_PixelCB_%d_Filter_DAC_%d_VRrefdac_%d_run1.dat' % (Preamp, Vld1_b, Pixel_CB, Filter_DAC, VRef_DAC))\n",
    "    ########################################################################################################################\n",
    "    imgDesc = run_asic_test()\n",
    "    ########################################################################################################################\n",
    "    [noiseMap, darkAvg] = noise_print()"
   ]
  },
  {
   "cell_type": "code",
   "execution_count": null,
   "id": "b6d4e441-45a4-4b47-990e-92b164af05ac",
   "metadata": {
    "tags": []
   },
   "outputs": [],
   "source": [
    "Preamp = 7\n",
    "Vld1_b = 0\n",
    "Pixel_CB= 7\n",
    "Filter_DAC= 17\n",
    "VRef_DACList =[3, 13, 23, 33, 43, 48, 53, 58, 63]\n",
    "\n",
    "for VRef_DAC in VRef_DACList:\n",
    "    setPixel (Preamp, Vld1_b, Pixel_CB, Filter_DAC, VRef_DAC)\n",
    "\n",
    "    ######################################################################################################################\n",
    "    # Remove previous dataset\n",
    "    filename = (f'/u2/ddoering/ASIC_V3_ASIC2_SB/ePixHR10kTLCLSIITiming_ASICV3_ASIC2_noise_320MHz_Preamp_%d_Vld1b_%d_PixelCB_%d_Filter_DAC_%d_VRrefdac_%d_run1.dat' % (Preamp, Vld1_b, Pixel_CB, Filter_DAC, VRef_DAC))\n",
    "    ########################################################################################################################\n",
    "    imgDesc = run_asic_test()\n",
    "    ########################################################################################################################\n",
    "    [noiseMap, darkAvg] = noise_print()"
   ]
  },
  {
   "cell_type": "markdown",
   "id": "97065a25-254f-4f8e-a6be-5ecc04fe396c",
   "metadata": {
    "tags": []
   },
   "source": [
    "# ADC Optimizaion"
   ]
  },
  {
   "cell_type": "code",
   "execution_count": null,
   "id": "2a280164-bed3-462d-bd62-b951d2b466bd",
   "metadata": {
    "tags": []
   },
   "outputs": [],
   "source": [
    "#Set pixels back to default value\n",
    "ASIC.Preamp.set(4)\n",
    "ASIC.Vld1_b.set(1)\n",
    "ASIC.Pixel_CB.set(4)\n",
    "ASIC.Filter_DAC.set(38)\n",
    "ASIC.VRef_DAC.set(53)\n",
    "\n",
    "print('Preamp', ASIC.Preamp.get())\n",
    "print('Vld1_b',ASIC.Vld1_b.get())\n",
    "print('Pixel_CB',ASIC.Pixel_CB.get())\n",
    "print('Filter_DAC',ASIC.Filter_DAC.get())\n",
    "print('VRef_DAC',ASIC.VRef_DAC.get())"
   ]
  },
  {
   "cell_type": "code",
   "execution_count": null,
   "id": "8eaf3499-d3ba-4f59-a3bb-e638dca81e31",
   "metadata": {
    "tags": []
   },
   "outputs": [],
   "source": [
    "def setADC (RefGenB = 3, RefGenC = 2, S2D_1_b = 0, shvc_DAC = 23, S2dDacBias = 3):\n",
    "    ASIC.RefGenB.set(RefGenB) #2 bits\n",
    "    ASIC.RefGenC.set(RefGenC) #2 bits\n",
    "    ASIC.S2D_1_b.set(S2D_1_b) #3 bits\n",
    "    ASIC.shvc_DAC.set(shvc_DAC) #6 bits\n",
    "    ASIC.S2dDacBias.set(S2dDacBias)\n",
    "    \n",
    "    print('RefGenB', ASIC.RefGenB.get())\n",
    "    print('RefGenC',ASIC.RefGenC.get())\n",
    "    print('S2D_1_b',ASIC.S2D_1_b.get())\n",
    "    print('shvc_DAC',ASIC.shvc_DAC.get())\n",
    "    print('S2dDacBias',ASIC.S2dDacBias.get())"
   ]
  },
  {
   "cell_type": "code",
   "execution_count": null,
   "id": "0eea51f2-da4c-42a4-951f-60515d8fd4d8",
   "metadata": {
    "tags": []
   },
   "outputs": [],
   "source": [
    "RefGenBList = [0, 1, 2, 3]\n",
    "RefGenC = 2\n",
    "S2D_1_b = 0\n",
    "shvc_DAC = 23\n",
    "S2dDacBias = 3\n",
    "for RefGenB in RefGenBList:\n",
    "    setADC (RefGenB, RefGenC, S2D_1_b, shvc_DAC, S2dDacBias)\n",
    "\n",
    "    ######################################################################################################################\n",
    "    # Remove previous dataset\n",
    "    filename = (f'/u1/ddoering/ePixHR10kTLCLSIITiming_ASICV3_noise_320MHz_RefGenB_%d_All_run1.dat' % RefGenB)\n",
    "    ########################################################################################################################\n",
    "    imgDesc = run_asic_test()\n",
    "    ########################################################################################################################\n",
    "    [noiseMap, darkAvg] = noise_print()\n",
    "\n"
   ]
  },
  {
   "cell_type": "code",
   "execution_count": null,
   "id": "cc412177-dcf8-4d66-848f-ab8a95c6ff8b",
   "metadata": {
    "tags": []
   },
   "outputs": [],
   "source": [
    "RefGenB = 3\n",
    "RefGenCList = [0, 1, 2, 3]\n",
    "S2D_1_b = 0\n",
    "shvc_DAC = 23\n",
    "S2dDacBias = 3\n",
    "for RefGenC in RefGenCList:\n",
    "    setADC (RefGenB, RefGenC, S2D_1_b, shvc_DAC, S2dDacBias)\n",
    "\n",
    "    ######################################################################################################################\n",
    "    # Remove previous dataset\n",
    "    filename = (f'/u1/ddoering/ePixHR10kTLCLSIITiming_ASICV3_noise_320MHz_RefGenC_%d_All_run1.dat' % RefGenC)\n",
    "    ########################################################################################################################\n",
    "    imgDesc = run_asic_test()\n",
    "    ########################################################################################################################\n",
    "    [noiseMap, darkAvg] = noise_print()\n"
   ]
  },
  {
   "cell_type": "code",
   "execution_count": null,
   "id": "c2b42660-5f3f-41e8-ae1e-e472f5fdd98d",
   "metadata": {
    "tags": []
   },
   "outputs": [],
   "source": [
    "RefGenB = 3\n",
    "RefGenC = 2\n",
    "S2D_1_bList = [0, 1, 2, 3, 4, 5, 6, 7]\n",
    "shvc_DAC = 23\n",
    "S2dDacBias = 3\n",
    "for S2D_1_b in S2D_1_bList:\n",
    "    setADC (RefGenB, RefGenC, S2D_1_b, shvc_DAC, S2dDacBias)\n",
    "\n",
    "    ######################################################################################################################\n",
    "    # Remove previous dataset\n",
    "    filename = (f'/u1/ddoering/ePixHR10kTLCLSIITiming_ASICV3_noise_320MHz_S2D_1_b_%d_All_run1.dat' % S2D_1_b)\n",
    "    ########################################################################################################################\n",
    "    imgDesc = run_asic_test()\n",
    "    ########################################################################################################################\n",
    "    [noiseMap, darkAvg] = noise_print()"
   ]
  },
  {
   "cell_type": "code",
   "execution_count": null,
   "id": "53e26612-458a-4386-9e74-b6725b6bba18",
   "metadata": {
    "tags": []
   },
   "outputs": [],
   "source": [
    "RefGenB = 3\n",
    "RefGenC = 2\n",
    "S2D_1_b = 0\n",
    "shvc_DACList = [3, 13, 23, 33, 43, 53, 63]\n",
    "S2dDacBias = 3\n",
    "for shvc_DAC in shvc_DACList:\n",
    "    setADC (RefGenB, RefGenC, S2D_1_b, shvc_DAC, S2dDacBias)\n",
    "\n",
    "    ######################################################################################################################\n",
    "    # Remove previous dataset\n",
    "    filename = (f'/u1/ddoering/ePixHR10kTLCLSIITiming_ASICV3_noise_320MHz_shvc_DAC_%d_All_run1.dat' % shvc_DAC)\n",
    "    ########################################################################################################################\n",
    "    imgDesc = run_asic_test()\n",
    "    ########################################################################################################################\n",
    "    [noiseMap, darkAvg] = noise_print()"
   ]
  },
  {
   "cell_type": "code",
   "execution_count": null,
   "id": "9f6719c8-28e4-4e4d-a600-d3ccbf423814",
   "metadata": {
    "tags": []
   },
   "outputs": [],
   "source": [
    "RefGenB = 3\n",
    "RefGenC = 2\n",
    "S2D_1_b = 0\n",
    "shvc_DAC = 23\n",
    "S2dDacBiasList = [0, 1, 2, 3, 4, 5, 6, 7]\n",
    "for S2dDacBias in S2dDacBiasList:\n",
    "    setADC (RefGenB, RefGenC, S2D_1_b, shvc_DAC, S2dDacBias)\n",
    "\n",
    "    ######################################################################################################################\n",
    "    # Remove previous dataset\n",
    "    filename = (f'/u1/ddoering/ePixHR10kTLCLSIITiming_ASICV3_noise_320MHz_S2dDacBias_%d_All_run1.dat' % S2dDacBias)\n",
    "    ########################################################################################################################\n",
    "    imgDesc = run_asic_test()\n",
    "    ########################################################################################################################\n",
    "    [noiseMap, darkAvg] = noise_print()"
   ]
  },
  {
   "cell_type": "markdown",
   "id": "d734147e-9c46-482c-98ca-81cf3db18ca0",
   "metadata": {
    "collapsed": true,
    "jupyter": {
     "outputs_hidden": true
    },
    "tags": []
   },
   "source": [
    "# Custom settings, repeat latest 10kA"
   ]
  },
  {
   "cell_type": "code",
   "execution_count": null,
   "id": "9f7158f5-b3b2-4dc2-8254-cc3a4de0fb93",
   "metadata": {},
   "outputs": [],
   "source": [
    "Preamp = 4\n",
    "Vld1_b = 1\n",
    "Pixel_CB= 4\n",
    "Filter_DAC=17\n",
    "VRef_DAC =19\n",
    "\n",
    "\n",
    "setPixel (Preamp, Vld1_b, Pixel_CB, Filter_DAC, VRef_DAC)\n",
    "\n",
    "######################################################################################################################\n",
    "# Remove previous dataset\n",
    "filename = (f'/u1/ddoering/ePixHR10kTLCLSIITiming_ASICV3_noise_320MHz_10ka_settings_All_run1.dat')\n",
    "########################################################################################################################\n",
    "imgDesc = run_asic_test()\n",
    "########################################################################################################################\n",
    "[noiseMap, darkAvg] = noise_print()\n"
   ]
  },
  {
   "cell_type": "code",
   "execution_count": null,
   "id": "da990aa2-d617-4cba-aff0-cbc6c213ba58",
   "metadata": {
    "tags": []
   },
   "outputs": [],
   "source": [
    "Preamp = 6\n",
    "Vld1_b = 1\n",
    "Pixel_CB= 4\n",
    "Filter_DAC=17\n",
    "VRef_DAC =53\n",
    "\n",
    "\n",
    "setPixel (Preamp, Vld1_b, Pixel_CB, Filter_DAC, VRef_DAC)\n",
    "\n",
    "######################################################################################################################\n",
    "# Remove previous dataset\n",
    "filename = (f'/u1/ddoering/ePixHR10kTLCLSIITiming_ASICV3_noise_320MHz_10ka_settings_Preamp_%d_VrefDAC_%d_All_run1.dat' % (Preamp , VRef_DAC))\n",
    "########################################################################################################################\n",
    "imgDesc = run_asic_test()\n",
    "########################################################################################################################\n",
    "[noiseMap, darkAvg] = noise_print()"
   ]
  },
  {
   "cell_type": "code",
   "execution_count": null,
   "id": "05ec3ef2-41e7-42d6-9304-141f64e97c75",
   "metadata": {},
   "outputs": [],
   "source": []
  }
 ],
 "metadata": {
  "kernelspec": {
   "display_name": "Python 3 (ipykernel)",
   "language": "python",
   "name": "python3"
  },
  "language_info": {
   "codemirror_mode": {
    "name": "ipython",
    "version": 3
   },
   "file_extension": ".py",
   "mimetype": "text/x-python",
   "name": "python",
   "nbconvert_exporter": "python",
   "pygments_lexer": "ipython3",
   "version": "3.9.18"
  }
 },
 "nbformat": 4,
 "nbformat_minor": 5
}
